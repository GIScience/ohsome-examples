{
 "cells": [
  {
   "cell_type": "markdown",
   "id": "inside-matthew",
   "metadata": {},
   "source": [
    "# ohsome green regions (via tree related tags)\n",
    "\n",
    "Welcome back to the ohsome region of the month format where you can learn and get inspiration about potential applications of the [ohsome API](https://docs.ohsome.org/ohsome-api/v1/). This time we looked at forests, in four different Canadian regions (Edmonton, Halifax, Ottawa and Vancouver) looking for the green region of the month, which means there will be a winner announced at the end of this blog post. \n",
    "This time, the analysis will be done via jupyter notebook using the python programming language."
   ]
  },
  {
   "cell_type": "markdown",
   "id": "appropriate-balloon",
   "metadata": {},
   "source": [
    "### **1. Data** \n",
    "\n",
    "As always there is no request without input information and, concerning the boundaries of the request, you can get a GeoJSON with region boundaries [here](https://osm-boundaries.com). This file will be used as spatial input to add the information of the boundaries of your request.\n",
    "\n",
    "\n",
    "### **2: Import of libraries**\n",
    "\n",
    "At first, you'll have to import libraries that will help you handle the data later on. This includes a range of things, being it sending the get/post request itself or plotting the output data.\n",
    "\n",
    "_e.g.: numpy for stats, pandas for analytics or json for simply handling json-files as you will see further down in the code_"
   ]
  },
  {
   "cell_type": "code",
   "execution_count": 11,
   "id": "overall-iraqi",
   "metadata": {},
   "outputs": [
    {
     "data": {
      "text/html": [
       "        <script type=\"text/javascript\">\n",
       "        window.PlotlyConfig = {MathJaxConfig: 'local'};\n",
       "        if (window.MathJax) {MathJax.Hub.Config({SVG: {font: \"STIX-Web\"}});}\n",
       "        if (typeof require !== 'undefined') {\n",
       "        require.undef(\"plotly\");\n",
       "        requirejs.config({\n",
       "            paths: {\n",
       "                'plotly': ['https://cdn.plot.ly/plotly-latest.min']\n",
       "            }\n",
       "        });\n",
       "        require(['plotly'], function(Plotly) {\n",
       "            window._Plotly = Plotly;\n",
       "        });\n",
       "        }\n",
       "        </script>\n",
       "        "
      ]
     },
     "metadata": {},
     "output_type": "display_data"
    }
   ],
   "source": [
    "# import of useful libraries for the analysis (e.g. pandas -> analysis, \n",
    "# json -> for handling json responses)\n",
    "\n",
    "import pandas as pd\n",
    "import geopandas as gpd\n",
    "import numpy as np\n",
    "import json\n",
    "import geojson\n",
    "import requests\n",
    "import plotly\n",
    "import IPython\n",
    "import matplotlib.pyplot as plt\n",
    "\n",
    "\n",
    "# for generating interactive graphs\n",
    "import plotly.graph_objs as go\n",
    "\n",
    "from IPython.display import *\n",
    "from geojson import MultiPolygon\n",
    "\n",
    "plotly.offline.init_notebook_mode(connected=True)"
   ]
  },
  {
   "cell_type": "markdown",
   "id": "silent-medicare",
   "metadata": {},
   "source": [
    "### **3: Defining a function and the spatial & temporal boundaries**\n",
    "\n",
    "Then you'll have to define the spatial and temporal boundaries of the request you intend to send. Begin by defining a variable for the ohsome API as well as a function to help building your request.\n",
    "Below you will realize that two functions have been defined as there will be two different types of requests, quite similar to the ones sent in the [ohsome street network analysis](http://k1z.blog.uni-heidelberg.de/2021/01/18/ohsome-street-network-analysis-part-1/). But more information is to be found in the next step of this blog post."
   ]
  },
  {
   "cell_type": "code",
   "execution_count": 12,
   "id": "specialized-henry",
   "metadata": {},
   "outputs": [],
   "source": [
    "#set a variable for the API\n",
    "ohsome_api = \"https://api.ohsome.org/v1\"         \n",
    "\n",
    "# define a functions for the filters\n",
    "def elements(agg,**params):\n",
    "    return requests.post(ohsome_api+\"/elements\"+agg,params)\n",
    "\n",
    "def users(agg,**params):\n",
    "    return requests.post(ohsome_api+\"/users\"+agg,params)\n",
    "\n",
    "#define the spatial boundaries/set the path to your file:\n",
    "with open(\"yourpath/marchregions.geojson\") as f: \n",
    "    regions = json.load(f)\n",
    "    regions = json.dumps(regions)\n",
    "\n",
    "#define time intervals\n",
    "t_mon = \"2008-01-01/2021-02-01/P1M\"\n",
    "filter_req = '(landuse=forest or natural=wood) and geometry:polygon'\n"
   ]
  },
  {
   "cell_type": "markdown",
   "id": "secret-salmon",
   "metadata": {},
   "source": [
    "### **4: Requests**\n",
    "\n",
    "The code below is dealing with how you can phrase your exact request. To keep it simple and get a first look at the data the request only asks for the overall density of wood/forest in the regions of interest.\n",
    "\n",
    "\n",
    "For this months analysis you can request the data by using the following conditions:\n",
    "\n",
    "For the forest dataset:\n",
    "\n",
    "_endpoint\t->\t/elements/area/density/groupBy/boundary_\n",
    "\n",
    "_timestamp  \t->\t2008-01-01/2021-02-01/P1M_\n",
    "\n",
    "_filter\t\t->\t(landuse=forest or nature=wood) and geometry:polygon_\n",
    "\n",
    "\n",
    "For the user dataset:\n",
    "\n",
    "_endpoint\t\t->\t/users/groupBy/boundary_\n",
    "\n",
    "_timestamp\t\t->\t2008-01-01/2021-02-01/P1M_\n",
    "\n",
    "_filter\t\t    ->\t(landuse=forest or nature=wood) and geometry:polygon_\n",
    "\n",
    "\n",
    "\n",
    "_-> You might wonder why there was only made use of tree-RELATED tags instead of the tree key itself for this analysis. The problem was that said key wasn’t used because over the whole time span there was zero tree information given, yet, **BUT** at least for Ottawa a tree import has been [proposed in 2017](https://wiki.openstreetmap.org/wiki/Ottawa/Import/Trees) so there might be data for Ottawa soon! <-_"
   ]
  },
  {
   "cell_type": "markdown",
   "id": "loving-bulgaria",
   "metadata": {},
   "source": [
    "## **Analysis Part 1 - Density**"
   ]
  },
  {
   "cell_type": "code",
   "execution_count": 13,
   "id": "greater-eligibility",
   "metadata": {
    "scrolled": true
   },
   "outputs": [
    {
     "data": {
      "text/plain": [
       "'https://api.ohsome.org/v1/elements/area/density/groupBy/boundary'"
      ]
     },
     "metadata": {},
     "output_type": "display_data"
    },
    {
     "ename": "KeyError",
     "evalue": "'groupByResult'",
     "output_type": "error",
     "traceback": [
      "\u001b[0;31m---------------------------------------------------------------------------\u001b[0m",
      "\u001b[0;31mKeyError\u001b[0m                                  Traceback (most recent call last)",
      "\u001b[0;32m<ipython-input-13-580d2314b820>\u001b[0m in \u001b[0;36m<module>\u001b[0;34m\u001b[0m\n\u001b[1;32m     16\u001b[0m     \u001b[0mdensity\u001b[0m \u001b[0;34m=\u001b[0m \u001b[0mround\u001b[0m\u001b[0;34m(\u001b[0m\u001b[0mdf\u001b[0m\u001b[0;34m,\u001b[0m \u001b[0;36m2\u001b[0m\u001b[0;34m)\u001b[0m\u001b[0;34m\u001b[0m\u001b[0;34m\u001b[0m\u001b[0m\n\u001b[1;32m     17\u001b[0m     \u001b[0mdensity\u001b[0m\u001b[0;34m.\u001b[0m\u001b[0mplot\u001b[0m\u001b[0;34m(\u001b[0m\u001b[0mfigsize\u001b[0m\u001b[0;34m=\u001b[0m\u001b[0;34m(\u001b[0m\u001b[0;36m9\u001b[0m\u001b[0;34m,\u001b[0m\u001b[0;36m7\u001b[0m\u001b[0;34m)\u001b[0m\u001b[0;34m,\u001b[0m \u001b[0mfontsize\u001b[0m\u001b[0;34m=\u001b[0m\u001b[0;36m11\u001b[0m\u001b[0;34m)\u001b[0m\u001b[0;34m\u001b[0m\u001b[0;34m\u001b[0m\u001b[0m\n\u001b[0;32m---> 18\u001b[0;31m \u001b[0marea\u001b[0m\u001b[0;34m(\u001b[0m\u001b[0;34m)\u001b[0m\u001b[0;34m\u001b[0m\u001b[0;34m\u001b[0m\u001b[0m\n\u001b[0m",
      "\u001b[0;32m<ipython-input-13-580d2314b820>\u001b[0m in \u001b[0;36marea\u001b[0;34m()\u001b[0m\n\u001b[1;32m      9\u001b[0m \u001b[0;31m#turn output into DataFrame-format:\u001b[0m\u001b[0;34m\u001b[0m\u001b[0;34m\u001b[0m\u001b[0;34m\u001b[0m\u001b[0m\n\u001b[1;32m     10\u001b[0m     \u001b[0mdf\u001b[0m \u001b[0;34m=\u001b[0m \u001b[0mpd\u001b[0m\u001b[0;34m.\u001b[0m\u001b[0mDataFrame\u001b[0m\u001b[0;34m(\u001b[0m\u001b[0;34m)\u001b[0m\u001b[0;34m\u001b[0m\u001b[0;34m\u001b[0m\u001b[0m\n\u001b[0;32m---> 11\u001b[0;31m     \u001b[0;32mfor\u001b[0m \u001b[0mgroupBy\u001b[0m \u001b[0;32min\u001b[0m \u001b[0mgreen\u001b[0m\u001b[0;34m[\u001b[0m\u001b[0;34m'groupByResult'\u001b[0m\u001b[0;34m]\u001b[0m\u001b[0;34m:\u001b[0m\u001b[0;34m\u001b[0m\u001b[0;34m\u001b[0m\u001b[0m\n\u001b[0m\u001b[1;32m     12\u001b[0m         \u001b[0mseries\u001b[0m \u001b[0;34m=\u001b[0m \u001b[0mpd\u001b[0m\u001b[0;34m.\u001b[0m\u001b[0mSeries\u001b[0m\u001b[0;34m(\u001b[0m\u001b[0;34m{\u001b[0m\u001b[0mrow\u001b[0m\u001b[0;34m[\u001b[0m\u001b[0;34m'timestamp'\u001b[0m\u001b[0;34m]\u001b[0m\u001b[0;34m:\u001b[0m\u001b[0mrow\u001b[0m\u001b[0;34m[\u001b[0m\u001b[0;34m'value'\u001b[0m\u001b[0;34m]\u001b[0m \u001b[0;32mfor\u001b[0m \u001b[0mrow\u001b[0m \u001b[0;32min\u001b[0m \u001b[0mgroupBy\u001b[0m\u001b[0;34m[\u001b[0m\u001b[0;34m'result'\u001b[0m\u001b[0;34m]\u001b[0m\u001b[0;34m}\u001b[0m\u001b[0;34m)\u001b[0m\u001b[0;34m\u001b[0m\u001b[0;34m\u001b[0m\u001b[0m\n\u001b[1;32m     13\u001b[0m         \u001b[0mdf\u001b[0m\u001b[0;34m[\u001b[0m\u001b[0mgroupBy\u001b[0m\u001b[0;34m[\u001b[0m\u001b[0;34m'groupByObject'\u001b[0m\u001b[0;34m]\u001b[0m\u001b[0;34m]\u001b[0m \u001b[0;34m=\u001b[0m \u001b[0mseries\u001b[0m\u001b[0;34m\u001b[0m\u001b[0;34m\u001b[0m\u001b[0m\n",
      "\u001b[0;31mKeyError\u001b[0m: 'groupByResult'"
     ]
    }
   ],
   "source": [
    "# define and plot request/path\n",
    "def area():   \n",
    "    res = elements(\"/area/density/groupBy/boundary\"                 \n",
    "         ,filter=filter_req\n",
    "         ,bpolys=regions                                            \n",
    "         ,time=t_mon)                                                \n",
    "    display(res.url)\n",
    "    green = res.json()\n",
    "#turn output into DataFrame-format:\n",
    "    df = pd.DataFrame()                                             \n",
    "    for groupBy in green['groupByResult']:\n",
    "        series = pd.Series({row['timestamp']:row['value'] for row in groupBy['result']})\n",
    "        df[groupBy['groupByObject']] = series\n",
    "    df.set_index(pd.to_datetime(df.index),inplace=True)\n",
    "    df.to_pickle(\"./df_density.pkl\")                                \n",
    "    density = round(df, 2)\n",
    "    density.plot(figsize=(9,7), fontsize=11)                            \n",
    "area()"
   ]
  },
  {
   "cell_type": "markdown",
   "id": "terminal-treasury",
   "metadata": {},
   "source": [
    "#### In the graphic above you can see the development of the density of natural=wood as well as landuse=forest information"
   ]
  },
  {
   "cell_type": "markdown",
   "id": "editorial-scotland",
   "metadata": {},
   "source": [
    "When looking at the plot of the output dataset it is pretty safe to say that Edmonton has the lowest density of forest/wood information given when comparing it to the other regions. Although this might be part of low mapping activities too, it might as well be related to local oil and gas production areas or farmland which reduced the amount of forest. Another factor could be the general geographic connection to the Prairies Ecozone.\n",
    "\n",
    "Furthermore, it is worth mentioning that all cities, but Vancouver, only really added their forest information around 2010 and 2011. \n",
    "Interestingly the density values for Vancouver only cross parts with the Ottawa- and Halifax-values around 2017. Additionally there is a strong increase in density in the early 2013 months. During that same year the Open Data Hackathon took place on Feb 23rd.\n",
    "\n",
    "Ottawa and Halifax both begin to have increasing information starting around the same period in 2010 and cross each other several times until Ottawa finally takes its place at the top in 2018. Densitywise Ottawa is the winner looking at the overall development of density throughout the years. \n",
    "\n",
    "[Canvec imports](https://wiki.openstreetmap.org/wiki/CanVec) between 2010-2012 are might be related to the strong increases during that time period as the tag _natural=wood_ was part of the data given (-> CanVec Vegetation (VE)). Another related import might be one of [Canadian Protected Areas](https://wiki.openstreetmap.org/wiki/Import/Catalogue#One-Time_Imports) which has been in progress since 2009 ([from geogratis](http://geogratis.gc.ca)) but that is only an assumption."
   ]
  },
  {
   "cell_type": "code",
   "execution_count": 12,
   "id": "potential-intent",
   "metadata": {},
   "outputs": [
    {
     "data": {
      "text/html": [
       "<div>\n",
       "<style scoped>\n",
       "    .dataframe tbody tr th:only-of-type {\n",
       "        vertical-align: middle;\n",
       "    }\n",
       "\n",
       "    .dataframe tbody tr th {\n",
       "        vertical-align: top;\n",
       "    }\n",
       "\n",
       "    .dataframe thead th {\n",
       "        text-align: right;\n",
       "    }\n",
       "</style>\n",
       "<table border=\"1\" class=\"dataframe\">\n",
       "  <thead>\n",
       "    <tr style=\"text-align: right;\">\n",
       "      <th></th>\n",
       "      <th>region</th>\n",
       "      <th>mean</th>\n",
       "      <th>median</th>\n",
       "      <th>min</th>\n",
       "      <th>max</th>\n",
       "    </tr>\n",
       "  </thead>\n",
       "  <tbody>\n",
       "    <tr>\n",
       "      <th>0</th>\n",
       "      <td>Vancouver</td>\n",
       "      <td>204006.88</td>\n",
       "      <td>260064.90</td>\n",
       "      <td>614.07</td>\n",
       "      <td>319494.75</td>\n",
       "    </tr>\n",
       "    <tr>\n",
       "      <th>1</th>\n",
       "      <td>Halifax</td>\n",
       "      <td>223159.97</td>\n",
       "      <td>296758.98</td>\n",
       "      <td>0.00</td>\n",
       "      <td>324080.16</td>\n",
       "    </tr>\n",
       "    <tr>\n",
       "      <th>2</th>\n",
       "      <td>Edmonton</td>\n",
       "      <td>28518.29</td>\n",
       "      <td>32828.07</td>\n",
       "      <td>0.00</td>\n",
       "      <td>49962.98</td>\n",
       "    </tr>\n",
       "    <tr>\n",
       "      <th>3</th>\n",
       "      <td>Ottawa</td>\n",
       "      <td>234835.11</td>\n",
       "      <td>316338.05</td>\n",
       "      <td>1942.07</td>\n",
       "      <td>330267.47</td>\n",
       "    </tr>\n",
       "  </tbody>\n",
       "</table>\n",
       "</div>"
      ],
      "text/plain": [
       "      region       mean     median      min        max\n",
       "0  Vancouver  204006.88  260064.90   614.07  319494.75\n",
       "1    Halifax  223159.97  296758.98     0.00  324080.16\n",
       "2   Edmonton   28518.29   32828.07     0.00   49962.98\n",
       "3     Ottawa  234835.11  316338.05  1942.07  330267.47"
      ]
     },
     "metadata": {},
     "output_type": "display_data"
    },
    {
     "data": {
      "text/plain": [
       "<AxesSubplot:ylabel='region'>"
      ]
     },
     "execution_count": 12,
     "metadata": {},
     "output_type": "execute_result"
    },
    {
     "data": {
      "image/png": "[encoded data removed]",
      "text/plain": [
       "<Figure size 576x576 with 1 Axes>"
      ]
     },
     "metadata": {
      "needs_background": "light"
     },
     "output_type": "display_data"
    }
   ],
   "source": [
    "#read the pickle file which was saved earlier:\n",
    "df_density = pd.read_pickle(\"./df_density.pkl\")          \n",
    "\n",
    "val = {'region':['Vancouver', 'Halifax', 'Edmonton', 'Ottawa'], \n",
    "       'mean': [204006.88, 223159.97, 28518.29, 234835.11], \n",
    "       'median': [260064.90, 296758.98, 32828.07, 316338.05], 'min':[614.07, 0.0, 0.0, 1942.07], \n",
    "       'max':[319494.75, 324080.16, 49962.98, 330267.47]}\n",
    "val_density = pd.DataFrame(val)\n",
    "\n",
    "display (val_density)\n",
    "val_density.plot.barh(0, figsize=(8,8))\n",
    "\n",
    "#The table was created by searching for the mean, median, minimum and maximum values of each region.\n",
    "#You can do it with numpy, like so:\n",
    "#Ottawa, Ontario:\n",
    "#Oarray = df_density['Ottawa']\n",
    "#OttMean = np.mean(Oarray)\n",
    "#OttMedian = np.median(Oarray)\n",
    "#OttMin = np.min(Oarray)\n",
    "#OttMax = np.max(Oarray)\n",
    "#display(OttMean, OttMedian, OttMin, OttMax) -> to look at the values"
   ]
  },
  {
   "cell_type": "markdown",
   "id": "formed-morning",
   "metadata": {},
   "source": [
    "#### Above you can see the output DataFrame 'val_density' with some statistics for the density dataset, below that it was visualized in a barchart."
   ]
  },
  {
   "cell_type": "markdown",
   "id": "golden-soviet",
   "metadata": {},
   "source": [
    "Apart from Ottawa there is no display of a minimum value in the barchart above. This is due to the fact that Edmonton and Halifax both started at zero in the beginning of the examined timespan but also because the initial value of Metro Vancouver was probably too small to be visible in the graphic.\n",
    "\n",
    "When looking at the chart one can once more see that Ottawa has the overall highest density values when taking e.g. the mean or maximum values into account, but even more so, it also has the highest initial (minimum) values!\n",
    "It is followed by Halifax & Vancouver. Edmonton comes last with the smallest overall values."
   ]
  },
  {
   "cell_type": "code",
   "execution_count": 5,
   "id": "developmental-russian",
   "metadata": {},
   "outputs": [
    {
     "data": {
      "text/html": [
       "<div>\n",
       "<style scoped>\n",
       "    .dataframe tbody tr th:only-of-type {\n",
       "        vertical-align: middle;\n",
       "    }\n",
       "\n",
       "    .dataframe tbody tr th {\n",
       "        vertical-align: top;\n",
       "    }\n",
       "\n",
       "    .dataframe thead th {\n",
       "        text-align: right;\n",
       "    }\n",
       "</style>\n",
       "<table border=\"1\" class=\"dataframe\">\n",
       "  <thead>\n",
       "    <tr style=\"text-align: right;\">\n",
       "      <th></th>\n",
       "      <th>region</th>\n",
       "      <th>Δ density</th>\n",
       "      <th>percent</th>\n",
       "    </tr>\n",
       "  </thead>\n",
       "  <tbody>\n",
       "    <tr>\n",
       "      <th>0</th>\n",
       "      <td>Vancouver</td>\n",
       "      <td>316130.09</td>\n",
       "      <td>0.998</td>\n",
       "    </tr>\n",
       "    <tr>\n",
       "      <th>1</th>\n",
       "      <td>Halifax</td>\n",
       "      <td>299203.41</td>\n",
       "      <td>1.000</td>\n",
       "    </tr>\n",
       "    <tr>\n",
       "      <th>2</th>\n",
       "      <td>Edmonton</td>\n",
       "      <td>49647.97</td>\n",
       "      <td>1.000</td>\n",
       "    </tr>\n",
       "    <tr>\n",
       "      <th>3</th>\n",
       "      <td>Ottawa</td>\n",
       "      <td>322071.36</td>\n",
       "      <td>0.991</td>\n",
       "    </tr>\n",
       "  </tbody>\n",
       "</table>\n",
       "</div>"
      ],
      "text/plain": [
       "      region  Δ density  percent\n",
       "0  Vancouver  316130.09    0.998\n",
       "1    Halifax  299203.41    1.000\n",
       "2   Edmonton   49647.97    1.000\n",
       "3     Ottawa  322071.36    0.991"
      ]
     },
     "metadata": {},
     "output_type": "display_data"
    },
    {
     "data": {
      "text/plain": [
       "<BarContainer object of 4 artists>"
      ]
     },
     "execution_count": 5,
     "metadata": {},
     "output_type": "execute_result"
    },
    {
     "data": {
      "image/png": "[encoded data removed]",
      "text/plain": [
       "<Figure size 432x288 with 1 Axes>"
      ]
     },
     "metadata": {
      "needs_background": "light"
     },
     "output_type": "display_data"
    }
   ],
   "source": [
    "devdens = {'region':['Vancouver', 'Halifax', 'Edmonton', 'Ottawa'],\n",
    "           'Δ density': [316130.09, 299203.41, 49647.97, 322071.36],\n",
    "           'percent': [0.998, 1.0, 1.0, 0.991]}\n",
    "dev_density = pd.DataFrame(devdens)\n",
    "\n",
    "display (dev_density)\n",
    "\n",
    "plt.figure()\n",
    "x = dev_density['region']\n",
    "y = dev_density['Δ density']\n",
    "plt.bar(x,y)\n",
    "\n",
    "#one way to calculate these values is:\n",
    "#display(df_density)\n",
    "#EdDiff = 49647.97 -  0.00\n",
    "#EdPerc = EdDiff/49647.97\n",
    "#display(EdDiff, EdPerc)"
   ]
  },
  {
   "cell_type": "markdown",
   "id": "coated-acrylic",
   "metadata": {},
   "source": [
    "#### Above you can see the Δ density and percentual-values in numbers as well as figures. You can notice that the development for ALL regions was very good as the minimum percentuage of growth in density is in Ottawa with 99.143%.\n",
    "\n",
    "As usual Edmonton shows the lowest values and Ottawa the highest. This is due to their overall development, yet it should be noted that the Δ density-values for Vancouver get really close to those of Ottawa and the starting values weren't much lower either which implies a very similar development over the whole timespan.\n",
    "\n",
    "**Δ Density Ranking:**\n",
    "1. Ottawa\n",
    "2. Vancouver\n",
    "3. Halifax\n",
    "4. Edmonton\n",
    "\n",
    "_side note: The percentage-values aren't shown in a figure as they are all very similar and differences were hard to make out with the eyes only_"
   ]
  },
  {
   "cell_type": "markdown",
   "id": "therapeutic-allen",
   "metadata": {},
   "source": [
    "## **Analysis Part 2 - Users**"
   ]
  },
  {
   "cell_type": "code",
   "execution_count": 6,
   "id": "middle-fisher",
   "metadata": {
    "scrolled": true
   },
   "outputs": [
    {
     "data": {
      "text/plain": [
       "'https://api.ohsome.org/v1/users/count/groupBy/boundary'"
      ]
     },
     "metadata": {},
     "output_type": "display_data"
    },
    {
     "data": {
      "image/png": "[encoded data removed]",
      "text/plain": [
       "<Figure size 720x792 with 4 Axes>"
      ]
     },
     "metadata": {
      "needs_background": "light"
     },
     "output_type": "display_data"
    }
   ],
   "source": [
    "def groupBy():\n",
    "    resU = users(\"/count/groupBy/boundary\"\n",
    "         ,filter=filter_req          \n",
    "         ,bpolys=regions\n",
    "         ,time=t_mon)\n",
    "    display(resU.url)\n",
    "    green_u = resU.json()\n",
    "    #display(green_u)\n",
    "    df = pd.DataFrame()\n",
    "    for groupBy in green_u['groupByResult']:\n",
    "        series = pd.Series({row['fromTimestamp']:row['value'] for row in groupBy['result']})\n",
    "        df[groupBy['groupByObject']] = series\n",
    "    df.set_index(pd.to_datetime(df.index),inplace=True)\n",
    "    df.to_pickle(\"./df_users.pkl\")\n",
    "    df.plot(kind='line', subplots=True, sharex=False, sharey=True, figsize=(10,11), fontsize=9)\n",
    "groupBy()"
   ]
  },
  {
   "cell_type": "markdown",
   "id": "revolutionary-sigma",
   "metadata": {},
   "source": [
    "#### In the graphic above you can see the user numbers of the natural=wood as well as landuse=forest tag over the years"
   ]
  },
  {
   "cell_type": "markdown",
   "id": "confidential-purchase",
   "metadata": {},
   "source": [
    "#### Edmonton:\t  \n",
    "\n",
    "Let's start from the top again.\n",
    "There's almost no user activity from 2008 up until the end 2010. Notable user activity first starts around 2011 so at the same time as the main increase in density values. One can observe that for certain time periods the user count keeps falling back to low or no user activity at all. Thhhe peak is reached by the end of 2017 but even after, there are still some quite high values. Furthermore, the peak also marks the time of the last notable increase in density information.\n",
    "\n",
    "\n",
    "#### Halifax:\t  \n",
    "\n",
    "For the Halifax region there was nearly no user activity at all up until mid 2010 apart from a very short peak in the very beginning. The first peak in 2010 is in accord with the first strong density increase. However, after that the user numbers stay more or less on the same overall level until 2017 when they are peaking until about June of th same year which appears to be fitting the decreasing density values around this time period either. There's one last peak in 2020.\n",
    "\n",
    "\n",
    "#### Vancouver: \n",
    "\n",
    "For the Metro Vancouver region there are only very short timespans of complete user inactivity and an overall increasing trend is observable. The maximum user count is reached around Mid 2020 whilst the first density peak is at the same time as the first peak in user activity 2008. The increasing trend in user counts begins at around 2010, yet shortly after there is a fast decrease in density probably due to wrong or double values that were corrected. This might be related to the CanVec imports as one of the most important data sources.\n",
    "\n",
    "\n",
    "#### Ottawa:    \n",
    "\n",
    "In Ottawa there are three times of minor user activity until 2009 and subsequently an increasing trend until 2018 with times of lower user activity between 2014 and Mid 2015. The local mapping community also [mentions](https://wiki.openstreetmap.org/wiki/Ottawa#Status) that most of the info is from CanVec data."
   ]
  },
  {
   "cell_type": "code",
   "execution_count": 10,
   "id": "liable-victim",
   "metadata": {},
   "outputs": [
    {
     "data": {
      "text/html": [
       "<div>\n",
       "<style scoped>\n",
       "    .dataframe tbody tr th:only-of-type {\n",
       "        vertical-align: middle;\n",
       "    }\n",
       "\n",
       "    .dataframe tbody tr th {\n",
       "        vertical-align: top;\n",
       "    }\n",
       "\n",
       "    .dataframe thead th {\n",
       "        text-align: right;\n",
       "    }\n",
       "</style>\n",
       "<table border=\"1\" class=\"dataframe\">\n",
       "  <thead>\n",
       "    <tr style=\"text-align: right;\">\n",
       "      <th></th>\n",
       "      <th>region</th>\n",
       "      <th>mean</th>\n",
       "      <th>median</th>\n",
       "      <th>min</th>\n",
       "      <th>max</th>\n",
       "    </tr>\n",
       "  </thead>\n",
       "  <tbody>\n",
       "    <tr>\n",
       "      <th>0</th>\n",
       "      <td>Vancouver</td>\n",
       "      <td>7</td>\n",
       "      <td>6.0</td>\n",
       "      <td>0.0</td>\n",
       "      <td>25.0</td>\n",
       "    </tr>\n",
       "    <tr>\n",
       "      <th>1</th>\n",
       "      <td>Halifax</td>\n",
       "      <td>3</td>\n",
       "      <td>2.0</td>\n",
       "      <td>0.0</td>\n",
       "      <td>13.0</td>\n",
       "    </tr>\n",
       "    <tr>\n",
       "      <th>2</th>\n",
       "      <td>Edmonton</td>\n",
       "      <td>2</td>\n",
       "      <td>1.0</td>\n",
       "      <td>0.0</td>\n",
       "      <td>7.0</td>\n",
       "    </tr>\n",
       "    <tr>\n",
       "      <th>3</th>\n",
       "      <td>Ottawa</td>\n",
       "      <td>3</td>\n",
       "      <td>3.0</td>\n",
       "      <td>0.0</td>\n",
       "      <td>13.0</td>\n",
       "    </tr>\n",
       "  </tbody>\n",
       "</table>\n",
       "</div>"
      ],
      "text/plain": [
       "      region  mean  median  min   max\n",
       "0  Vancouver     7     6.0  0.0  25.0\n",
       "1    Halifax     3     2.0  0.0  13.0\n",
       "2   Edmonton     2     1.0  0.0   7.0\n",
       "3     Ottawa     3     3.0  0.0  13.0"
      ]
     },
     "metadata": {},
     "output_type": "display_data"
    },
    {
     "data": {
      "image/png": "[encoded data removed]",
      "text/plain": [
       "<Figure size 576x432 with 1 Axes>"
      ]
     },
     "metadata": {
      "needs_background": "light"
     },
     "output_type": "display_data"
    }
   ],
   "source": [
    "#read output dataset:\n",
    "df_users = pd.read_pickle(\"./df_users.pkl\")\n",
    "\n",
    "val_u = {'region':['Vancouver', 'Halifax', 'Edmonton', 'Ottawa'], \n",
    "'mean': [7, 3, 2, 3], \n",
    "'median': [6.0, 2.0, 1.0, 3.0], 'min':[0.0, 0.0, 0.0, 0.0], 'max':[25.0, 13.0, 7.0, 13.0]}\n",
    "val_users = pd.DataFrame(val_u)\n",
    "\n",
    "df_users.plot(kind='box', figsize=(8,6), fontsize=9)\n",
    "display (val_users)\n",
    "\n",
    "\n",
    "\n",
    "#The table was again created by searching for the mean, median, minimum and maximum values of each region."
   ]
  },
  {
   "cell_type": "markdown",
   "id": "bibliographic-vatican",
   "metadata": {},
   "source": [
    "When looking at the minimum value of the user data output, all the regions have the value 0, so during the observed time intervals, there were periods where no user performed any modification on features fitting to the analyzed filter. \n",
    "Again, Edmonton had the lowest values (mean, median & maximum), which might be yet another reason for the overall lower values in density of tree related polygon-tags.\n",
    "\n",
    "Halifax and Ottawa both have the same maximum value yet Ottawa is higher in mean as well as median. And the highest overall user-values are to be found for Vancouver.\n",
    "\n",
    "**User activity Ranking:** \n",
    "1. Vancouver\n",
    "2. Ottawa\n",
    "3. Halifax\n",
    "4. Edmonton"
   ]
  },
  {
   "cell_type": "markdown",
   "id": "blind-trademark",
   "metadata": {},
   "source": [
    "### Final Ranking:\n",
    "\n",
    "Since both Vancouver & Ottawa made it to the top in one of the rankings it appears to be useful to announce 2 winners this time: Vancouver in terms of user counts and Ottawa in terms of overall density development.\n",
    "This leaves us with following ranking:\n",
    "\n",
    "1. Vancouver & Ottawa\n",
    "2. Halifax\n",
    "3. Edmonton\n",
    "\n",
    "\n",
    "Thanks for reading this months blog post & additional notebook. Stay tuned for more notebooks and blog posts in the future!"
   ]
  },
  {
   "cell_type": "code",
   "execution_count": null,
   "id": "passive-trader",
   "metadata": {},
   "outputs": [],
   "source": []
  }
 ],
 "metadata": {
  "kernelspec": {
   "display_name": "Python 3",
   "language": "python",
   "name": "python3"
  },
  "language_info": {
   "codemirror_mode": {
    "name": "ipython",
    "version": 3
   },
   "file_extension": ".py",
   "mimetype": "text/x-python",
   "name": "python",
   "nbconvert_exporter": "python",
   "pygments_lexer": "ipython3",
   "version": "3.7.7"
  }
 },
 "nbformat": 4,
 "nbformat_minor": 5
}
