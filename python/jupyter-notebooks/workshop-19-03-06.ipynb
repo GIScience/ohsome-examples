{
 "cells": [
  {
   "cell_type": "markdown",
   "metadata": {},
   "source": [
    "# ohsome-api workshop notebook\n",
    "\n",
    "### Imports\n",
    "importing necessary libraries,\n",
    "* matplotlib for drawing graphs\n",
    "* pandas for working with table structured data\n",
    "* numpy for basic array handling\n",
    "* json for handling with json responses\n",
    "* requests for http get/post requests\n",
    "* csv for writing and loading csv files\n",
    "* joblib for caching results of function"
   ]
  },
  {
   "cell_type": "code",
   "execution_count": 5,
   "metadata": {},
   "outputs": [],
   "source": [
    "import matplotlib.pyplot as plt\n",
    "import pandas as pd\n",
    "import numpy as np\n",
    "import json\n",
    "import requests\n",
    "import csv"
   ]
  },
  {
   "cell_type": "markdown",
   "metadata": {},
   "source": [
    "### Define global constasts"
   ]
  },
  {
   "cell_type": "code",
   "execution_count": 6,
   "metadata": {},
   "outputs": [],
   "source": [
    "OHSOME_API = \"https://api.ohsome.org/v1\"\n",
    "\n",
    "# http://norbertrenner.de/osm/bbox.html\n",
    "BBOX = { \n",
    "    \"hd\" : \"8.6581,49.3836,8.7225,49.4363\",\n",
    "    \"ma\" : \"8.4514,49.4589,8.5158,49.5114\",\n",
    "    \"lu\" :\" 8.3936,49.4448,8.4579,49.4974\"}\n",
    "\n",
    "# https://en.wikipedia.org/wiki/ISO_8601\n",
    "TIME_MONTHLY = \"2007-11-01/2018-11-01/P1D\"\n",
    "METADATA = metadata = requests.get(OHSOME_API+\"/metadata\").json()"
   ]
  },
  {
   "cell_type": "code",
   "execution_count": 7,
   "metadata": {},
   "outputs": [
    {
     "data": {
      "text/plain": [
       "{'attribution': {'url': 'https://ohsome.org/copyrights',\n",
       "  'text': '© OpenStreetMap contributors'},\n",
       " 'apiVersion': '1.0.0',\n",
       " 'extractRegion': {'spatialExtent': {'type': 'Polygon',\n",
       "   'coordinates': [[[-180.0, -90.0],\n",
       "     [180.0, -90.0],\n",
       "     [180.0, 90.0],\n",
       "     [-180.0, 90.0],\n",
       "     [-180.0, -90.0]]]},\n",
       "  'temporalExtent': {'fromTimestamp': '2007-10-08T00:00:00Z',\n",
       "   'toTimestamp': '2020-05-23T03:00:00Z'},\n",
       "  'replicationSequenceNumber': 67436}}"
      ]
     },
     "metadata": {},
     "output_type": "display_data"
    }
   ],
   "source": [
    "display(METADATA)"
   ]
  },
  {
   "cell_type": "markdown",
   "metadata": {},
   "source": [
    "### Declaring some helper functions"
   ]
  },
  {
   "cell_type": "code",
   "execution_count": 8,
   "metadata": {},
   "outputs": [],
   "source": [
    "def elements(agg,**params):\n",
    "    res = requests.get(OHSOME_API+\"/elements\"+agg,params)\n",
    "    return res\n",
    "\n",
    "def data(agg,**params):\n",
    "    res = requests.get(OHSOME_API+\"/elements\"+agg, params)\n",
    "    return res\n",
    "\n",
    "def dataFullHistory(agg,**params):\n",
    "    res = requests.get(OHSOME_API+\"/elementsFullHistory\"+agg,params)\n",
    "    return res"
   ]
  },
  {
   "cell_type": "markdown",
   "metadata": {},
   "source": [
    "## Aggregation Endpoint\n",
    "### count over time\n",
    "json response look like this:\n",
    "```javascript\n",
    "{ \n",
    "  'result': [\n",
    "     {'timestamp': '2007-11-01T00:00:00Z', 'value': 181.0},\n",
    "     {'timestamp': '2007-11-02T00:00:00Z', 'value': 181.0},\n",
    "     {'timestamp': '2007-11-03T00:00:00Z', 'value': 181.0},\n",
    "     // ...\n",
    "   ]\n",
    "}\n",
    "```"
   ]
  },
  {
   "cell_type": "code",
   "execution_count": 11,
   "metadata": {},
   "outputs": [
    {
     "data": {
      "text/plain": [
       "'https://api.ohsome.org/v1/elements/count?filter=highway%3D%2A+and+type%3Away&bboxes=8.6581%2C49.3836%2C8.7225%2C49.4363&time=2007-11-01%2F2018-11-01%2FP1D'"
      ]
     },
     "metadata": {},
     "output_type": "display_data"
    },
    {
     "data": {
      "image/png": "[encoded data removed]",
      "text/plain": [
       "<Figure size 432x288 with 1 Axes>"
      ]
     },
     "metadata": {},
     "output_type": "display_data"
    }
   ],
   "source": [
    "def count():\n",
    "    filter=\"highway=* and type:way\"\n",
    "    res = elements(\"/count\"\n",
    "         ,filter=filter\n",
    "         ,bboxes=BBOX['hd']\n",
    "         ,time=TIME_MONTHLY)\n",
    "    display(res.url)\n",
    "    body = res.json()\n",
    "    df = pd.DataFrame(body['result'])\n",
    "    df.timestamp = pd.to_datetime(df.timestamp)\n",
    "    df.rename(columns={'value':filter },inplace=True)\n",
    "    df.set_index('timestamp', inplace=True)\n",
    "    df.plot()\n",
    "count()"
   ]
  },
  {
   "cell_type": "markdown",
   "metadata": {},
   "source": [
    "### ratio between to groups over time\n",
    "json response looks like this:\n",
    "```javascript\n",
    "{\n",
    "  'ratioResult': [\n",
    "    {'timestamp': '2007-11-01T00:00:00Z', 'value': 181.0, 'value2': 0.0, 'ratio': 0.0},\n",
    "    {'timestamp': '2007-11-02T00:00:00Z', 'value': 181.0, 'value2': 0.0, 'ratio': 0.0},\n",
    "    {'timestamp': '2007-11-03T00:00:00Z', 'value': 181.0, 'value2': 0.0, 'ratio': 0.0},\n",
    "    // ...\n",
    "   ]\n",
    "}\n",
    "```"
   ]
  },
  {
   "cell_type": "code",
   "execution_count": 13,
   "metadata": {},
   "outputs": [
    {
     "data": {
      "text/plain": [
       "'https://api.ohsome.org/v1/elements/count/ratio?filter=highway%3D%2A+and+type%3Away&filter2=highway%3D%2A+and+maxspeed%3D%2A+and+type%3Away&bboxes=8.6581%2C49.3836%2C8.7225%2C49.4363&time=2007-11-01%2F2018-11-01%2FP1D'"
      ]
     },
     "metadata": {},
     "output_type": "display_data"
    },
    {
     "data": {
      "image/png": "[encoded data removed]",
      "text/plain": [
       "<Figure size 432x288 with 2 Axes>"
      ]
     },
     "metadata": {},
     "output_type": "display_data"
    }
   ],
   "source": [
    "def ratio():\n",
    "    filter = \"highway=* and type:way\"\n",
    "    filter2 = \"highway=* and maxspeed=* and type:way\"\n",
    "    res = elements(\"/count/ratio\"\n",
    "            ,filter=filter\n",
    "            ,filter2=filter2\n",
    "            ,bboxes=BBOX['hd']\n",
    "            ,time=TIME_MONTHLY)\n",
    "    display(res.url)\n",
    "    body = res.json()\n",
    "    df = pd.DataFrame(body['ratioResult'])\n",
    "    df.timestamp = pd.to_datetime(df.timestamp)\n",
    "    df.set_index('timestamp', inplace=True)\n",
    "    df.rename(columns={'value':filter,'value2':filter2}, inplace=True)\n",
    "    df[filter].plot(legend=True)\n",
    "    df[filter2].plot(legend=True)\n",
    "    df.ratio.plot(secondary_y=True,legend=True)\n",
    "ratio()"
   ]
  },
  {
   "cell_type": "markdown",
   "metadata": {},
   "source": [
    "### count over time group by boundingbox\n",
    "json response looks like this:\n",
    "```javascript\n",
    "{\n",
    "  'groupByResult': [\n",
    "      {\n",
    "          'result': [\n",
    "              {'timestamp': '2007-11-01T00:00:00Z','value': 181.0},\n",
    "              {'timestamp': '2010-07-26T00:00:00Z', 'value': 3685.0},\n",
    "              {'timestamp': '2010-07-27T00:00:00Z', 'value': 3685.0},\n",
    "              // ...\n",
    "          ],\n",
    "           'groupByObject': 'hd'\n",
    "      },\n",
    "      {\n",
    "          'result': [\n",
    "              {'timestamp': '2007-11-01T00:00:00Z', 'value': 411.0},\n",
    "              // ...\n",
    "          ],\n",
    "          'groupByObject': 'ma'\n",
    "      }, \n",
    "      // ...\n",
    "   ]\n",
    "}\n",
    "```"
   ]
  },
  {
   "cell_type": "code",
   "execution_count": 14,
   "metadata": {},
   "outputs": [
    {
     "data": {
      "text/plain": [
       "'https://api.ohsome.org/v1/elements/count/groupBy/boundary?filter=highway%3D%2A+and+type%3Away&bboxes=hd%3A8.6581%2C49.3836%2C8.7225%2C49.4363%7Cma%3A8.4514%2C49.4589%2C8.5158%2C49.5114%7Clu%3A+8.3936%2C49.4448%2C8.4579%2C49.4974&time=2007-11-01%2F2018-11-01%2FP1D'"
      ]
     },
     "metadata": {},
     "output_type": "display_data"
    },
    {
     "data": {
      "image/png": "[encoded data removed]",
      "text/plain": [
       "<Figure size 432x288 with 1 Axes>"
      ]
     },
     "metadata": {},
     "output_type": "display_data"
    }
   ],
   "source": [
    "def groupBy():\n",
    "    filter=\"highway=* and type:way\"\n",
    "    bboxes = '|'.join(\"{}:{}\".format(k,v) for (k,v) in BBOX.items())\n",
    "    res = elements(\"/count/groupBy/boundary\"\n",
    "            ,filter=filter\n",
    "            ,bboxes=bboxes\n",
    "            ,time=TIME_MONTHLY)\n",
    "    display(res.url)\n",
    "    body = res.json();\n",
    "    df = pd.DataFrame()\n",
    "    for groupBy in body['groupByResult']:\n",
    "        series = pd.Series({row['timestamp']:row['value'] for row in groupBy['result']})\n",
    "        df[groupBy['groupByObject']] = series\n",
    "    df.set_index(pd.to_datetime(df.index),inplace=True)    \n",
    "    df.resample('y').agg({'hd':'sum', 'ma':'sum','lu':'sum'}).plot.bar()\n",
    "groupBy()"
   ]
  },
  {
   "cell_type": "markdown",
   "metadata": {},
   "source": [
    "## data extraction endpoint\n",
    "### snapshot data over time\n",
    "json response looks like:\n",
    "```javascript\n",
    "{\n",
    " 'type': 'FeatureCollection',\n",
    " 'features': [\n",
    "     {\n",
    "         'type': 'Feature',\n",
    "         'geometry': {\n",
    "             'type': 'Point',\n",
    "              'coordinates': [8.670155212077008, 49.399659869507616]},\n",
    "         'properties': {\n",
    "             '@osmId': 'way/135548604',\n",
    "             '@snapshotTimestamp': '2019-02-19T23:00:00',\n",
    "              // filter conditions are always present in the result\n",
    "             'highway': 'living_street',\n",
    "             \n",
    "             // >>> only with properties contains 'metadata'\n",
    "             '@changesetId': 39952663,\n",
    "             '@lastEdit': '2016-06-11T13:27:58',\n",
    "             '@osmType': 'WAY',\n",
    "             '@version': 7,\n",
    "             // <<<\n",
    "            \n",
    "             // >>> only with properties contains 'tags'\n",
    "             'lit': 'yes',\n",
    "             'name': 'Montpellierstraße',\n",
    "             'smoothness': 'excellent',\n",
    "             'surface': 'asphalt'\n",
    "             // <<<\n",
    "         }},\n",
    "      {\n",
    "          'type': 'Feature',\n",
    "          'geometry': {\n",
    "               'type': 'Point',\n",
    "               'coordinates': [8.66844507130631, 49.400558346827175]},\n",
    "          'properties': {\n",
    "              '@osmId': 'way/135548612',\n",
    "              '@snapshotTimestamp': '2019-02-19T23:00:00',\n",
    "              'highway': 'living_street',\n",
    "              '@changesetId': 39952663,\n",
    "              '@osmType': 'WAY',\n",
    "              '@lastEdit': '2016-06-11T13:27:55',\n",
    "              '@version': 8,\n",
    "              'lit': 'yes',\n",
    "              //....\n",
    "       },\n",
    "       //....\n",
    "  ]\n",
    "}\n",
    "```"
   ]
  },
  {
   "cell_type": "code",
   "execution_count": 16,
   "metadata": {},
   "outputs": [
    {
     "data": {
      "text/plain": [
       "'https://api.ohsome.org/v1/elements/centroid?filter=highway%3D%2A&bboxes=8.6581%2C49.3836%2C8.7225%2C49.4363&properties=tags%2Cmetadata'"
      ]
     },
     "metadata": {},
     "output_type": "display_data"
    }
   ],
   "source": [
    "def dataExtraction():\n",
    "    filter=\"highway=*\"\n",
    "    \n",
    "    res = data(\"/centroid\"\n",
    "            ,filter=filter\n",
    "            ,bboxes=BBOX['hd']\n",
    "            ,time=None\n",
    "            ,properties=\"tags,metadata\")\n",
    "    display(res.url)   \n",
    "    body = res.json()\n",
    "    with open('./dataExtraction.csv',mode='w') as csv_file:\n",
    "        csv_file = csv.writer(csv_file,delimiter=',',quotechar='\"',quoting=csv.QUOTE_NONNUMERIC)\n",
    "        csv_file.writerow(['timestamp','osmid','version','type','tagkey','tagvalue'])\n",
    "        \n",
    "        for f in body['features']:\n",
    "            tags = f['properties']\n",
    "            osmid = tags['@osmId']\n",
    "            timestamp = tags['@lastEdit']\n",
    "            version = tags['@version']\n",
    "            type = tags['@osmType']\n",
    "            for k,v in tags.items():\n",
    "                if not k.startswith('@'):\n",
    "                    csv_file.writerow([timestamp,osmid,version,type,k,v])\n",
    "    \n",
    "    return pd.read_csv(\"./dataExtraction.csv\",dtype={'version':'int32'}, parse_dates=['timestamp'])\n",
    "de = dataExtraction()"
   ]
  },
  {
   "cell_type": "code",
   "execution_count": 17,
   "metadata": {},
   "outputs": [
    {
     "data": {
      "text/html": [
       "<div>\n",
       "<style scoped>\n",
       "    .dataframe tbody tr th:only-of-type {\n",
       "        vertical-align: middle;\n",
       "    }\n",
       "\n",
       "    .dataframe tbody tr th {\n",
       "        vertical-align: top;\n",
       "    }\n",
       "\n",
       "    .dataframe thead th {\n",
       "        text-align: right;\n",
       "    }\n",
       "</style>\n",
       "<table border=\"1\" class=\"dataframe\">\n",
       "  <thead>\n",
       "    <tr style=\"text-align: right;\">\n",
       "      <th></th>\n",
       "      <th>timestamp</th>\n",
       "      <th>osmid</th>\n",
       "      <th>version</th>\n",
       "      <th>type</th>\n",
       "      <th>tagkey</th>\n",
       "      <th>tagvalue</th>\n",
       "    </tr>\n",
       "  </thead>\n",
       "  <tbody>\n",
       "    <tr>\n",
       "      <th>0</th>\n",
       "      <td>2016-06-11 13:27:58</td>\n",
       "      <td>way/135548604</td>\n",
       "      <td>7</td>\n",
       "      <td>WAY</td>\n",
       "      <td>highway</td>\n",
       "      <td>living_street</td>\n",
       "    </tr>\n",
       "    <tr>\n",
       "      <th>1</th>\n",
       "      <td>2016-06-11 13:27:58</td>\n",
       "      <td>way/135548604</td>\n",
       "      <td>7</td>\n",
       "      <td>WAY</td>\n",
       "      <td>lit</td>\n",
       "      <td>yes</td>\n",
       "    </tr>\n",
       "    <tr>\n",
       "      <th>2</th>\n",
       "      <td>2016-06-11 13:27:58</td>\n",
       "      <td>way/135548604</td>\n",
       "      <td>7</td>\n",
       "      <td>WAY</td>\n",
       "      <td>name</td>\n",
       "      <td>Montpellierstraße</td>\n",
       "    </tr>\n",
       "    <tr>\n",
       "      <th>3</th>\n",
       "      <td>2016-06-11 13:27:58</td>\n",
       "      <td>way/135548604</td>\n",
       "      <td>7</td>\n",
       "      <td>WAY</td>\n",
       "      <td>smoothness</td>\n",
       "      <td>excellent</td>\n",
       "    </tr>\n",
       "    <tr>\n",
       "      <th>4</th>\n",
       "      <td>2016-06-11 13:27:58</td>\n",
       "      <td>way/135548604</td>\n",
       "      <td>7</td>\n",
       "      <td>WAY</td>\n",
       "      <td>surface</td>\n",
       "      <td>asphalt</td>\n",
       "    </tr>\n",
       "  </tbody>\n",
       "</table>\n",
       "</div>"
      ],
      "text/plain": [
       "            timestamp          osmid  version type      tagkey  \\\n",
       "0 2016-06-11 13:27:58  way/135548604        7  WAY     highway   \n",
       "1 2016-06-11 13:27:58  way/135548604        7  WAY         lit   \n",
       "2 2016-06-11 13:27:58  way/135548604        7  WAY        name   \n",
       "3 2016-06-11 13:27:58  way/135548604        7  WAY  smoothness   \n",
       "4 2016-06-11 13:27:58  way/135548604        7  WAY     surface   \n",
       "\n",
       "            tagvalue  \n",
       "0      living_street  \n",
       "1                yes  \n",
       "2  Montpellierstraße  \n",
       "3          excellent  \n",
       "4            asphalt  "
      ]
     },
     "execution_count": 17,
     "metadata": {},
     "output_type": "execute_result"
    }
   ],
   "source": [
    "de.head()"
   ]
  },
  {
   "cell_type": "markdown",
   "metadata": {},
   "source": [
    "### latest timestamp"
   ]
  },
  {
   "cell_type": "code",
   "execution_count": 18,
   "metadata": {},
   "outputs": [
    {
     "data": {
      "text/plain": [
       "Timestamp('2020-05-22 10:22:53')"
      ]
     },
     "metadata": {},
     "output_type": "display_data"
    }
   ],
   "source": [
    "def latestTimetamp():\n",
    "    display(de.timestamp.max())\n",
    "latestTimetamp()"
   ]
  },
  {
   "cell_type": "markdown",
   "metadata": {},
   "source": [
    "### mean number of versions"
   ]
  },
  {
   "cell_type": "code",
   "execution_count": 19,
   "metadata": {},
   "outputs": [
    {
     "data": {
      "text/html": [
       "<div>\n",
       "<style scoped>\n",
       "    .dataframe tbody tr th:only-of-type {\n",
       "        vertical-align: middle;\n",
       "    }\n",
       "\n",
       "    .dataframe tbody tr th {\n",
       "        vertical-align: top;\n",
       "    }\n",
       "\n",
       "    .dataframe thead th {\n",
       "        text-align: right;\n",
       "    }\n",
       "</style>\n",
       "<table border=\"1\" class=\"dataframe\">\n",
       "  <thead>\n",
       "    <tr style=\"text-align: right;\">\n",
       "      <th></th>\n",
       "      <th>osmid</th>\n",
       "      <th>version</th>\n",
       "      <th>tmp</th>\n",
       "    </tr>\n",
       "  </thead>\n",
       "  <tbody>\n",
       "    <tr>\n",
       "      <th>0</th>\n",
       "      <td>node/1019329416</td>\n",
       "      <td>6</td>\n",
       "      <td>4</td>\n",
       "    </tr>\n",
       "    <tr>\n",
       "      <th>1</th>\n",
       "      <td>node/107479229</td>\n",
       "      <td>16</td>\n",
       "      <td>7</td>\n",
       "    </tr>\n",
       "    <tr>\n",
       "      <th>2</th>\n",
       "      <td>node/1089213422</td>\n",
       "      <td>4</td>\n",
       "      <td>3</td>\n",
       "    </tr>\n",
       "    <tr>\n",
       "      <th>3</th>\n",
       "      <td>node/1119794531</td>\n",
       "      <td>6</td>\n",
       "      <td>3</td>\n",
       "    </tr>\n",
       "    <tr>\n",
       "      <th>4</th>\n",
       "      <td>node/11244623</td>\n",
       "      <td>6</td>\n",
       "      <td>2</td>\n",
       "    </tr>\n",
       "  </tbody>\n",
       "</table>\n",
       "</div>"
      ],
      "text/plain": [
       "             osmid  version  tmp\n",
       "0  node/1019329416        6    4\n",
       "1   node/107479229       16    7\n",
       "2  node/1089213422        4    3\n",
       "3  node/1119794531        6    3\n",
       "4    node/11244623        6    2"
      ]
     },
     "metadata": {},
     "output_type": "display_data"
    },
    {
     "data": {
      "text/plain": [
       "3.5816448152562574"
      ]
     },
     "metadata": {},
     "output_type": "display_data"
    }
   ],
   "source": [
    "def meanVersions():\n",
    "    dfgb = de.groupby(['osmid','version']).size().reset_index(name=\"tmp\")\n",
    "    display(dfgb.head())\n",
    "    display(dfgb.version.mean())\n",
    "meanVersions()"
   ]
  },
  {
   "cell_type": "code",
   "execution_count": 20,
   "metadata": {},
   "outputs": [
    {
     "data": {
      "text/html": [
       "<div>\n",
       "<style scoped>\n",
       "    .dataframe tbody tr th:only-of-type {\n",
       "        vertical-align: middle;\n",
       "    }\n",
       "\n",
       "    .dataframe tbody tr th {\n",
       "        vertical-align: top;\n",
       "    }\n",
       "\n",
       "    .dataframe thead th {\n",
       "        text-align: right;\n",
       "    }\n",
       "</style>\n",
       "<table border=\"1\" class=\"dataframe\">\n",
       "  <thead>\n",
       "    <tr style=\"text-align: right;\">\n",
       "      <th></th>\n",
       "      <th>osmid</th>\n",
       "      <th>version</th>\n",
       "      <th>tags</th>\n",
       "    </tr>\n",
       "  </thead>\n",
       "  <tbody>\n",
       "    <tr>\n",
       "      <th>0</th>\n",
       "      <td>node/1019329416</td>\n",
       "      <td>6</td>\n",
       "      <td>4</td>\n",
       "    </tr>\n",
       "    <tr>\n",
       "      <th>1</th>\n",
       "      <td>node/107479229</td>\n",
       "      <td>16</td>\n",
       "      <td>7</td>\n",
       "    </tr>\n",
       "    <tr>\n",
       "      <th>2</th>\n",
       "      <td>node/1089213422</td>\n",
       "      <td>4</td>\n",
       "      <td>3</td>\n",
       "    </tr>\n",
       "    <tr>\n",
       "      <th>3</th>\n",
       "      <td>node/1119794531</td>\n",
       "      <td>6</td>\n",
       "      <td>3</td>\n",
       "    </tr>\n",
       "    <tr>\n",
       "      <th>4</th>\n",
       "      <td>node/11244623</td>\n",
       "      <td>6</td>\n",
       "      <td>2</td>\n",
       "    </tr>\n",
       "  </tbody>\n",
       "</table>\n",
       "</div>"
      ],
      "text/plain": [
       "             osmid  version  tags\n",
       "0  node/1019329416        6     4\n",
       "1   node/107479229       16     7\n",
       "2  node/1089213422        4     3\n",
       "3  node/1119794531        6     3\n",
       "4    node/11244623        6     2"
      ]
     },
     "metadata": {},
     "output_type": "display_data"
    },
    {
     "data": {
      "text/plain": [
       "3.796742153357171"
      ]
     },
     "metadata": {},
     "output_type": "display_data"
    }
   ],
   "source": [
    "def meanTags():\n",
    "    dfgb = de.groupby(['osmid','version']).size().reset_index(name=\"tags\")\n",
    "    display(dfgb.head())\n",
    "    display(dfgb.tags.mean())\n",
    "meanTags()"
   ]
  },
  {
   "cell_type": "markdown",
   "metadata": {},
   "source": [
    "### ratio between different osm types"
   ]
  },
  {
   "cell_type": "code",
   "execution_count": 21,
   "metadata": {},
   "outputs": [
    {
     "data": {
      "text/html": [
       "<div>\n",
       "<style scoped>\n",
       "    .dataframe tbody tr th:only-of-type {\n",
       "        vertical-align: middle;\n",
       "    }\n",
       "\n",
       "    .dataframe tbody tr th {\n",
       "        vertical-align: top;\n",
       "    }\n",
       "\n",
       "    .dataframe thead th {\n",
       "        text-align: right;\n",
       "    }\n",
       "</style>\n",
       "<table border=\"1\" class=\"dataframe\">\n",
       "  <thead>\n",
       "    <tr style=\"text-align: right;\">\n",
       "      <th></th>\n",
       "      <th>osmid</th>\n",
       "    </tr>\n",
       "    <tr>\n",
       "      <th>type</th>\n",
       "      <th></th>\n",
       "    </tr>\n",
       "  </thead>\n",
       "  <tbody>\n",
       "    <tr>\n",
       "      <th>NODE</th>\n",
       "      <td>3568</td>\n",
       "    </tr>\n",
       "    <tr>\n",
       "      <th>RELATION</th>\n",
       "      <td>13</td>\n",
       "    </tr>\n",
       "    <tr>\n",
       "      <th>WAY</th>\n",
       "      <td>9004</td>\n",
       "    </tr>\n",
       "  </tbody>\n",
       "</table>\n",
       "</div>"
      ],
      "text/plain": [
       "          osmid\n",
       "type           \n",
       "NODE       3568\n",
       "RELATION     13\n",
       "WAY        9004"
      ]
     },
     "metadata": {},
     "output_type": "display_data"
    },
    {
     "data": {
      "image/png": "[encoded data removed]",
      "text/plain": [
       "<Figure size 432x288 with 1 Axes>"
      ]
     },
     "metadata": {},
     "output_type": "display_data"
    }
   ],
   "source": [
    "def ratioTypes():\n",
    "    dfgb = de.groupby(['osmid','type']).size().reset_index(name='tmp')\n",
    "    dfgb = dfgb.groupby(['type']).agg({'osmid':'count'})\n",
    "    display(dfgb.head())\n",
    "    dfgb.plot.pie(y='osmid')\n",
    "ratioTypes()\n"
   ]
  },
  {
   "cell_type": "markdown",
   "metadata": {},
   "source": [
    "### data extraction with full history between a time interval\n",
    "json response looks like this:\n",
    "```javascript\n",
    "{\n",
    " 'type': 'FeatureCollection',\n",
    " 'features': [\n",
    "     {\n",
    "        'type': 'Feature',\n",
    "        'geometry': {'type': 'Point', 'coordinates': [8.67003845, 49.39963365]},\n",
    "         'properties': {\n",
    "             '@osmId': 'way/135548604',\n",
    "             '@validFrom': '2011-11-01T15:59:26',\n",
    "             '@validTo': '2012-03-17T19:50:16',\n",
    "             'highway': 'construction'\n",
    "             // >>> only with properties contains 'metadata'\n",
    "             '@changesetId': 9713765,\n",
    "             '@osmType': 'WAY',   \n",
    "             '@version': 1,\n",
    "             // <<<\n",
    "    }},\n",
    "    {\n",
    "        'type': 'Feature',\n",
    "        'geometry': {'type': 'Point', 'coordinates': [8.67003845, 49.39963365]},\n",
    "        'properties': {\n",
    "            '@osmId': 'way/135548604',\n",
    "            '@validFrom': '2012-03-17T19:50:16',\n",
    "            '@validTo': '2013-03-19T18:32:14',\n",
    "            'highway': 'residential'\n",
    "            '@changesetId': 11011888,\n",
    "            '@osmType': 'WAY',\n",
    "            '@version': 2,\n",
    "            // ...\n",
    "    }},\n",
    "  // ...\n",
    "  ]\n",
    "}\n",
    "```"
   ]
  },
  {
   "cell_type": "code",
   "execution_count": 26,
   "metadata": {},
   "outputs": [
    {
     "data": {
      "text/plain": [
       "'https://api.ohsome.org/v1/elementsFullHistory/centroid?filter=highway%3D%2A+and+%28type%3Away+or+type%3Anode%29&bboxes=8.6581%2C49.3836%2C8.7225%2C49.4363&time=2007-10-08T00%3A00%3A00Z%2C2020-05-23T03%3A00%3A00Z&properties=metadata'"
      ]
     },
     "metadata": {},
     "output_type": "display_data"
    }
   ],
   "source": [
    "def dataExtractionFullHistory():\n",
    "    filter=\"highway=* and (type:way or type:node)\"\n",
    "    \n",
    "    temporalExtent = METADATA['extractRegion']['temporalExtent']\n",
    "    fromTimestamp = pd.to_datetime(temporalExtent['fromTimestamp'])\n",
    "    toTimestamp = pd.to_datetime(temporalExtent['toTimestamp'])\n",
    "    time= ','.join(temporalExtent.values())\n",
    "    \n",
    "    res = dataFullHistory(\"/centroid\"\n",
    "            ,filter=filter\n",
    "            ,bboxes=BBOX['hd']\n",
    "            ,time=time\n",
    "            ,properties='metadata')\n",
    "    \n",
    "    display(res.url)   \n",
    "    \n",
    "    body = res.json()\n",
    "    features = body['features']\n",
    "    \n",
    "    with open('./dataExtractionFullHistory.csv',mode='w') as csv_file:\n",
    "        csv_file = csv.writer(csv_file,delimiter=',',quotechar='\"',quoting=csv.QUOTE_NONNUMERIC)\n",
    "        csv_file.writerow(['timestamp','osmid','type','mod','shifted', 'dlon','dlat'])\n",
    "        last = features[0]\n",
    "        lastP = last['properties']\n",
    "        lastG = last['geometry']['coordinates']\n",
    "        csv_file.writerow([lastP['@validFrom'],lastP['@osmId'],lastP['@osmType'],'c',0,0.0,0.0])    \n",
    "        for f in features[1:]:\n",
    "            fP = f['properties']\n",
    "            \n",
    "            fG = f['geometry']['coordinates']\n",
    "            if lastP['@osmId'] == fP['@osmId']:\n",
    "                if lastP['@validTo'] == fP['@validFrom']:\n",
    "                    deltas = [p - c for p,c in zip(lastG,fG)]\n",
    "                    shifted = not all(d == 0 for d in deltas)\n",
    "                    csv_file.writerow([fP['@validFrom'],fP['@osmId'],fP['@osmType'],'u',int(shifted),deltas[0],deltas[1]])\n",
    "                else:\n",
    "                    csv_file.writerow([lastP['@validTo'],lastP['@osmId'],lastP['@osmType'],'d',0,0.0,0.0])\n",
    "                    csv_file.writerow([fP['@validFrom'],fP['@osmId'],fP['@osmType'],'c',0,0.0,0.0])\n",
    "            else:\n",
    "                # transform to real datetime for comparison\n",
    "                lastValidTo = pd.to_datetime(lastP['@validTo'])\n",
    "                if lastValidTo  != toTimestamp:\n",
    "                    csv_file.writerow([lastP['@validTo'],lastP['@osmId'],lastP['@osmType'],'d',0,0.0,0.0])\n",
    "                csv_file.writerow([fP['@validFrom'],fP['@osmId'],fP['@osmType'],'c',0,0.0,0.0])\n",
    "                \n",
    "            lastP = fP\n",
    "            lastG = fG\n",
    "    return pd.read_csv(\"./dataExtractionFullHistory.csv\",dtype={'shifted':'bool','dlon':'float32','dlat':'float32'}, parse_dates=['timestamp'])\n",
    "deh = dataExtractionFullHistory()"
   ]
  },
  {
   "cell_type": "code",
   "execution_count": 27,
   "metadata": {},
   "outputs": [
    {
     "data": {
      "text/html": [
       "<div>\n",
       "<style scoped>\n",
       "    .dataframe tbody tr th:only-of-type {\n",
       "        vertical-align: middle;\n",
       "    }\n",
       "\n",
       "    .dataframe tbody tr th {\n",
       "        vertical-align: top;\n",
       "    }\n",
       "\n",
       "    .dataframe thead th {\n",
       "        text-align: right;\n",
       "    }\n",
       "</style>\n",
       "<table border=\"1\" class=\"dataframe\">\n",
       "  <thead>\n",
       "    <tr style=\"text-align: right;\">\n",
       "      <th></th>\n",
       "      <th>timestamp</th>\n",
       "      <th>osmid</th>\n",
       "      <th>type</th>\n",
       "      <th>mod</th>\n",
       "      <th>shifted</th>\n",
       "      <th>dlon</th>\n",
       "      <th>dlat</th>\n",
       "    </tr>\n",
       "  </thead>\n",
       "  <tbody>\n",
       "    <tr>\n",
       "      <th>0</th>\n",
       "      <td>2008-07-12 22:05:25</td>\n",
       "      <td>way/25514938</td>\n",
       "      <td>WAY</td>\n",
       "      <td>c</td>\n",
       "      <td>False</td>\n",
       "      <td>0.000000e+00</td>\n",
       "      <td>0.000000</td>\n",
       "    </tr>\n",
       "    <tr>\n",
       "      <th>1</th>\n",
       "      <td>2009-01-03 13:54:01</td>\n",
       "      <td>way/25514938</td>\n",
       "      <td>WAY</td>\n",
       "      <td>u</td>\n",
       "      <td>False</td>\n",
       "      <td>0.000000e+00</td>\n",
       "      <td>0.000000</td>\n",
       "    </tr>\n",
       "    <tr>\n",
       "      <th>2</th>\n",
       "      <td>2009-05-04 15:56:16</td>\n",
       "      <td>way/25514938</td>\n",
       "      <td>WAY</td>\n",
       "      <td>u</td>\n",
       "      <td>True</td>\n",
       "      <td>3.195676e-07</td>\n",
       "      <td>-0.000001</td>\n",
       "    </tr>\n",
       "    <tr>\n",
       "      <th>3</th>\n",
       "      <td>2009-05-11 19:04:42</td>\n",
       "      <td>way/25514938</td>\n",
       "      <td>WAY</td>\n",
       "      <td>u</td>\n",
       "      <td>False</td>\n",
       "      <td>0.000000e+00</td>\n",
       "      <td>0.000000</td>\n",
       "    </tr>\n",
       "    <tr>\n",
       "      <th>4</th>\n",
       "      <td>2010-01-20 20:17:12</td>\n",
       "      <td>way/25514938</td>\n",
       "      <td>WAY</td>\n",
       "      <td>u</td>\n",
       "      <td>True</td>\n",
       "      <td>-1.045181e-04</td>\n",
       "      <td>-0.000018</td>\n",
       "    </tr>\n",
       "  </tbody>\n",
       "</table>\n",
       "</div>"
      ],
      "text/plain": [
       "            timestamp         osmid type mod  shifted          dlon      dlat\n",
       "0 2008-07-12 22:05:25  way/25514938  WAY   c    False  0.000000e+00  0.000000\n",
       "1 2009-01-03 13:54:01  way/25514938  WAY   u    False  0.000000e+00  0.000000\n",
       "2 2009-05-04 15:56:16  way/25514938  WAY   u     True  3.195676e-07 -0.000001\n",
       "3 2009-05-11 19:04:42  way/25514938  WAY   u    False  0.000000e+00  0.000000\n",
       "4 2010-01-20 20:17:12  way/25514938  WAY   u     True -1.045181e-04 -0.000018"
      ]
     },
     "execution_count": 27,
     "metadata": {},
     "output_type": "execute_result"
    }
   ],
   "source": [
    "deh.head()"
   ]
  },
  {
   "cell_type": "code",
   "execution_count": 28,
   "metadata": {},
   "outputs": [
    {
     "data": {
      "image/png": "[encoded data removed]",
      "text/plain": [
       "<Figure size 432x288 with 1 Axes>"
      ]
     },
     "metadata": {},
     "output_type": "display_data"
    }
   ],
   "source": [
    "def modification():\n",
    "    dfgb = deh.groupby(['timestamp','mod']).size().to_frame(\"count\").reset_index()\n",
    "    dfgb['mod_c'] = dfgb.apply(lambda row: row['count'] if row['mod'] == 'c' else 0, axis=1)\n",
    "    dfgb['mod_d'] = dfgb.apply(lambda row: row['count'] if row['mod'] == 'd' else 0, axis=1)\n",
    "    dfgb['mod_u'] = dfgb.apply(lambda row: row['count'] if row['mod'] == 'u' else 0, axis=1)\n",
    "    dfgb = dfgb.groupby([pd.Grouper(key='timestamp',freq='MS')]).agg({'mod_c':'sum','mod_u':'sum','mod_d':'sum'})\n",
    "    dfgb.plot()\n",
    "modification()\n"
   ]
  },
  {
   "cell_type": "code",
   "execution_count": 29,
   "metadata": {},
   "outputs": [
    {
     "data": {
      "image/png": "[encoded data removed]",
      "text/plain": [
       "<Figure size 432x288 with 1 Axes>"
      ]
     },
     "metadata": {},
     "output_type": "display_data"
    }
   ],
   "source": [
    "def shiftPlot():\n",
    "    dfgb = deh.loc[deh['shifted'] == True]\n",
    "    r = dfgb.apply(lambda r: np.sqrt(r['dlon']**2 + r['dlat']**2), axis=1)\n",
    "    theta = dfgb.apply(lambda r: np.arctan2(r['dlat'],r['dlon']), axis=1)\n",
    "\n",
    "    ax = plt.subplot(111, projection='polar')\n",
    "    ax.plot(theta,r)\n",
    "    ax.grid(True)\n",
    "    ax.set_title(\"shift plots\", va='bottom')\n",
    "    plt.show()\n",
    "shiftPlot()"
   ]
  }
 ],
 "metadata": {
  "kernelspec": {
   "display_name": "Python 3",
   "language": "python",
   "name": "python3"
  },
  "language_info": {
   "codemirror_mode": {
    "name": "ipython",
    "version": 3
   },
   "file_extension": ".py",
   "mimetype": "text/x-python",
   "name": "python",
   "nbconvert_exporter": "python",
   "pygments_lexer": "ipython3",
   "version": "3.7.5"
  }
 },
 "nbformat": 4,
 "nbformat_minor": 2
}
