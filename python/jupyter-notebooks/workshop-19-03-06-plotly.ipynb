{
 "cells": [
  {
   "cell_type": "markdown",
   "metadata": {},
   "source": [
    "# ohsome API: Some general examples on how to use the API with Python\n",
    "### Import Python packages"
   ]
  },
  {
   "cell_type": "code",
   "execution_count": 1,
   "metadata": {},
   "outputs": [],
   "source": [
    "# pandas for working with table structured data\n",
    "import pandas as pd\n",
    "\n",
    "# json for handling with json responses\n",
    "import json\n",
    "\n",
    "# requests for http get/post requests\n",
    "import requests\n",
    "\n",
    "# csv for writing and loading csv files\n",
    "import csv\n",
    "\n",
    "# plotly for generating interactive graphs\n",
    "import plotly.plotly as py\n",
    "import plotly.graph_objs as go\n",
    "\n",
    "from IPython.display import *"
   ]
  },
  {
   "cell_type": "markdown",
   "metadata": {},
   "source": [
    "### Get metadata of the underlying OSM full-history data extract\n",
    "First let's request some metadata and have a look which areas are available via the ohsome API "
   ]
  },
  {
   "cell_type": "code",
   "execution_count": 1,
   "metadata": {},
   "outputs": [
    {
     "data": {
      "text/plain": [
       "{'apiVersion': '0.9',\n",
       " 'attribution': {'text': '© OpenStreetMap contributors',\n",
       "  'url': 'https://ohsome.org/copyrights'},\n",
       " 'extractRegion': {'spatialExtent': {'coordinates': [[[-180.0, -90.0],\n",
       "     [180.0, -90.0],\n",
       "     [180.0, 90.0],\n",
       "     [-180.0, 90.0],\n",
       "     [-180.0, -90.0]]],\n",
       "   'type': 'Polygon'},\n",
       "  'temporalExtent': {'fromTimestamp': '2007-01-01',\n",
       "   'toTimestamp': '2019-02-19T23:00:00'}}}"
      ]
     },
     "metadata": {},
     "output_type": "display_data"
    }
   ],
   "source": [
    "ohsome_api = \"https://api.ohsome.org/v0.9-dev\"\n",
    "metadata = requests.get(ohsome_api+\"/metadata\").json()\n",
    "\n",
    "display(metadata)"
   ]
  },
  {
   "cell_type": "markdown",
   "metadata": {},
   "source": [
    "<span style=\"color:darkred\">Ohsome</span> you have access to the OSM history on a global scale :). Lossless information on the historical evolution of OSM is available from 2007, January to 2019, February. This means that all properties of the original OSM data are maintained.\n",
    "\n",
    "### Define areas of interest and time interval\n",
    "\n",
    "Now let's get started and have a more detailed look at three areas in Germany: Heidelberg _(hd)_, Mannheim _(ma)_ and Ludwigsburg _(lu)_. We define define the bounding boxes and time intervals we are interested in."
   ]
  },
  {
   "cell_type": "code",
   "execution_count": 1,
   "metadata": {},
   "outputs": [],
   "source": [
    "# http://norbertrenner.de/osm/bbox.html\n",
    "bbox = { \n",
    "    \"hd\" : \"8.6581,49.3836,8.7225,49.4363\",\n",
    "    \"ma\" : \"8.4514,49.4589,8.5158,49.5114\",\n",
    "    \"lu\" :\" 8.3936,49.4448,8.4579,49.4974\"}\n",
    "\n",
    "# https://en.wikipedia.org/wiki/ISO_8601\n",
    "time_monthly = \"2007-11-01/2018-11-01/P1M\""
   ]
  },
  {
   "cell_type": "markdown",
   "metadata": {},
   "source": [
    "Now we are ready to go. Our Swagger documentation provides you with the needed information to fire some requests against our <span style=\"color:darkred\">ohsome</span> API. In the following we show you some examples how to grap information you are intereted in using Python. \n",
    "\n",
    "## Aggregation endpoint\n",
    "Let's start with the aggregation endpoint which allows you to retrive aggregated stats for the OSM history data. You can filter by any OSM tag you are interested in _(keys)_, define your area of interest _(bboxes)_ and any time interval _(time)_.\n",
    "\n",
    "### Count highways in the Heidelberg area over time"
   ]
  },
  {
   "cell_type": "code",
   "execution_count": 1,
   "metadata": {},
   "outputs": [
    {
     "data": {
      "text/html": [
       "<h4>ohsome API request</h4>"
      ],
      "text/plain": [
       "<IPython.core.display.HTML object>"
      ]
     },
     "metadata": {},
     "output_type": "display_data"
    },
    {
     "data": {
      "text/plain": [
       "'https://api.ohsome.org/v0.9-dev/elements/count?bboxes=8.6581%2C49.3836%2C8.7225%2C49.4363&keys=highway&time=2007-11-01%2F2018-11-01%2FP1M&showMetadata=true'"
      ]
     },
     "metadata": {},
     "output_type": "display_data"
    },
    {
     "data": {
      "text/html": [
       "<h4>API response</h4>"
      ],
      "text/plain": [
       "<IPython.core.display.HTML object>"
      ]
     },
     "metadata": {},
     "output_type": "display_data"
    },
    {
     "data": {
      "text/html": [
       "<div>\n",
       "<style scoped>\n",
       "    .dataframe tbody tr th:only-of-type {\n",
       "        vertical-align: middle;\n",
       "    }\n",
       "\n",
       "    .dataframe tbody tr th {\n",
       "        vertical-align: top;\n",
       "    }\n",
       "\n",
       "    .dataframe thead th {\n",
       "        text-align: right;\n",
       "    }\n",
       "</style>\n",
       "<table border=\"1\" class=\"dataframe\">\n",
       "  <thead>\n",
       "    <tr style=\"text-align: right;\">\n",
       "      <th></th>\n",
       "      <th>timestamp</th>\n",
       "      <th>value</th>\n",
       "    </tr>\n",
       "  </thead>\n",
       "  <tbody>\n",
       "    <tr>\n",
       "      <th>0</th>\n",
       "      <td>2007-11-01T00:00:00Z</td>\n",
       "      <td>187.0</td>\n",
       "    </tr>\n",
       "    <tr>\n",
       "      <th>1</th>\n",
       "      <td>2007-12-01T00:00:00Z</td>\n",
       "      <td>275.0</td>\n",
       "    </tr>\n",
       "    <tr>\n",
       "      <th>2</th>\n",
       "      <td>2008-01-01T00:00:00Z</td>\n",
       "      <td>295.0</td>\n",
       "    </tr>\n",
       "    <tr>\n",
       "      <th>3</th>\n",
       "      <td>2008-02-01T00:00:00Z</td>\n",
       "      <td>295.0</td>\n",
       "    </tr>\n",
       "    <tr>\n",
       "      <th>4</th>\n",
       "      <td>2008-03-01T00:00:00Z</td>\n",
       "      <td>326.0</td>\n",
       "    </tr>\n",
       "    <tr>\n",
       "      <th>5</th>\n",
       "      <td>2008-04-01T00:00:00Z</td>\n",
       "      <td>327.0</td>\n",
       "    </tr>\n",
       "    <tr>\n",
       "      <th>6</th>\n",
       "      <td>2008-05-01T00:00:00Z</td>\n",
       "      <td>351.0</td>\n",
       "    </tr>\n",
       "    <tr>\n",
       "      <th>7</th>\n",
       "      <td>2008-06-01T00:00:00Z</td>\n",
       "      <td>570.0</td>\n",
       "    </tr>\n",
       "    <tr>\n",
       "      <th>8</th>\n",
       "      <td>2008-07-01T00:00:00Z</td>\n",
       "      <td>1157.0</td>\n",
       "    </tr>\n",
       "    <tr>\n",
       "      <th>9</th>\n",
       "      <td>2008-08-01T00:00:00Z</td>\n",
       "      <td>1692.0</td>\n",
       "    </tr>\n",
       "  </tbody>\n",
       "</table>\n",
       "</div>"
      ],
      "text/plain": [
       "              timestamp   value\n",
       "0  2007-11-01T00:00:00Z   187.0\n",
       "1  2007-12-01T00:00:00Z   275.0\n",
       "2  2008-01-01T00:00:00Z   295.0\n",
       "3  2008-02-01T00:00:00Z   295.0\n",
       "4  2008-03-01T00:00:00Z   326.0\n",
       "5  2008-04-01T00:00:00Z   327.0\n",
       "6  2008-05-01T00:00:00Z   351.0\n",
       "7  2008-06-01T00:00:00Z   570.0\n",
       "8  2008-07-01T00:00:00Z  1157.0\n",
       "9  2008-08-01T00:00:00Z  1692.0"
      ]
     },
     "metadata": {},
     "output_type": "display_data"
    }
   ],
   "source": [
    "params = {'bboxes': bbox['hd'],\n",
    "          'keys': 'highway',\n",
    "          'time': time_monthly,\n",
    "          'showMetadata': 'true'}\n",
    "\n",
    "res = requests.get(ohsome_api+\"/elements/count\", params)\n",
    "\n",
    "display(HTML('<h4>ohsome API request</h4>'))\n",
    "display(res.url)\n",
    "\n",
    "display(HTML('<h4>API response</h4>'))\n",
    "df = pd.DataFrame(res.json()['result'])\n",
    "display(df.head(10))"
   ]
  },
  {
   "cell_type": "markdown",
   "metadata": {},
   "source": [
    "This is how the result looks like - you get the number of highways at each time interval (only ten time stamps are shown here). Let's plot it!  "
   ]
  },
  {
   "cell_type": "code",
   "execution_count": 1,
   "metadata": {},
   "outputs": [
    {
     "data": {
      "text/html": [
       "<iframe id=\"igraph\" scrolling=\"no\" style=\"border:none;\" seamless=\"seamless\" src=\"https://plot.ly/~ploplo/79.embed\" height=\"525px\" width=\"100%\"></iframe>"
      ],
      "text/plain": [
       "<plotly.tools.PlotlyDisplay object>"
      ]
     },
     "execution_count": 1,
     "metadata": {},
     "output_type": "execute_result"
    }
   ],
   "source": [
    "data = [go.Bar(x=df.timestamp, y=df.value)]\n",
    "\n",
    "fig = dict(data=data, layout=go.Layout(title=\"Count of OSM highways within Heidelberg\"))\n",
    "py.iplot(fig, filename='count')"
   ]
  },
  {
   "cell_type": "markdown",
   "metadata": {},
   "source": [
    "### Ratio between two OSM tag groups over time\n",
    "The <span style=\"color:darkred\">ohsome</span> API also allows you two generate ratios between two different OSM tag groups. In this example we answer the question: What is the percentage of OSM highways that have informtion on speed limits (i.e., tagged with the OSM key maxspeed)? "
   ]
  },
  {
   "cell_type": "code",
   "execution_count": 1,
   "metadata": {},
   "outputs": [
    {
     "data": {
      "text/html": [
       "<h4>ohsome API request</h4> </span>"
      ],
      "text/plain": [
       "<IPython.core.display.HTML object>"
      ]
     },
     "metadata": {},
     "output_type": "display_data"
    },
    {
     "data": {
      "text/plain": [
       "'https://api.ohsome.org/v0.9-dev/elements/count/ratio?bboxes=8.6581%2C49.3836%2C8.7225%2C49.4363&keys=highway&keys2=highway%2Cmaxspeed&time=2007-11-01%2F2018-11-01%2FP1M&types=way&types2=way&showMetadata=true'"
      ]
     },
     "metadata": {},
     "output_type": "display_data"
    },
    {
     "data": {
      "text/html": [
       "<h4>API response</h4>"
      ],
      "text/plain": [
       "<IPython.core.display.HTML object>"
      ]
     },
     "metadata": {},
     "output_type": "display_data"
    },
    {
     "data": {
      "text/html": [
       "<div>\n",
       "<style scoped>\n",
       "    .dataframe tbody tr th:only-of-type {\n",
       "        vertical-align: middle;\n",
       "    }\n",
       "\n",
       "    .dataframe tbody tr th {\n",
       "        vertical-align: top;\n",
       "    }\n",
       "\n",
       "    .dataframe thead th {\n",
       "        text-align: right;\n",
       "    }\n",
       "</style>\n",
       "<table border=\"1\" class=\"dataframe\">\n",
       "  <thead>\n",
       "    <tr style=\"text-align: right;\">\n",
       "      <th></th>\n",
       "      <th>ratio</th>\n",
       "      <th>timestamp</th>\n",
       "      <th>value</th>\n",
       "      <th>value2</th>\n",
       "    </tr>\n",
       "  </thead>\n",
       "  <tbody>\n",
       "    <tr>\n",
       "      <th>0</th>\n",
       "      <td>0.000000</td>\n",
       "      <td>2007-11-01T00:00:00Z</td>\n",
       "      <td>181.0</td>\n",
       "      <td>0.0</td>\n",
       "    </tr>\n",
       "    <tr>\n",
       "      <th>1</th>\n",
       "      <td>0.000000</td>\n",
       "      <td>2007-12-01T00:00:00Z</td>\n",
       "      <td>267.0</td>\n",
       "      <td>0.0</td>\n",
       "    </tr>\n",
       "    <tr>\n",
       "      <th>2</th>\n",
       "      <td>0.000000</td>\n",
       "      <td>2008-01-01T00:00:00Z</td>\n",
       "      <td>287.0</td>\n",
       "      <td>0.0</td>\n",
       "    </tr>\n",
       "    <tr>\n",
       "      <th>3</th>\n",
       "      <td>0.000000</td>\n",
       "      <td>2008-02-01T00:00:00Z</td>\n",
       "      <td>287.0</td>\n",
       "      <td>0.0</td>\n",
       "    </tr>\n",
       "    <tr>\n",
       "      <th>4</th>\n",
       "      <td>0.000000</td>\n",
       "      <td>2008-03-01T00:00:00Z</td>\n",
       "      <td>314.0</td>\n",
       "      <td>0.0</td>\n",
       "    </tr>\n",
       "    <tr>\n",
       "      <th>5</th>\n",
       "      <td>0.000000</td>\n",
       "      <td>2008-04-01T00:00:00Z</td>\n",
       "      <td>315.0</td>\n",
       "      <td>0.0</td>\n",
       "    </tr>\n",
       "    <tr>\n",
       "      <th>6</th>\n",
       "      <td>0.000000</td>\n",
       "      <td>2008-05-01T00:00:00Z</td>\n",
       "      <td>339.0</td>\n",
       "      <td>0.0</td>\n",
       "    </tr>\n",
       "    <tr>\n",
       "      <th>7</th>\n",
       "      <td>0.022814</td>\n",
       "      <td>2008-06-01T00:00:00Z</td>\n",
       "      <td>526.0</td>\n",
       "      <td>12.0</td>\n",
       "    </tr>\n",
       "    <tr>\n",
       "      <th>8</th>\n",
       "      <td>0.067260</td>\n",
       "      <td>2008-07-01T00:00:00Z</td>\n",
       "      <td>1011.0</td>\n",
       "      <td>68.0</td>\n",
       "    </tr>\n",
       "    <tr>\n",
       "      <th>9</th>\n",
       "      <td>0.062246</td>\n",
       "      <td>2008-08-01T00:00:00Z</td>\n",
       "      <td>1478.0</td>\n",
       "      <td>92.0</td>\n",
       "    </tr>\n",
       "  </tbody>\n",
       "</table>\n",
       "</div>"
      ],
      "text/plain": [
       "      ratio             timestamp   value  value2\n",
       "0  0.000000  2007-11-01T00:00:00Z   181.0     0.0\n",
       "1  0.000000  2007-12-01T00:00:00Z   267.0     0.0\n",
       "2  0.000000  2008-01-01T00:00:00Z   287.0     0.0\n",
       "3  0.000000  2008-02-01T00:00:00Z   287.0     0.0\n",
       "4  0.000000  2008-03-01T00:00:00Z   314.0     0.0\n",
       "5  0.000000  2008-04-01T00:00:00Z   315.0     0.0\n",
       "6  0.000000  2008-05-01T00:00:00Z   339.0     0.0\n",
       "7  0.022814  2008-06-01T00:00:00Z   526.0    12.0\n",
       "8  0.067260  2008-07-01T00:00:00Z  1011.0    68.0\n",
       "9  0.062246  2008-08-01T00:00:00Z  1478.0    92.0"
      ]
     },
     "metadata": {},
     "output_type": "display_data"
    }
   ],
   "source": [
    "params = {'bboxes': bbox['hd'],\n",
    "          'keys': 'highway',\n",
    "          'keys2': 'highway,maxspeed',\n",
    "          'time': time_monthly,\n",
    "          'types': 'way', \n",
    "          'types2': 'way',\n",
    "          'showMetadata': 'true'}\n",
    "\n",
    "res = requests.get(ohsome_api+\"/elements/count/ratio\", params)\n",
    "\n",
    "display(HTML('<h4>ohsome API request</h4> </span>'))\n",
    "display(res.url)\n",
    "\n",
    "display(HTML('<h4>API response</h4>'))\n",
    "df = pd.DataFrame(res.json()['ratioResult'])\n",
    "display(df.head(10))"
   ]
  },
  {
   "cell_type": "markdown",
   "metadata": {},
   "source": [
    "And again let's visualize the result in a graph: "
   ]
  },
  {
   "cell_type": "code",
   "execution_count": 1,
   "metadata": {},
   "outputs": [
    {
     "data": {
      "text/html": [
       "<iframe id=\"igraph\" scrolling=\"no\" style=\"border:none;\" seamless=\"seamless\" src=\"https://plot.ly/~ploplo/71.embed\" height=\"525px\" width=\"100%\"></iframe>"
      ],
      "text/plain": [
       "<plotly.tools.PlotlyDisplay object>"
      ]
     },
     "execution_count": 1,
     "metadata": {},
     "output_type": "execute_result"
    }
   ],
   "source": [
    "hwy = go.Scatter(\n",
    "    x = df.timestamp,\n",
    "    y = df.value,\n",
    "    name = \"highway\"\n",
    ")\n",
    "\n",
    "hwy_maxspeed = go.Scatter(\n",
    "    x = df.timestamp,\n",
    "    y = df.value2,\n",
    "    name = \"highway,maxspeed\"\n",
    ")\n",
    "\n",
    "ratio = go.Scatter(\n",
    "    x = df.timestamp,\n",
    "    y = df.ratio,\n",
    "    yaxis='y2',\n",
    "    name = \"ratio\"\n",
    ")\n",
    "\n",
    "data = [hwy, hwy_maxspeed, ratio]\n",
    "\n",
    "layout = go.Layout(\n",
    "    title='Ratio between OSM highways and OSM highways with maxspeed',\n",
    "    yaxis2 = dict(\n",
    "        side = 'right',\n",
    "        overlaying = 'y',\n",
    "        showgrid = False\n",
    "    ),\n",
    "    legend = dict(\n",
    "        orientation = \"h\")      \n",
    ")\n",
    "\n",
    "fig = go.Figure(data, layout)\n",
    "py.iplot(fig, filename='ratio')"
   ]
  },
  {
   "cell_type": "markdown",
   "metadata": {},
   "source": [
    "### Count over time grouped by bounding box\n",
    "We are not only interested in the Heidelberg area but also in Mannheim and Ludwigshaven. Using the _groupBy_ funtionalities allows you to get the OSM evolution in all areas with one single request."
   ]
  },
  {
   "cell_type": "code",
   "execution_count": 1,
   "metadata": {},
   "outputs": [
    {
     "data": {
      "text/html": [
       "<h4>ohsome API request</h4>"
      ],
      "text/plain": [
       "<IPython.core.display.HTML object>"
      ]
     },
     "metadata": {},
     "output_type": "display_data"
    },
    {
     "data": {
      "text/plain": [
       "'https://api.ohsome.org/v0.9-dev/elements/count/groupBy/boundary?bboxes=hd%3A8.6581%2C49.3836%2C8.7225%2C49.4363%7Cma%3A8.4514%2C49.4589%2C8.5158%2C49.5114%7Clu%3A+8.3936%2C49.4448%2C8.4579%2C49.4974&keys=highway&time=2007-11-01%2F2018-11-01%2FP1M&types=way'"
      ]
     },
     "metadata": {},
     "output_type": "display_data"
    },
    {
     "data": {
      "text/html": [
       "<h4>API response</h4>"
      ],
      "text/plain": [
       "<IPython.core.display.HTML object>"
      ]
     },
     "metadata": {},
     "output_type": "display_data"
    },
    {
     "data": {
      "text/html": [
       "<div>\n",
       "<style scoped>\n",
       "    .dataframe tbody tr th:only-of-type {\n",
       "        vertical-align: middle;\n",
       "    }\n",
       "\n",
       "    .dataframe tbody tr th {\n",
       "        vertical-align: top;\n",
       "    }\n",
       "\n",
       "    .dataframe thead th {\n",
       "        text-align: right;\n",
       "    }\n",
       "</style>\n",
       "<table border=\"1\" class=\"dataframe\">\n",
       "  <thead>\n",
       "    <tr style=\"text-align: right;\">\n",
       "      <th></th>\n",
       "      <th>groupByObject</th>\n",
       "      <th>result</th>\n",
       "    </tr>\n",
       "  </thead>\n",
       "  <tbody>\n",
       "    <tr>\n",
       "      <th>0</th>\n",
       "      <td>hd</td>\n",
       "      <td>[{'timestamp': '2007-11-01T00:00:00Z', 'value'...</td>\n",
       "    </tr>\n",
       "    <tr>\n",
       "      <th>1</th>\n",
       "      <td>ma</td>\n",
       "      <td>[{'timestamp': '2007-11-01T00:00:00Z', 'value'...</td>\n",
       "    </tr>\n",
       "    <tr>\n",
       "      <th>2</th>\n",
       "      <td>lu</td>\n",
       "      <td>[{'timestamp': '2007-11-01T00:00:00Z', 'value'...</td>\n",
       "    </tr>\n",
       "  </tbody>\n",
       "</table>\n",
       "</div>"
      ],
      "text/plain": [
       "  groupByObject                                             result\n",
       "0            hd  [{'timestamp': '2007-11-01T00:00:00Z', 'value'...\n",
       "1            ma  [{'timestamp': '2007-11-01T00:00:00Z', 'value'...\n",
       "2            lu  [{'timestamp': '2007-11-01T00:00:00Z', 'value'..."
      ]
     },
     "metadata": {},
     "output_type": "display_data"
    },
    {
     "data": {
      "text/html": [
       "<h4>API response: result for hd</h4>"
      ],
      "text/plain": [
       "<IPython.core.display.HTML object>"
      ]
     },
     "metadata": {},
     "output_type": "display_data"
    },
    {
     "data": {
      "text/html": [
       "<div>\n",
       "<style scoped>\n",
       "    .dataframe tbody tr th:only-of-type {\n",
       "        vertical-align: middle;\n",
       "    }\n",
       "\n",
       "    .dataframe tbody tr th {\n",
       "        vertical-align: top;\n",
       "    }\n",
       "\n",
       "    .dataframe thead th {\n",
       "        text-align: right;\n",
       "    }\n",
       "</style>\n",
       "<table border=\"1\" class=\"dataframe\">\n",
       "  <thead>\n",
       "    <tr style=\"text-align: right;\">\n",
       "      <th></th>\n",
       "      <th>timestamp</th>\n",
       "      <th>value</th>\n",
       "    </tr>\n",
       "  </thead>\n",
       "  <tbody>\n",
       "    <tr>\n",
       "      <th>0</th>\n",
       "      <td>2007-11-01T00:00:00Z</td>\n",
       "      <td>181.0</td>\n",
       "    </tr>\n",
       "    <tr>\n",
       "      <th>1</th>\n",
       "      <td>2007-12-01T00:00:00Z</td>\n",
       "      <td>267.0</td>\n",
       "    </tr>\n",
       "    <tr>\n",
       "      <th>2</th>\n",
       "      <td>2008-01-01T00:00:00Z</td>\n",
       "      <td>287.0</td>\n",
       "    </tr>\n",
       "    <tr>\n",
       "      <th>3</th>\n",
       "      <td>2008-02-01T00:00:00Z</td>\n",
       "      <td>287.0</td>\n",
       "    </tr>\n",
       "    <tr>\n",
       "      <th>4</th>\n",
       "      <td>2008-03-01T00:00:00Z</td>\n",
       "      <td>314.0</td>\n",
       "    </tr>\n",
       "    <tr>\n",
       "      <th>5</th>\n",
       "      <td>2008-04-01T00:00:00Z</td>\n",
       "      <td>315.0</td>\n",
       "    </tr>\n",
       "    <tr>\n",
       "      <th>6</th>\n",
       "      <td>2008-05-01T00:00:00Z</td>\n",
       "      <td>339.0</td>\n",
       "    </tr>\n",
       "    <tr>\n",
       "      <th>7</th>\n",
       "      <td>2008-06-01T00:00:00Z</td>\n",
       "      <td>526.0</td>\n",
       "    </tr>\n",
       "    <tr>\n",
       "      <th>8</th>\n",
       "      <td>2008-07-01T00:00:00Z</td>\n",
       "      <td>1011.0</td>\n",
       "    </tr>\n",
       "    <tr>\n",
       "      <th>9</th>\n",
       "      <td>2008-08-01T00:00:00Z</td>\n",
       "      <td>1478.0</td>\n",
       "    </tr>\n",
       "  </tbody>\n",
       "</table>\n",
       "</div>"
      ],
      "text/plain": [
       "              timestamp   value\n",
       "0  2007-11-01T00:00:00Z   181.0\n",
       "1  2007-12-01T00:00:00Z   267.0\n",
       "2  2008-01-01T00:00:00Z   287.0\n",
       "3  2008-02-01T00:00:00Z   287.0\n",
       "4  2008-03-01T00:00:00Z   314.0\n",
       "5  2008-04-01T00:00:00Z   315.0\n",
       "6  2008-05-01T00:00:00Z   339.0\n",
       "7  2008-06-01T00:00:00Z   526.0\n",
       "8  2008-07-01T00:00:00Z  1011.0\n",
       "9  2008-08-01T00:00:00Z  1478.0"
      ]
     },
     "metadata": {},
     "output_type": "display_data"
    }
   ],
   "source": [
    "bboxes = '|'.join(\"{}:{}\".format(k,v) for (k,v) in bbox.items())\n",
    "\n",
    "params = {'bboxes': bboxes,\n",
    "          'keys': 'highway',\n",
    "          'time': time_monthly,\n",
    "          'types': 'way', \n",
    "         }\n",
    "\n",
    "res = requests.get(ohsome_api+\"/elements/count/groupBy/boundary\", params)\n",
    "\n",
    "display(HTML('<h4>ohsome API request</h4>'))\n",
    "display(res.url)\n",
    "\n",
    "df = pd.DataFrame(res.json()['groupByResult'])\n",
    "\n",
    "display(HTML('<h4>API response</h4>'))\n",
    "display(df.head(10))\n",
    "\n",
    "display(HTML('<h4>API response: result for hd</h4>'))\n",
    "display(pd.DataFrame(df.result[0]).head(10))"
   ]
  },
  {
   "cell_type": "markdown",
   "metadata": {},
   "source": [
    "Are you curious how the result looks like?"
   ]
  },
  {
   "cell_type": "code",
   "execution_count": 1,
   "metadata": {},
   "outputs": [
    {
     "data": {
      "text/html": [
       "<iframe id=\"igraph\" scrolling=\"no\" style=\"border:none;\" seamless=\"seamless\" src=\"https://plot.ly/~ploplo/81.embed\" height=\"525px\" width=\"100%\"></iframe>"
      ],
      "text/plain": [
       "<plotly.tools.PlotlyDisplay object>"
      ]
     },
     "execution_count": 1,
     "metadata": {},
     "output_type": "execute_result"
    }
   ],
   "source": [
    "result1=pd.DataFrame(df.result[0])\n",
    "trace1 = go.Bar(\n",
    "    x=result1.timestamp,\n",
    "    y=result1.value,\n",
    "    name=df.groupByObject[0]\n",
    ")\n",
    "\n",
    "result2=pd.DataFrame(df.result[1])\n",
    "trace2 = go.Bar(\n",
    "    x=result2.timestamp,\n",
    "    y=result2.value,\n",
    "    name=df.groupByObject[1]\n",
    ")\n",
    "\n",
    "result3=pd.DataFrame(df.result[2])\n",
    "trace3 = go.Bar(\n",
    "    x=result3.timestamp,\n",
    "    y=result3.value,\n",
    "    name=df.groupByObject[2]\n",
    ")\n",
    "\n",
    "data = [trace1, trace2, trace3]\n",
    "layout = go.Layout(\n",
    "    title='Number of OSM highways in Heidelberg, Mannheim and Ludwigshafen',\n",
    "    barmode='group',\n",
    "    legend = dict(\n",
    "        orientation = \"h\")\n",
    ")\n",
    "\n",
    "fig = go.Figure(data=data, layout=layout)\n",
    "py.iplot(fig, filename='groupBy')"
   ]
  },
  {
   "cell_type": "markdown",
   "metadata": {},
   "source": [
    "## data extraction endpoint\n",
    "### snapshot data over time\n",
    "json response looks like:\n",
    "```javascript\n",
    "{\n",
    " 'type': 'FeatureCollection',\n",
    " 'features': [\n",
    "     {\n",
    "         'type': 'Feature',\n",
    "         'geometry': {\n",
    "             'type': 'Point',\n",
    "              'coordinates': [8.670155212077008, 49.399659869507616]},\n",
    "         'properties': {\n",
    "             '@osmId': 'way/135548604',\n",
    "             '@snapshotTimestamp': '2019-02-19T23:00:00',\n",
    "              // filter conditions are always present in the result\n",
    "             'highway': 'living_street',\n",
    "             \n",
    "             // >>> only with properties contains 'metadata'\n",
    "             '@changesetId': 39952663,\n",
    "             '@lastEdit': '2016-06-11T13:27:58',\n",
    "             '@osmType': 'WAY',\n",
    "             '@version': 7,\n",
    "             // <<<\n",
    "            \n",
    "             // >>> only with properties contains 'tags'\n",
    "             'lit': 'yes',\n",
    "             'name': 'Montpellierstraße',\n",
    "             'smoothness': 'excellent',\n",
    "             'surface': 'asphalt'\n",
    "             // <<<\n",
    "         }},\n",
    "      {\n",
    "          'type': 'Feature',\n",
    "          'geometry': {\n",
    "               'type': 'Point',\n",
    "               'coordinates': [8.66844507130631, 49.400558346827175]},\n",
    "          'properties': {\n",
    "              '@osmId': 'way/135548612',\n",
    "              '@snapshotTimestamp': '2019-02-19T23:00:00',\n",
    "              'highway': 'living_street',\n",
    "              '@changesetId': 39952663,\n",
    "              '@osmType': 'WAY',\n",
    "              '@lastEdit': '2016-06-11T13:27:55',\n",
    "              '@version': 8,\n",
    "              'lit': 'yes',\n",
    "              //....\n",
    "       },\n",
    "       //....\n",
    "  ]\n",
    "}\n",
    "```"
   ]
  },
  {
   "cell_type": "code",
   "execution_count": 1,
   "metadata": {},
   "outputs": [],
   "source": [
    "params = {'bboxes': bbox['hd'],\n",
    "          'properties' : 'tags,metadata',\n",
    "          'types': 'way,node,relation', \n",
    "          'keys' : 'highway'\n",
    "         }\n",
    "\n",
    "res = requests.get(ohsome_api+\"/elements/centroid\", params)\n",
    "body = res.json()"
   ]
  },
  {
   "cell_type": "code",
   "execution_count": 1,
   "metadata": {},
   "outputs": [
    {
     "data": {
      "text/html": [
       "<div>\n",
       "<style scoped>\n",
       "    .dataframe tbody tr th:only-of-type {\n",
       "        vertical-align: middle;\n",
       "    }\n",
       "\n",
       "    .dataframe tbody tr th {\n",
       "        vertical-align: top;\n",
       "    }\n",
       "\n",
       "    .dataframe thead th {\n",
       "        text-align: right;\n",
       "    }\n",
       "</style>\n",
       "<table border=\"1\" class=\"dataframe\">\n",
       "  <thead>\n",
       "    <tr style=\"text-align: right;\">\n",
       "      <th></th>\n",
       "      <th>timestamp</th>\n",
       "      <th>osmid</th>\n",
       "      <th>version</th>\n",
       "      <th>osmtype</th>\n",
       "      <th>tagkey</th>\n",
       "      <th>tagvalue</th>\n",
       "    </tr>\n",
       "  </thead>\n",
       "  <tbody>\n",
       "    <tr>\n",
       "      <th>0</th>\n",
       "      <td>2018-02-08 07:31:22</td>\n",
       "      <td>way/4420813</td>\n",
       "      <td>26</td>\n",
       "      <td>WAY</td>\n",
       "      <td>highway</td>\n",
       "      <td>residential</td>\n",
       "    </tr>\n",
       "    <tr>\n",
       "      <th>1</th>\n",
       "      <td>2018-02-08 07:31:22</td>\n",
       "      <td>way/4420813</td>\n",
       "      <td>26</td>\n",
       "      <td>WAY</td>\n",
       "      <td>lit</td>\n",
       "      <td>yes</td>\n",
       "    </tr>\n",
       "    <tr>\n",
       "      <th>2</th>\n",
       "      <td>2018-02-08 07:31:22</td>\n",
       "      <td>way/4420813</td>\n",
       "      <td>26</td>\n",
       "      <td>WAY</td>\n",
       "      <td>maxspeed</td>\n",
       "      <td>30</td>\n",
       "    </tr>\n",
       "    <tr>\n",
       "      <th>3</th>\n",
       "      <td>2018-02-08 07:31:22</td>\n",
       "      <td>way/4420813</td>\n",
       "      <td>26</td>\n",
       "      <td>WAY</td>\n",
       "      <td>name</td>\n",
       "      <td>Panoramastraße</td>\n",
       "    </tr>\n",
       "    <tr>\n",
       "      <th>4</th>\n",
       "      <td>2018-02-08 07:31:22</td>\n",
       "      <td>way/4420813</td>\n",
       "      <td>26</td>\n",
       "      <td>WAY</td>\n",
       "      <td>sidewalk</td>\n",
       "      <td>both</td>\n",
       "    </tr>\n",
       "    <tr>\n",
       "      <th>5</th>\n",
       "      <td>2018-02-08 07:31:22</td>\n",
       "      <td>way/4420813</td>\n",
       "      <td>26</td>\n",
       "      <td>WAY</td>\n",
       "      <td>smoothness</td>\n",
       "      <td>good</td>\n",
       "    </tr>\n",
       "    <tr>\n",
       "      <th>6</th>\n",
       "      <td>2018-02-08 07:31:22</td>\n",
       "      <td>way/4420813</td>\n",
       "      <td>26</td>\n",
       "      <td>WAY</td>\n",
       "      <td>source:maxspeed</td>\n",
       "      <td>DE:zone:30</td>\n",
       "    </tr>\n",
       "    <tr>\n",
       "      <th>7</th>\n",
       "      <td>2018-02-08 07:31:22</td>\n",
       "      <td>way/4420813</td>\n",
       "      <td>26</td>\n",
       "      <td>WAY</td>\n",
       "      <td>surface</td>\n",
       "      <td>asphalt</td>\n",
       "    </tr>\n",
       "    <tr>\n",
       "      <th>8</th>\n",
       "      <td>2016-08-21 06:07:33</td>\n",
       "      <td>way/9349925</td>\n",
       "      <td>19</td>\n",
       "      <td>WAY</td>\n",
       "      <td>highway</td>\n",
       "      <td>tertiary</td>\n",
       "    </tr>\n",
       "    <tr>\n",
       "      <th>9</th>\n",
       "      <td>2016-08-21 06:07:33</td>\n",
       "      <td>way/9349925</td>\n",
       "      <td>19</td>\n",
       "      <td>WAY</td>\n",
       "      <td>lanes</td>\n",
       "      <td>1</td>\n",
       "    </tr>\n",
       "  </tbody>\n",
       "</table>\n",
       "</div>"
      ],
      "text/plain": [
       "            timestamp        osmid  version osmtype           tagkey  \\\n",
       "0 2018-02-08 07:31:22  way/4420813       26     WAY          highway   \n",
       "1 2018-02-08 07:31:22  way/4420813       26     WAY              lit   \n",
       "2 2018-02-08 07:31:22  way/4420813       26     WAY         maxspeed   \n",
       "3 2018-02-08 07:31:22  way/4420813       26     WAY             name   \n",
       "4 2018-02-08 07:31:22  way/4420813       26     WAY         sidewalk   \n",
       "5 2018-02-08 07:31:22  way/4420813       26     WAY       smoothness   \n",
       "6 2018-02-08 07:31:22  way/4420813       26     WAY  source:maxspeed   \n",
       "7 2018-02-08 07:31:22  way/4420813       26     WAY          surface   \n",
       "8 2016-08-21 06:07:33  way/9349925       19     WAY          highway   \n",
       "9 2016-08-21 06:07:33  way/9349925       19     WAY            lanes   \n",
       "\n",
       "         tagvalue  \n",
       "0     residential  \n",
       "1             yes  \n",
       "2              30  \n",
       "3  Panoramastraße  \n",
       "4            both  \n",
       "5            good  \n",
       "6      DE:zone:30  \n",
       "7         asphalt  \n",
       "8        tertiary  \n",
       "9               1  "
      ]
     },
     "metadata": {},
     "output_type": "display_data"
    }
   ],
   "source": [
    "def dataExtraction():\n",
    "    with open('./dataExtraction.csv',mode='w') as csv_file:\n",
    "        csv_file = csv.writer(csv_file,delimiter=',',quotechar='\"',quoting=csv.QUOTE_NONNUMERIC)\n",
    "        csv_file.writerow(['timestamp','osmid','version','osmtype','tagkey','tagvalue'])\n",
    "        \n",
    "        for f in body['features']:\n",
    "            tags = f['properties']\n",
    "            osmid = tags['@osmId']\n",
    "            timestamp = tags['@lastEdit']\n",
    "            version = tags['@version']\n",
    "            osmtype = tags['@osmType']\n",
    "            for k,v in tags.items():\n",
    "                if not k.startswith('@'):\n",
    "                    try:\n",
    "                        csv_file.writerow([timestamp,osmid,version,osmtype,k,v])\n",
    "                    except:\n",
    "                        continue\n",
    "    return pd.read_csv(\"./dataExtraction.csv\", parse_dates=['timestamp'], encoding=\"iso-8859-1\")\n",
    "de = dataExtraction()\n",
    "display(de.head(10))\n"
   ]
  },
  {
   "cell_type": "markdown",
   "metadata": {},
   "source": [
    "### latest timestamp"
   ]
  },
  {
   "cell_type": "code",
   "execution_count": 1,
   "metadata": {},
   "outputs": [
    {
     "data": {
      "text/plain": [
       "Timestamp('2019-02-14 05:20:54')"
      ]
     },
     "metadata": {},
     "output_type": "display_data"
    }
   ],
   "source": [
    "def latestTimetamp():\n",
    "    display(de.timestamp.max())\n",
    "latestTimetamp()"
   ]
  },
  {
   "cell_type": "markdown",
   "metadata": {},
   "source": [
    "### mean number of versions"
   ]
  },
  {
   "cell_type": "code",
   "execution_count": 1,
   "metadata": {},
   "outputs": [
    {
     "data": {
      "text/plain": [
       "osmid\n",
       "node/1019329416     6\n",
       "node/107479229     16\n",
       "node/1089213422     4\n",
       "node/1119794531     6\n",
       "node/11244623       6\n",
       "node/11247599       5\n",
       "node/11247600       5\n",
       "node/1125158222     4\n",
       "node/1125158381     4\n",
       "node/1125556796     4\n",
       "Name: version, dtype: int64"
      ]
     },
     "metadata": {},
     "output_type": "display_data"
    },
    {
     "data": {
      "text/plain": [
       "3.621616856210879"
      ]
     },
     "metadata": {},
     "output_type": "display_data"
    }
   ],
   "source": [
    "def meanVersions():\n",
    "    series_gb = de.groupby(['osmid']).mean().version\n",
    "    display(series_gb.head(10))\n",
    "    display(series_gb.mean())\n",
    "meanVersions()"
   ]
  },
  {
   "cell_type": "code",
   "execution_count": 1,
   "metadata": {},
   "outputs": [
    {
     "data": {
      "text/html": [
       "<div>\n",
       "<style scoped>\n",
       "    .dataframe tbody tr th:only-of-type {\n",
       "        vertical-align: middle;\n",
       "    }\n",
       "\n",
       "    .dataframe tbody tr th {\n",
       "        vertical-align: top;\n",
       "    }\n",
       "\n",
       "    .dataframe thead th {\n",
       "        text-align: right;\n",
       "    }\n",
       "</style>\n",
       "<table border=\"1\" class=\"dataframe\">\n",
       "  <thead>\n",
       "    <tr style=\"text-align: right;\">\n",
       "      <th></th>\n",
       "      <th>osmid</th>\n",
       "      <th>version</th>\n",
       "      <th>tags</th>\n",
       "    </tr>\n",
       "  </thead>\n",
       "  <tbody>\n",
       "    <tr>\n",
       "      <th>0</th>\n",
       "      <td>node/1019329416</td>\n",
       "      <td>6</td>\n",
       "      <td>4</td>\n",
       "    </tr>\n",
       "    <tr>\n",
       "      <th>1</th>\n",
       "      <td>node/107479229</td>\n",
       "      <td>16</td>\n",
       "      <td>7</td>\n",
       "    </tr>\n",
       "    <tr>\n",
       "      <th>2</th>\n",
       "      <td>node/1089213422</td>\n",
       "      <td>4</td>\n",
       "      <td>3</td>\n",
       "    </tr>\n",
       "    <tr>\n",
       "      <th>3</th>\n",
       "      <td>node/1119794531</td>\n",
       "      <td>6</td>\n",
       "      <td>3</td>\n",
       "    </tr>\n",
       "    <tr>\n",
       "      <th>4</th>\n",
       "      <td>node/11244623</td>\n",
       "      <td>6</td>\n",
       "      <td>2</td>\n",
       "    </tr>\n",
       "  </tbody>\n",
       "</table>\n",
       "</div>"
      ],
      "text/plain": [
       "             osmid  version  tags\n",
       "0  node/1019329416        6     4\n",
       "1   node/107479229       16     7\n",
       "2  node/1089213422        4     3\n",
       "3  node/1119794531        6     3\n",
       "4    node/11244623        6     2"
      ]
     },
     "metadata": {},
     "output_type": "display_data"
    },
    {
     "data": {
      "text/plain": [
       "3.7582650092568102"
      ]
     },
     "metadata": {},
     "output_type": "display_data"
    }
   ],
   "source": [
    "def meanTags():\n",
    "    dfgb = de.groupby(['osmid','version']).size().reset_index(name=\"tags\")\n",
    "    display(df_gb.tags.mean())\n",
    "meanTags()"
   ]
  },
  {
   "cell_type": "markdown",
   "metadata": {},
   "source": [
    "### ratio between different osm types"
   ]
  },
  {
   "cell_type": "code",
   "execution_count": 1,
   "metadata": {},
   "outputs": [
    {
     "data": {
      "text/html": [
       "<div>\n",
       "<style scoped>\n",
       "    .dataframe tbody tr th:only-of-type {\n",
       "        vertical-align: middle;\n",
       "    }\n",
       "\n",
       "    .dataframe tbody tr th {\n",
       "        vertical-align: top;\n",
       "    }\n",
       "\n",
       "    .dataframe thead th {\n",
       "        text-align: right;\n",
       "    }\n",
       "</style>\n",
       "<table border=\"1\" class=\"dataframe\">\n",
       "  <thead>\n",
       "    <tr style=\"text-align: right;\">\n",
       "      <th></th>\n",
       "      <th>osmid</th>\n",
       "    </tr>\n",
       "    <tr>\n",
       "      <th>osmtype</th>\n",
       "      <th></th>\n",
       "    </tr>\n",
       "  </thead>\n",
       "  <tbody>\n",
       "    <tr>\n",
       "      <th>NODE</th>\n",
       "      <td>3256</td>\n",
       "    </tr>\n",
       "    <tr>\n",
       "      <th>RELATION</th>\n",
       "      <td>12</td>\n",
       "    </tr>\n",
       "    <tr>\n",
       "      <th>WAY</th>\n",
       "      <td>8075</td>\n",
       "    </tr>\n",
       "  </tbody>\n",
       "</table>\n",
       "</div>"
      ],
      "text/plain": [
       "          osmid\n",
       "osmtype        \n",
       "NODE       3256\n",
       "RELATION     12\n",
       "WAY        8075"
      ]
     },
     "metadata": {},
     "output_type": "display_data"
    }
   ],
   "source": [
    "def ratioTypes():\n",
    "    df_gb = de.groupby(['osmid','osmtype']).size().reset_index(name='tmp')\n",
    "    df_gb = df_gb.groupby(['osmtype']).agg({'osmid':'count'})\n",
    "    display(df_gb.head())\n",
    "    #dfgb.plot.pie(y='osmid')\n",
    "    trace = go.Pie(values=df_gb.osmid)\n",
    "    py.iplot([trace], filename='basic_pie_chart')\n",
    "ratioTypes()\n"
   ]
  },
  {
   "cell_type": "markdown",
   "metadata": {},
   "source": [
    "### data extraction with full history between a time interval\n",
    "json response looks like this:\n",
    "```javascript\n",
    "{\n",
    " 'type': 'FeatureCollection',\n",
    " 'features': [\n",
    "     {\n",
    "        'type': 'Feature',\n",
    "        'geometry': {'type': 'Point', 'coordinates': [8.67003845, 49.39963365]},\n",
    "         'properties': {\n",
    "             '@osmId': 'way/135548604',\n",
    "             '@validFrom': '2011-11-01T15:59:26',\n",
    "             '@validTo': '2012-03-17T19:50:16',\n",
    "             'highway': 'construction'\n",
    "             // >>> only with properties contains 'metadata'\n",
    "             '@changesetId': 9713765,\n",
    "             '@osmType': 'WAY',   \n",
    "             '@version': 1,\n",
    "             // <<<\n",
    "    }},\n",
    "    {\n",
    "        'type': 'Feature',\n",
    "        'geometry': {'type': 'Point', 'coordinates': [8.67003845, 49.39963365]},\n",
    "        'properties': {\n",
    "            '@osmId': 'way/135548604',\n",
    "            '@validFrom': '2012-03-17T19:50:16',\n",
    "            '@validTo': '2013-03-19T18:32:14',\n",
    "            'highway': 'residential'\n",
    "            '@changesetId': 11011888,\n",
    "            '@osmType': 'WAY',\n",
    "            '@version': 2,\n",
    "            // ...\n",
    "    }},\n",
    "  // ...\n",
    "  ]\n",
    "}\n",
    "```"
   ]
  },
  {
   "cell_type": "code",
   "execution_count": 1,
   "metadata": {},
   "outputs": [
    {
     "data": {
      "text/plain": [
       "'https://api.ohsome.org/v0.9-dev/elementsFullHistory/centroid?keys=highway&bboxes=8.6581%2C49.3836%2C8.7225%2C49.4363&time=2007-01-01%2C2019-02-19T23%3A00%3A00&properties=metadata&types=way%2Cnode%2Crelation'"
      ]
     },
     "metadata": {},
     "output_type": "display_data"
    }
   ],
   "source": [
    "def dataExtractionFullHistory():\n",
    "    keys=\"highway\"\n",
    "    \n",
    "    temporalExtent = METADATA['extractRegion']['temporalExtent']\n",
    "    fromTimestamp = pd.to_datetime(temporalExtent['fromTimestamp'])\n",
    "    toTimestamp = pd.to_datetime(temporalExtent['toTimestamp'])\n",
    "    time= ','.join(temporalExtent.values())\n",
    "    \n",
    "    res = dataFullHistory(\"/centroid\"\n",
    "            ,keys=keys,values=None\n",
    "            ,bboxes=BBOX['hd'],time=time\n",
    "            ,properties='metadata'\n",
    "            ,types=\"way,node,relation\")\n",
    "    \n",
    "    display(res.url)   \n",
    "    \n",
    "    body = res.json()\n",
    "    features = body['features']\n",
    "    \n",
    "    with open('./dataExtractionFullHistory.csv',mode='w') as csv_file:\n",
    "        csv_file = csv.writer(csv_file,delimiter=',',quotechar='\"',quoting=csv.QUOTE_NONNUMERIC)\n",
    "        csv_file.writerow(['timestamp','osmid','type','mod','shifted', 'dlon','dlat'])\n",
    "        last = features[0]\n",
    "        lastP = last['properties']\n",
    "        lastG = last['geometry']['coordinates']\n",
    "        csv_file.writerow([lastP['@validFrom'],lastP['@osmId'],lastP['@osmType'],'c',0,0.0,0.0])    \n",
    "        for f in features[1:]:\n",
    "            fP = f['properties']\n",
    "            \n",
    "            fG = f['geometry']['coordinates']\n",
    "            if lastP['@osmId'] == fP['@osmId']:\n",
    "                if lastP['@validTo'] == fP['@validFrom']:\n",
    "                    deltas = [p - c for p,c in zip(lastG,fG)]\n",
    "                    shifted = not all(d == 0 for d in deltas)\n",
    "                    csv_file.writerow([fP['@validFrom'],fP['@osmId'],fP['@osmType'],'u',int(shifted),deltas[0],deltas[1]])\n",
    "                else:\n",
    "                    csv_file.writerow([lastP['@validTo'],lastP['@osmId'],lastP['@osmType'],'d',0,0.0,0.0])\n",
    "                    csv_file.writerow([fP['@validFrom'],fP['@osmId'],fP['@osmType'],'c',0,0.0,0.0])\n",
    "            else:\n",
    "                # transform to real datetime for comparison\n",
    "                lastValidTo = pd.to_datetime(lastP['@validTo'])\n",
    "                if lastValidTo  != toTimestamp:\n",
    "                    csv_file.writerow([lastP['@validTo'],lastP['@osmId'],lastP['@osmType'],'d',0,0.0,0.0])\n",
    "                csv_file.writerow([fP['@validFrom'],fP['@osmId'],fP['@osmType'],'c',0,0.0,0.0])\n",
    "                \n",
    "            lastP = fP\n",
    "            lastG = fG\n",
    "    return pd.read_csv(\"./dataExtractionFullHistory.csv\",dtype={'shifted':'bool','dlon':'float32','dlat':'float32'}, parse_dates=['timestamp'])\n",
    "deh = dataExtractionFullHistory()"
   ]
  },
  {
   "cell_type": "code",
   "execution_count": 1,
   "metadata": {},
   "outputs": [
    {
     "data": {
      "text/html": [
       "<div>\n",
       "<style scoped>\n",
       "    .dataframe tbody tr th:only-of-type {\n",
       "        vertical-align: middle;\n",
       "    }\n",
       "\n",
       "    .dataframe tbody tr th {\n",
       "        vertical-align: top;\n",
       "    }\n",
       "\n",
       "    .dataframe thead th {\n",
       "        text-align: right;\n",
       "    }\n",
       "</style>\n",
       "<table border=\"1\" class=\"dataframe\">\n",
       "  <thead>\n",
       "    <tr style=\"text-align: right;\">\n",
       "      <th></th>\n",
       "      <th>timestamp</th>\n",
       "      <th>osmid</th>\n",
       "      <th>type</th>\n",
       "      <th>mod</th>\n",
       "      <th>shifted</th>\n",
       "      <th>dlon</th>\n",
       "      <th>dlat</th>\n",
       "    </tr>\n",
       "  </thead>\n",
       "  <tbody>\n",
       "    <tr>\n",
       "      <th>0</th>\n",
       "      <td>2011-11-01 15:59:26</td>\n",
       "      <td>way/135548604</td>\n",
       "      <td>WAY</td>\n",
       "      <td>c</td>\n",
       "      <td>False</td>\n",
       "      <td>0.000000e+00</td>\n",
       "      <td>0.000000e+00</td>\n",
       "    </tr>\n",
       "    <tr>\n",
       "      <th>1</th>\n",
       "      <td>2012-03-17 19:50:16</td>\n",
       "      <td>way/135548604</td>\n",
       "      <td>WAY</td>\n",
       "      <td>u</td>\n",
       "      <td>False</td>\n",
       "      <td>0.000000e+00</td>\n",
       "      <td>0.000000e+00</td>\n",
       "    </tr>\n",
       "    <tr>\n",
       "      <th>2</th>\n",
       "      <td>2013-03-19 18:32:14</td>\n",
       "      <td>way/135548604</td>\n",
       "      <td>WAY</td>\n",
       "      <td>u</td>\n",
       "      <td>True</td>\n",
       "      <td>-5.435000e-05</td>\n",
       "      <td>1.955000e-05</td>\n",
       "    </tr>\n",
       "    <tr>\n",
       "      <th>3</th>\n",
       "      <td>2013-05-31 22:35:50</td>\n",
       "      <td>way/135548604</td>\n",
       "      <td>WAY</td>\n",
       "      <td>u</td>\n",
       "      <td>True</td>\n",
       "      <td>-5.370000e-05</td>\n",
       "      <td>-3.785000e-05</td>\n",
       "    </tr>\n",
       "    <tr>\n",
       "      <th>4</th>\n",
       "      <td>2013-08-27 01:24:11</td>\n",
       "      <td>way/135548604</td>\n",
       "      <td>WAY</td>\n",
       "      <td>u</td>\n",
       "      <td>True</td>\n",
       "      <td>5.297510e-09</td>\n",
       "      <td>-6.897913e-09</td>\n",
       "    </tr>\n",
       "  </tbody>\n",
       "</table>\n",
       "</div>"
      ],
      "text/plain": [
       "            timestamp          osmid type mod  shifted          dlon  \\\n",
       "0 2011-11-01 15:59:26  way/135548604  WAY   c    False  0.000000e+00   \n",
       "1 2012-03-17 19:50:16  way/135548604  WAY   u    False  0.000000e+00   \n",
       "2 2013-03-19 18:32:14  way/135548604  WAY   u     True -5.435000e-05   \n",
       "3 2013-05-31 22:35:50  way/135548604  WAY   u     True -5.370000e-05   \n",
       "4 2013-08-27 01:24:11  way/135548604  WAY   u     True  5.297510e-09   \n",
       "\n",
       "           dlat  \n",
       "0  0.000000e+00  \n",
       "1  0.000000e+00  \n",
       "2  1.955000e-05  \n",
       "3 -3.785000e-05  \n",
       "4 -6.897913e-09  "
      ]
     },
     "execution_count": 1,
     "metadata": {},
     "output_type": "execute_result"
    }
   ],
   "source": [
    "deh.head()"
   ]
  },
  {
   "cell_type": "code",
   "execution_count": 1,
   "metadata": {},
   "outputs": [
    {
     "data": {
      "image/png": "[encoded data removed]",
      "text/plain": [
       "<Figure size 432x288 with 1 Axes>"
      ]
     },
     "metadata": {
      "needs_background": "light"
     },
     "output_type": "display_data"
    }
   ],
   "source": [
    "def modification():\n",
    "    dfgb = deh.groupby(['timestamp','mod']).size().to_frame(\"count\").reset_index()\n",
    "    dfgb['mod_c'] = dfgb.apply(lambda row: row['count'] if row['mod'] == 'c' else 0, axis=1)\n",
    "    dfgb['mod_d'] = dfgb.apply(lambda row: row['count'] if row['mod'] == 'd' else 0, axis=1)\n",
    "    dfgb['mod_u'] = dfgb.apply(lambda row: row['count'] if row['mod'] == 'u' else 0, axis=1)\n",
    "    dfgb = dfgb.groupby([pd.Grouper(key='timestamp',freq='MS')]).agg({'mod_c':'sum','mod_u':'sum','mod_d':'sum'})\n",
    "    dfgb.plot()\n",
    "modification()\n"
   ]
  },
  {
   "cell_type": "code",
   "execution_count": 1,
   "metadata": {},
   "outputs": [
    {
     "data": {
      "image/png": "[encoded data removed]",
      "text/plain": [
       "<Figure size 432x288 with 1 Axes>"
      ]
     },
     "metadata": {
      "needs_background": "light"
     },
     "output_type": "display_data"
    }
   ],
   "source": [
    "def shiftPlot():\n",
    "    dfgb = deh.loc[deh['shifted'] == True]\n",
    "    r = dfgb.apply(lambda r: np.sqrt(r['dlon']**2 + r['dlat']**2), axis=1)\n",
    "    theta = dfgb.apply(lambda r: np.arctan2(r['dlat'],r['dlon']), axis=1)\n",
    "\n",
    "    ax = plt.subplot(111, projection='polar')\n",
    "    ax.plot(theta,r)\n",
    "    ax.grid(True)\n",
    "    ax.set_title(\"shift plots\", va='bottom')\n",
    "    plt.show()\n",
    "shiftPlot()"
   ]
  }
 ],
 "metadata": {
  "kernelspec": {
   "display_name": "Python 3",
   "language": "python",
   "name": "python3"
  },
  "language_info": {
   "codemirror_mode": {
    "name": "ipython",
    "version": 3
   },
   "file_extension": ".py",
   "mimetype": "text/x-python",
   "name": "python",
   "nbconvert_exporter": "python",
   "pygments_lexer": "ipython3",
   "version": "3.6.6"
  }
 },
 "nbformat": 4,
 "nbformat_minor": 2
}
