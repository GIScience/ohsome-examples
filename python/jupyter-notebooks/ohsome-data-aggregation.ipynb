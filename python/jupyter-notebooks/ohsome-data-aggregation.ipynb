{
 "cells": [
  {
   "cell_type": "markdown",
   "metadata": {},
   "source": [
    "# ohsome API: Data Aggregation Endpoint\n",
    "\n",
    "Via the ohsome API you have access to the OSM history on a global scale :). Our [documentation](https://docs.ohsome.org/ohsome-api/stable) provides you with the needed information to fire some requests against the API. More infomation about ohsome can be found [here](https://heigit.org/big-spatial-data-analytics-en/ohsome/).\n",
    "\n",
    "In the following we show you some examples how to grab aggregated statistics on the evolution of OSM using Python. \n",
    "[See the full working examples with graphs](https://nbviewer.jupyter.org/github/GIScience/ohsome-examples/blob/master/python/jupyter-notebooks/ohsome-data-aggregation.ipynb\n"),
    "\n",
    "### Import Python packages"
   ]
  },
  {
   "cell_type": "code",
   "execution_count": 1,
   "metadata": {},
   "outputs": [
    {
     "data": {
      "text/html": [
       "        <script type=\"text/javascript\">\n",
       "        window.PlotlyConfig = {MathJaxConfig: 'local'};\n",
       "        if (window.MathJax) {MathJax.Hub.Config({SVG: {font: \"STIX-Web\"}});}\n",
       "        if (typeof require !== 'undefined') {\n",
       "        require.undef(\"plotly\");\n",
       "        requirejs.config({\n",
       "            paths: {\n",
       "                'plotly': ['https://cdn.plot.ly/plotly-latest.min']\n",
       "            }\n",
       "        });\n",
       "        require(['plotly'], function(Plotly) {\n",
       "            window._Plotly = Plotly;\n",
       "        });\n",
       "        }\n",
       "        </script>\n",
       "        "
      ]
     },
     "metadata": {},
     "output_type": "display_data"
    }
   ],
   "source": [
    "# pandas for working with table structured data\n",
    "import pandas as pd\n",
    "\n",
    "# json for handling with json responses\n",
    "import json\n",
    "\n",
    "# requests for http get/post requests\n",
    "import requests\n",
    "import plotly\n",
    "\n",
    "# plotly for generating interactive graphs\n",
    "import chart_studio.plotly as py\n",
    "import plotly.graph_objs as go\n",
    "\n",
    "from IPython.display import *\n",
    "\n",
    "plotly.offline.init_notebook_mode(connected=True)"
   ]
  },
  {
   "cell_type": "markdown",
   "metadata": {},
   "source": [
    "### Define global constants\n",
    "\n",
    "Let's get started and have a more detailed look at three areas in Germany: Heidelberg _(hd)_, Mannheim _(ma)_ and Ludwigshafen _(lu)_. "
   ]
  },
  {
   "cell_type": "code",
   "execution_count": 2,
   "metadata": {},
   "outputs": [],
   "source": [
    "OHSOME_API = \"https://api.ohsome.org/v1\"\n",
    "\n",
    "# Define areas of interest\n",
    "BBOX = { \n",
    "    \"hd\" : \"8.6581,49.3836,8.7225,49.4363\",\n",
    "    \"ma\" : \"8.4514,49.4589,8.5158,49.5114\",\n",
    "    \"lu\" : \"8.3936,49.4448,8.4579,49.4974\"}\n",
    "\n",
    "# Define time intervals: https://en.wikipedia.org/wiki/ISO_8601\n",
    "TIME_MONTHLY = \"2007-11-01/2018-11-01/P1M\"\n",
    "TIME_YEARLY = \"2007-11-01/2018-11-01/P1Y\""
   ]
  },
  {
   "cell_type": "markdown",
   "metadata": {},
   "source": [
    "First we request some metadata."
   ]
  },
  {
   "cell_type": "code",
   "execution_count": 3,
   "metadata": {},
   "outputs": [
    {
     "data": {
      "text/plain": [
       "{'attribution': {'url': 'https://ohsome.org/copyrights',\n",
       "  'text': '© OpenStreetMap contributors'},\n",
       " 'apiVersion': '1.0.0',\n",
       " 'extractRegion': {'spatialExtent': {'type': 'Polygon',\n",
       "   'coordinates': [[[-180.0, -90.0],\n",
       "     [180.0, -90.0],\n",
       "     [180.0, 90.0],\n",
       "     [-180.0, 90.0],\n",
       "     [-180.0, -90.0]]]},\n",
       "  'temporalExtent': {'fromTimestamp': '2007-10-08T00:00:01Z',\n",
       "   'toTimestamp': '2020-06-29T03:00:00Z'},\n",
       "  'replicationSequenceNumber': 68324}}"
      ]
     },
     "metadata": {},
     "output_type": "display_data"
    }
   ],
   "source": [
    "metadata = requests.get(OHSOME_API+\"/metadata\").json()\n",
    "\n",
    "display(metadata)"
   ]
  },
  {
   "cell_type": "markdown",
   "metadata": {},
   "source": [
    "Lossless information on the historical evolution of OSM is available from 8th of October 2007 to 19th of February 2019. This means that all properties of the original OSM data are maintained.\n",
    "\n",
    "## Aggregation endpoint\n",
    "The aggregation endpoint allows you to retrieve aggregated statistics for the OSM history data. You can filter by any OSM tag _(keys, values)_, define your area of interest _(bboxes)_ and choose any time interval _(time)_.\n",
    "\n",
    "### Count buildings in Heidelberg over time"
   ]
  },
  {
   "cell_type": "code",
   "execution_count": 5,
   "metadata": {},
   "outputs": [
    {
     "data": {
      "text/html": [
       "<h4>ohsome API request</h4>"
      ],
      "text/plain": [
       "<IPython.core.display.HTML object>"
      ]
     },
     "metadata": {},
     "output_type": "display_data"
    },
    {
     "data": {
      "text/plain": [
       "'https://api.ohsome.org/v1/elements/count?bboxes=8.6581%2C49.3836%2C8.7225%2C49.4363&filter=building%3D%2A&time=2007-11-01%2F2018-11-01%2FP1M'"
      ]
     },
     "metadata": {},
     "output_type": "display_data"
    },
    {
     "data": {
      "text/html": [
       "<h4>API response</h4>"
      ],
      "text/plain": [
       "<IPython.core.display.HTML object>"
      ]
     },
     "metadata": {},
     "output_type": "display_data"
    },
    {
     "data": {
      "text/html": [
       "<div>\n",
       "<style scoped>\n",
       "    .dataframe tbody tr th:only-of-type {\n",
       "        vertical-align: middle;\n",
       "    }\n",
       "\n",
       "    .dataframe tbody tr th {\n",
       "        vertical-align: top;\n",
       "    }\n",
       "\n",
       "    .dataframe thead th {\n",
       "        text-align: right;\n",
       "    }\n",
       "</style>\n",
       "<table border=\"1\" class=\"dataframe\">\n",
       "  <thead>\n",
       "    <tr style=\"text-align: right;\">\n",
       "      <th></th>\n",
       "      <th>timestamp</th>\n",
       "      <th>value</th>\n",
       "    </tr>\n",
       "  </thead>\n",
       "  <tbody>\n",
       "    <tr>\n",
       "      <th>0</th>\n",
       "      <td>2007-11-01T00:00:00Z</td>\n",
       "      <td>0.0</td>\n",
       "    </tr>\n",
       "    <tr>\n",
       "      <th>1</th>\n",
       "      <td>2007-12-01T00:00:00Z</td>\n",
       "      <td>2.0</td>\n",
       "    </tr>\n",
       "    <tr>\n",
       "      <th>2</th>\n",
       "      <td>2008-01-01T00:00:00Z</td>\n",
       "      <td>2.0</td>\n",
       "    </tr>\n",
       "    <tr>\n",
       "      <th>3</th>\n",
       "      <td>2008-02-01T00:00:00Z</td>\n",
       "      <td>2.0</td>\n",
       "    </tr>\n",
       "    <tr>\n",
       "      <th>4</th>\n",
       "      <td>2008-03-01T00:00:00Z</td>\n",
       "      <td>2.0</td>\n",
       "    </tr>\n",
       "  </tbody>\n",
       "</table>\n",
       "</div>"
      ],
      "text/plain": [
       "              timestamp  value\n",
       "0  2007-11-01T00:00:00Z    0.0\n",
       "1  2007-12-01T00:00:00Z    2.0\n",
       "2  2008-01-01T00:00:00Z    2.0\n",
       "3  2008-02-01T00:00:00Z    2.0\n",
       "4  2008-03-01T00:00:00Z    2.0"
      ]
     },
     "metadata": {},
     "output_type": "display_data"
    },
    {
     "data": {
      "application/vnd.plotly.v1+json": {
       "config": {
        "linkText": "Export to plot.ly",
        "plotlyServerURL": "https://plot.ly",
        "showLink": false
       },
       "data": [
        {
         "type": "scatter",
         "x": [
          "2007-11-01T00:00:00Z",
          "2007-12-01T00:00:00Z",
          "2008-01-01T00:00:00Z",
          "2008-02-01T00:00:00Z",
          "2008-03-01T00:00:00Z",
          "2008-04-01T00:00:00Z",
          "2008-05-01T00:00:00Z",
          "2008-06-01T00:00:00Z",
          "2008-07-01T00:00:00Z",
          "2008-08-01T00:00:00Z",
          "2008-09-01T00:00:00Z",
          "2008-10-01T00:00:00Z",
          "2008-11-01T00:00:00Z",
          "2008-12-01T00:00:00Z",
          "2009-01-01T00:00:00Z",
          "2009-02-01T00:00:00Z",
          "2009-03-01T00:00:00Z",
          "2009-04-01T00:00:00Z",
          "2009-05-01T00:00:00Z",
          "2009-06-01T00:00:00Z",
          "2009-07-01T00:00:00Z",
          "2009-08-01T00:00:00Z",
          "2009-09-01T00:00:00Z",
          "2009-10-01T00:00:00Z",
          "2009-11-01T00:00:00Z",
          "2009-12-01T00:00:00Z",
          "2010-01-01T00:00:00Z",
          "2010-02-01T00:00:00Z",
          "2010-03-01T00:00:00Z",
          "2010-04-01T00:00:00Z",
          "2010-05-01T00:00:00Z",
          "2010-06-01T00:00:00Z",
          "2010-07-01T00:00:00Z",
          "2010-08-01T00:00:00Z",
          "2010-09-01T00:00:00Z",
          "2010-10-01T00:00:00Z",
          "2010-11-01T00:00:00Z",
          "2010-12-01T00:00:00Z",
          "2011-01-01T00:00:00Z",
          "2011-02-01T00:00:00Z",
          "2011-03-01T00:00:00Z",
          "2011-04-01T00:00:00Z",
          "2011-05-01T00:00:00Z",
          "2011-06-01T00:00:00Z",
          "2011-07-01T00:00:00Z",
          "2011-08-01T00:00:00Z",
          "2011-09-01T00:00:00Z",
          "2011-10-01T00:00:00Z",
          "2011-11-01T00:00:00Z",
          "2011-12-01T00:00:00Z",
          "2012-01-01T00:00:00Z",
          "2012-02-01T00:00:00Z",
          "2012-03-01T00:00:00Z",
          "2012-04-01T00:00:00Z",
          "2012-05-01T00:00:00Z",
          "2012-06-01T00:00:00Z",
          "2012-07-01T00:00:00Z",
          "2012-08-01T00:00:00Z",
          "2012-09-01T00:00:00Z",
          "2012-10-01T00:00:00Z",
          "2012-11-01T00:00:00Z",
          "2012-12-01T00:00:00Z",
          "2013-01-01T00:00:00Z",
          "2013-02-01T00:00:00Z",
          "2013-03-01T00:00:00Z",
          "2013-04-01T00:00:00Z",
          "2013-05-01T00:00:00Z",
          "2013-06-01T00:00:00Z",
          "2013-07-01T00:00:00Z",
          "2013-08-01T00:00:00Z",
          "2013-09-01T00:00:00Z",
          "2013-10-01T00:00:00Z",
          "2013-11-01T00:00:00Z",
          "2013-12-01T00:00:00Z",
          "2014-01-01T00:00:00Z",
          "2014-02-01T00:00:00Z",
          "2014-03-01T00:00:00Z",
          "2014-04-01T00:00:00Z",
          "2014-05-01T00:00:00Z",
          "2014-06-01T00:00:00Z",
          "2014-07-01T00:00:00Z",
          "2014-08-01T00:00:00Z",
          "2014-09-01T00:00:00Z",
          "2014-10-01T00:00:00Z",
          "2014-11-01T00:00:00Z",
          "2014-12-01T00:00:00Z",
          "2015-01-01T00:00:00Z",
          "2015-02-01T00:00:00Z",
          "2015-03-01T00:00:00Z",
          "2015-04-01T00:00:00Z",
          "2015-05-01T00:00:00Z",
          "2015-06-01T00:00:00Z",
          "2015-07-01T00:00:00Z",
          "2015-08-01T00:00:00Z",
          "2015-09-01T00:00:00Z",
          "2015-10-01T00:00:00Z",
          "2015-11-01T00:00:00Z",
          "2015-12-01T00:00:00Z",
          "2016-01-01T00:00:00Z",
          "2016-02-01T00:00:00Z",
          "2016-03-01T00:00:00Z",
          "2016-04-01T00:00:00Z",
          "2016-05-01T00:00:00Z",
          "2016-06-01T00:00:00Z",
          "2016-07-01T00:00:00Z",
          "2016-08-01T00:00:00Z",
          "2016-09-01T00:00:00Z",
          "2016-10-01T00:00:00Z",
          "2016-11-01T00:00:00Z",
          "2016-12-01T00:00:00Z",
          "2017-01-01T00:00:00Z",
          "2017-02-01T00:00:00Z",
          "2017-03-01T00:00:00Z",
          "2017-04-01T00:00:00Z",
          "2017-05-01T00:00:00Z",
          "2017-06-01T00:00:00Z",
          "2017-07-01T00:00:00Z",
          "2017-08-01T00:00:00Z",
          "2017-09-01T00:00:00Z",
          "2017-10-01T00:00:00Z",
          "2017-11-01T00:00:00Z",
          "2017-12-01T00:00:00Z",
          "2018-01-01T00:00:00Z",
          "2018-02-01T00:00:00Z",
          "2018-03-01T00:00:00Z",
          "2018-04-01T00:00:00Z",
          "2018-05-01T00:00:00Z",
          "2018-06-01T00:00:00Z",
          "2018-07-01T00:00:00Z",
          "2018-08-01T00:00:00Z",
          "2018-09-01T00:00:00Z",
          "2018-10-01T00:00:00Z",
          "2018-11-01T00:00:00Z"
         ],
         "y": [
          0,
          2,
          2,
          2,
          2,
          2,
          2,
          5,
          44,
          110,
          240,
          256,
          248,
          249,
          256,
          257,
          261,
          278,
          285,
          286,
          386,
          389,
          390,
          399,
          414,
          415,
          424,
          430,
          432,
          444,
          445,
          450,
          451,
          463,
          465,
          493,
          493,
          788,
          3849,
          4365,
          4612,
          4650,
          4765,
          4770,
          4914,
          4965,
          4964,
          4973,
          4978,
          4976,
          5045,
          5334,
          5363,
          5363,
          5383,
          5411,
          5455,
          5641,
          5653,
          5783,
          5802,
          5882,
          5935,
          6096,
          6115,
          6254,
          6612,
          7001,
          7044,
          7127,
          7296,
          7450,
          7538,
          8015,
          8250,
          8434,
          8540,
          8892,
          8963,
          9020,
          9206,
          9821,
          10081,
          10133,
          10193,
          10221,
          10338,
          10340,
          10347,
          10364,
          10399,
          10405,
          10408,
          10422,
          10487,
          10492,
          10501,
          10585,
          10610,
          10777,
          10779,
          10923,
          11083,
          11102,
          11108,
          11273,
          11306,
          11316,
          11335,
          11350,
          11347,
          11391,
          11394,
          11432,
          11475,
          11497,
          11525,
          11517,
          11523,
          11556,
          11577,
          11595,
          11682,
          11835,
          12166,
          12171,
          12178,
          12184,
          12184,
          12183,
          12183,
          12180,
          12210
         ]
        }
       ],
       "layout": {
        "template": {
         "data": {
          "bar": [
           {
            "error_x": {
             "color": "#2a3f5f"
            },
            "error_y": {
             "color": "#2a3f5f"
            },
            "marker": {
             "line": {
              "color": "#E5ECF6",
              "width": 0.5
             }
            },
            "type": "bar"
           }
          ],
          "barpolar": [
           {
            "marker": {
             "line": {
              "color": "#E5ECF6",
              "width": 0.5
             }
            },
            "type": "barpolar"
           }
          ],
          "carpet": [
           {
            "aaxis": {
             "endlinecolor": "#2a3f5f",
             "gridcolor": "white",
             "linecolor": "white",
             "minorgridcolor": "white",
             "startlinecolor": "#2a3f5f"
            },
            "baxis": {
             "endlinecolor": "#2a3f5f",
             "gridcolor": "white",
             "linecolor": "white",
             "minorgridcolor": "white",
             "startlinecolor": "#2a3f5f"
            },
            "type": "carpet"
           }
          ],
          "choropleth": [
           {
            "colorbar": {
             "outlinewidth": 0,
             "ticks": ""
            },
            "type": "choropleth"
           }
          ],
          "contour": [
           {
            "colorbar": {
             "outlinewidth": 0,
             "ticks": ""
            },
            "colorscale": [
             [
              0,
              "#0d0887"
             ],
             [
              0.1111111111111111,
              "#46039f"
             ],
             [
              0.2222222222222222,
              "#7201a8"
             ],
             [
              0.3333333333333333,
              "#9c179e"
             ],
             [
              0.4444444444444444,
              "#bd3786"
             ],
             [
              0.5555555555555556,
              "#d8576b"
             ],
             [
              0.6666666666666666,
              "#ed7953"
             ],
             [
              0.7777777777777778,
              "#fb9f3a"
             ],
             [
              0.8888888888888888,
              "#fdca26"
             ],
             [
              1,
              "#f0f921"
             ]
            ],
            "type": "contour"
           }
          ],
          "contourcarpet": [
           {
            "colorbar": {
             "outlinewidth": 0,
             "ticks": ""
            },
            "type": "contourcarpet"
           }
          ],
          "heatmap": [
           {
            "colorbar": {
             "outlinewidth": 0,
             "ticks": ""
            },
            "colorscale": [
             [
              0,
              "#0d0887"
             ],
             [
              0.1111111111111111,
              "#46039f"
             ],
             [
              0.2222222222222222,
              "#7201a8"
             ],
             [
              0.3333333333333333,
              "#9c179e"
             ],
             [
              0.4444444444444444,
              "#bd3786"
             ],
             [
              0.5555555555555556,
              "#d8576b"
             ],
             [
              0.6666666666666666,
              "#ed7953"
             ],
             [
              0.7777777777777778,
              "#fb9f3a"
             ],
             [
              0.8888888888888888,
              "#fdca26"
             ],
             [
              1,
              "#f0f921"
             ]
            ],
            "type": "heatmap"
           }
          ],
          "heatmapgl": [
           {
            "colorbar": {
             "outlinewidth": 0,
             "ticks": ""
            },
            "colorscale": [
             [
              0,
              "#0d0887"
             ],
             [
              0.1111111111111111,
              "#46039f"
             ],
             [
              0.2222222222222222,
              "#7201a8"
             ],
             [
              0.3333333333333333,
              "#9c179e"
             ],
             [
              0.4444444444444444,
              "#bd3786"
             ],
             [
              0.5555555555555556,
              "#d8576b"
             ],
             [
              0.6666666666666666,
              "#ed7953"
             ],
             [
              0.7777777777777778,
              "#fb9f3a"
             ],
             [
              0.8888888888888888,
              "#fdca26"
             ],
             [
              1,
              "#f0f921"
             ]
            ],
            "type": "heatmapgl"
           }
          ],
          "histogram": [
           {
            "marker": {
             "colorbar": {
              "outlinewidth": 0,
              "ticks": ""
             }
            },
            "type": "histogram"
           }
          ],
          "histogram2d": [
           {
            "colorbar": {
             "outlinewidth": 0,
             "ticks": ""
            },
            "colorscale": [
             [
              0,
              "#0d0887"
             ],
             [
              0.1111111111111111,
              "#46039f"
             ],
             [
              0.2222222222222222,
              "#7201a8"
             ],
             [
              0.3333333333333333,
              "#9c179e"
             ],
             [
              0.4444444444444444,
              "#bd3786"
             ],
             [
              0.5555555555555556,
              "#d8576b"
             ],
             [
              0.6666666666666666,
              "#ed7953"
             ],
             [
              0.7777777777777778,
              "#fb9f3a"
             ],
             [
              0.8888888888888888,
              "#fdca26"
             ],
             [
              1,
              "#f0f921"
             ]
            ],
            "type": "histogram2d"
           }
          ],
          "histogram2dcontour": [
           {
            "colorbar": {
             "outlinewidth": 0,
             "ticks": ""
            },
            "colorscale": [
             [
              0,
              "#0d0887"
             ],
             [
              0.1111111111111111,
              "#46039f"
             ],
             [
              0.2222222222222222,
              "#7201a8"
             ],
             [
              0.3333333333333333,
              "#9c179e"
             ],
             [
              0.4444444444444444,
              "#bd3786"
             ],
             [
              0.5555555555555556,
              "#d8576b"
             ],
             [
              0.6666666666666666,
              "#ed7953"
             ],
             [
              0.7777777777777778,
              "#fb9f3a"
             ],
             [
              0.8888888888888888,
              "#fdca26"
             ],
             [
              1,
              "#f0f921"
             ]
            ],
            "type": "histogram2dcontour"
           }
          ],
          "mesh3d": [
           {
            "colorbar": {
             "outlinewidth": 0,
             "ticks": ""
            },
            "type": "mesh3d"
           }
          ],
          "parcoords": [
           {
            "line": {
             "colorbar": {
              "outlinewidth": 0,
              "ticks": ""
             }
            },
            "type": "parcoords"
           }
          ],
          "pie": [
           {
            "automargin": true,
            "type": "pie"
           }
          ],
          "scatter": [
           {
            "marker": {
             "colorbar": {
              "outlinewidth": 0,
              "ticks": ""
             }
            },
            "type": "scatter"
           }
          ],
          "scatter3d": [
           {
            "line": {
             "colorbar": {
              "outlinewidth": 0,
              "ticks": ""
             }
            },
            "marker": {
             "colorbar": {
              "outlinewidth": 0,
              "ticks": ""
             }
            },
            "type": "scatter3d"
           }
          ],
          "scattercarpet": [
           {
            "marker": {
             "colorbar": {
              "outlinewidth": 0,
              "ticks": ""
             }
            },
            "type": "scattercarpet"
           }
          ],
          "scattergeo": [
           {
            "marker": {
             "colorbar": {
              "outlinewidth": 0,
              "ticks": ""
             }
            },
            "type": "scattergeo"
           }
          ],
          "scattergl": [
           {
            "marker": {
             "colorbar": {
              "outlinewidth": 0,
              "ticks": ""
             }
            },
            "type": "scattergl"
           }
          ],
          "scattermapbox": [
           {
            "marker": {
             "colorbar": {
              "outlinewidth": 0,
              "ticks": ""
             }
            },
            "type": "scattermapbox"
           }
          ],
          "scatterpolar": [
           {
            "marker": {
             "colorbar": {
              "outlinewidth": 0,
              "ticks": ""
             }
            },
            "type": "scatterpolar"
           }
          ],
          "scatterpolargl": [
           {
            "marker": {
             "colorbar": {
              "outlinewidth": 0,
              "ticks": ""
             }
            },
            "type": "scatterpolargl"
           }
          ],
          "scatterternary": [
           {
            "marker": {
             "colorbar": {
              "outlinewidth": 0,
              "ticks": ""
             }
            },
            "type": "scatterternary"
           }
          ],
          "surface": [
           {
            "colorbar": {
             "outlinewidth": 0,
             "ticks": ""
            },
            "colorscale": [
             [
              0,
              "#0d0887"
             ],
             [
              0.1111111111111111,
              "#46039f"
             ],
             [
              0.2222222222222222,
              "#7201a8"
             ],
             [
              0.3333333333333333,
              "#9c179e"
             ],
             [
              0.4444444444444444,
              "#bd3786"
             ],
             [
              0.5555555555555556,
              "#d8576b"
             ],
             [
              0.6666666666666666,
              "#ed7953"
             ],
             [
              0.7777777777777778,
              "#fb9f3a"
             ],
             [
              0.8888888888888888,
              "#fdca26"
             ],
             [
              1,
              "#f0f921"
             ]
            ],
            "type": "surface"
           }
          ],
          "table": [
           {
            "cells": {
             "fill": {
              "color": "#EBF0F8"
             },
             "line": {
              "color": "white"
             }
            },
            "header": {
             "fill": {
              "color": "#C8D4E3"
             },
             "line": {
              "color": "white"
             }
            },
            "type": "table"
           }
          ]
         },
         "layout": {
          "annotationdefaults": {
           "arrowcolor": "#2a3f5f",
           "arrowhead": 0,
           "arrowwidth": 1
          },
          "coloraxis": {
           "colorbar": {
            "outlinewidth": 0,
            "ticks": ""
           }
          },
          "colorscale": {
           "diverging": [
            [
             0,
             "#8e0152"
            ],
            [
             0.1,
             "#c51b7d"
            ],
            [
             0.2,
             "#de77ae"
            ],
            [
             0.3,
             "#f1b6da"
            ],
            [
             0.4,
             "#fde0ef"
            ],
            [
             0.5,
             "#f7f7f7"
            ],
            [
             0.6,
             "#e6f5d0"
            ],
            [
             0.7,
             "#b8e186"
            ],
            [
             0.8,
             "#7fbc41"
            ],
            [
             0.9,
             "#4d9221"
            ],
            [
             1,
             "#276419"
            ]
           ],
           "sequential": [
            [
             0,
             "#0d0887"
            ],
            [
             0.1111111111111111,
             "#46039f"
            ],
            [
             0.2222222222222222,
             "#7201a8"
            ],
            [
             0.3333333333333333,
             "#9c179e"
            ],
            [
             0.4444444444444444,
             "#bd3786"
            ],
            [
             0.5555555555555556,
             "#d8576b"
            ],
            [
             0.6666666666666666,
             "#ed7953"
            ],
            [
             0.7777777777777778,
             "#fb9f3a"
            ],
            [
             0.8888888888888888,
             "#fdca26"
            ],
            [
             1,
             "#f0f921"
            ]
           ],
           "sequentialminus": [
            [
             0,
             "#0d0887"
            ],
            [
             0.1111111111111111,
             "#46039f"
            ],
            [
             0.2222222222222222,
             "#7201a8"
            ],
            [
             0.3333333333333333,
             "#9c179e"
            ],
            [
             0.4444444444444444,
             "#bd3786"
            ],
            [
             0.5555555555555556,
             "#d8576b"
            ],
            [
             0.6666666666666666,
             "#ed7953"
            ],
            [
             0.7777777777777778,
             "#fb9f3a"
            ],
            [
             0.8888888888888888,
             "#fdca26"
            ],
            [
             1,
             "#f0f921"
            ]
           ]
          },
          "colorway": [
           "#636efa",
           "#EF553B",
           "#00cc96",
           "#ab63fa",
           "#FFA15A",
           "#19d3f3",
           "#FF6692",
           "#B6E880",
           "#FF97FF",
           "#FECB52"
          ],
          "font": {
           "color": "#2a3f5f"
          },
          "geo": {
           "bgcolor": "white",
           "lakecolor": "white",
           "landcolor": "#E5ECF6",
           "showlakes": true,
           "showland": true,
           "subunitcolor": "white"
          },
          "hoverlabel": {
           "align": "left"
          },
          "hovermode": "closest",
          "mapbox": {
           "style": "light"
          },
          "paper_bgcolor": "white",
          "plot_bgcolor": "#E5ECF6",
          "polar": {
           "angularaxis": {
            "gridcolor": "white",
            "linecolor": "white",
            "ticks": ""
           },
           "bgcolor": "#E5ECF6",
           "radialaxis": {
            "gridcolor": "white",
            "linecolor": "white",
            "ticks": ""
           }
          },
          "scene": {
           "xaxis": {
            "backgroundcolor": "#E5ECF6",
            "gridcolor": "white",
            "gridwidth": 2,
            "linecolor": "white",
            "showbackground": true,
            "ticks": "",
            "zerolinecolor": "white"
           },
           "yaxis": {
            "backgroundcolor": "#E5ECF6",
            "gridcolor": "white",
            "gridwidth": 2,
            "linecolor": "white",
            "showbackground": true,
            "ticks": "",
            "zerolinecolor": "white"
           },
           "zaxis": {
            "backgroundcolor": "#E5ECF6",
            "gridcolor": "white",
            "gridwidth": 2,
            "linecolor": "white",
            "showbackground": true,
            "ticks": "",
            "zerolinecolor": "white"
           }
          },
          "shapedefaults": {
           "line": {
            "color": "#2a3f5f"
           }
          },
          "ternary": {
           "aaxis": {
            "gridcolor": "white",
            "linecolor": "white",
            "ticks": ""
           },
           "baxis": {
            "gridcolor": "white",
            "linecolor": "white",
            "ticks": ""
           },
           "bgcolor": "#E5ECF6",
           "caxis": {
            "gridcolor": "white",
            "linecolor": "white",
            "ticks": ""
           }
          },
          "title": {
           "x": 0.05
          },
          "xaxis": {
           "automargin": true,
           "gridcolor": "white",
           "linecolor": "white",
           "ticks": "",
           "title": {
            "standoff": 15
           },
           "zerolinecolor": "white",
           "zerolinewidth": 2
          },
          "yaxis": {
           "automargin": true,
           "gridcolor": "white",
           "linecolor": "white",
           "ticks": "",
           "title": {
            "standoff": 15
           },
           "zerolinecolor": "white",
           "zerolinewidth": 2
          }
         }
        },
        "title": {
         "text": "Count of OSM buildings within Heidelberg"
        }
       }
      },
      "text/html": [
       "<div>\n",
       "        \n",
       "        \n",
       "            <div id=\"3491dab7-ef32-43fe-b176-146638917bf3\" class=\"plotly-graph-div\" style=\"height:525px; width:100%;\"></div>\n",
       "            <script type=\"text/javascript\">\n",
       "                require([\"plotly\"], function(Plotly) {\n",
       "                    window.PLOTLYENV=window.PLOTLYENV || {};\n",
       "                    \n",
       "                if (document.getElementById(\"3491dab7-ef32-43fe-b176-146638917bf3\")) {\n",
       "                    Plotly.newPlot(\n",
       "                        '3491dab7-ef32-43fe-b176-146638917bf3',\n",
       "                        [{\"type\": \"scatter\", \"x\": [\"2007-11-01T00:00:00Z\", \"2007-12-01T00:00:00Z\", \"2008-01-01T00:00:00Z\", \"2008-02-01T00:00:00Z\", \"2008-03-01T00:00:00Z\", \"2008-04-01T00:00:00Z\", \"2008-05-01T00:00:00Z\", \"2008-06-01T00:00:00Z\", \"2008-07-01T00:00:00Z\", \"2008-08-01T00:00:00Z\", \"2008-09-01T00:00:00Z\", \"2008-10-01T00:00:00Z\", \"2008-11-01T00:00:00Z\", \"2008-12-01T00:00:00Z\", \"2009-01-01T00:00:00Z\", \"2009-02-01T00:00:00Z\", \"2009-03-01T00:00:00Z\", \"2009-04-01T00:00:00Z\", \"2009-05-01T00:00:00Z\", \"2009-06-01T00:00:00Z\", \"2009-07-01T00:00:00Z\", \"2009-08-01T00:00:00Z\", \"2009-09-01T00:00:00Z\", \"2009-10-01T00:00:00Z\", \"2009-11-01T00:00:00Z\", \"2009-12-01T00:00:00Z\", \"2010-01-01T00:00:00Z\", \"2010-02-01T00:00:00Z\", \"2010-03-01T00:00:00Z\", \"2010-04-01T00:00:00Z\", \"2010-05-01T00:00:00Z\", \"2010-06-01T00:00:00Z\", \"2010-07-01T00:00:00Z\", \"2010-08-01T00:00:00Z\", \"2010-09-01T00:00:00Z\", \"2010-10-01T00:00:00Z\", \"2010-11-01T00:00:00Z\", \"2010-12-01T00:00:00Z\", \"2011-01-01T00:00:00Z\", \"2011-02-01T00:00:00Z\", \"2011-03-01T00:00:00Z\", \"2011-04-01T00:00:00Z\", \"2011-05-01T00:00:00Z\", \"2011-06-01T00:00:00Z\", \"2011-07-01T00:00:00Z\", \"2011-08-01T00:00:00Z\", \"2011-09-01T00:00:00Z\", \"2011-10-01T00:00:00Z\", \"2011-11-01T00:00:00Z\", \"2011-12-01T00:00:00Z\", \"2012-01-01T00:00:00Z\", \"2012-02-01T00:00:00Z\", \"2012-03-01T00:00:00Z\", \"2012-04-01T00:00:00Z\", \"2012-05-01T00:00:00Z\", \"2012-06-01T00:00:00Z\", \"2012-07-01T00:00:00Z\", \"2012-08-01T00:00:00Z\", \"2012-09-01T00:00:00Z\", \"2012-10-01T00:00:00Z\", \"2012-11-01T00:00:00Z\", \"2012-12-01T00:00:00Z\", \"2013-01-01T00:00:00Z\", \"2013-02-01T00:00:00Z\", \"2013-03-01T00:00:00Z\", \"2013-04-01T00:00:00Z\", \"2013-05-01T00:00:00Z\", \"2013-06-01T00:00:00Z\", \"2013-07-01T00:00:00Z\", \"2013-08-01T00:00:00Z\", \"2013-09-01T00:00:00Z\", \"2013-10-01T00:00:00Z\", \"2013-11-01T00:00:00Z\", \"2013-12-01T00:00:00Z\", \"2014-01-01T00:00:00Z\", \"2014-02-01T00:00:00Z\", \"2014-03-01T00:00:00Z\", \"2014-04-01T00:00:00Z\", \"2014-05-01T00:00:00Z\", \"2014-06-01T00:00:00Z\", \"2014-07-01T00:00:00Z\", \"2014-08-01T00:00:00Z\", \"2014-09-01T00:00:00Z\", \"2014-10-01T00:00:00Z\", \"2014-11-01T00:00:00Z\", \"2014-12-01T00:00:00Z\", \"2015-01-01T00:00:00Z\", \"2015-02-01T00:00:00Z\", \"2015-03-01T00:00:00Z\", \"2015-04-01T00:00:00Z\", \"2015-05-01T00:00:00Z\", \"2015-06-01T00:00:00Z\", \"2015-07-01T00:00:00Z\", \"2015-08-01T00:00:00Z\", \"2015-09-01T00:00:00Z\", \"2015-10-01T00:00:00Z\", \"2015-11-01T00:00:00Z\", \"2015-12-01T00:00:00Z\", \"2016-01-01T00:00:00Z\", \"2016-02-01T00:00:00Z\", \"2016-03-01T00:00:00Z\", \"2016-04-01T00:00:00Z\", \"2016-05-01T00:00:00Z\", \"2016-06-01T00:00:00Z\", \"2016-07-01T00:00:00Z\", \"2016-08-01T00:00:00Z\", \"2016-09-01T00:00:00Z\", \"2016-10-01T00:00:00Z\", \"2016-11-01T00:00:00Z\", \"2016-12-01T00:00:00Z\", \"2017-01-01T00:00:00Z\", \"2017-02-01T00:00:00Z\", \"2017-03-01T00:00:00Z\", \"2017-04-01T00:00:00Z\", \"2017-05-01T00:00:00Z\", \"2017-06-01T00:00:00Z\", \"2017-07-01T00:00:00Z\", \"2017-08-01T00:00:00Z\", \"2017-09-01T00:00:00Z\", \"2017-10-01T00:00:00Z\", \"2017-11-01T00:00:00Z\", \"2017-12-01T00:00:00Z\", \"2018-01-01T00:00:00Z\", \"2018-02-01T00:00:00Z\", \"2018-03-01T00:00:00Z\", \"2018-04-01T00:00:00Z\", \"2018-05-01T00:00:00Z\", \"2018-06-01T00:00:00Z\", \"2018-07-01T00:00:00Z\", \"2018-08-01T00:00:00Z\", \"2018-09-01T00:00:00Z\", \"2018-10-01T00:00:00Z\", \"2018-11-01T00:00:00Z\"], \"y\": [0.0, 2.0, 2.0, 2.0, 2.0, 2.0, 2.0, 5.0, 44.0, 110.0, 240.0, 256.0, 248.0, 249.0, 256.0, 257.0, 261.0, 278.0, 285.0, 286.0, 386.0, 389.0, 390.0, 399.0, 414.0, 415.0, 424.0, 430.0, 432.0, 444.0, 445.0, 450.0, 451.0, 463.0, 465.0, 493.0, 493.0, 788.0, 3849.0, 4365.0, 4612.0, 4650.0, 4765.0, 4770.0, 4914.0, 4965.0, 4964.0, 4973.0, 4978.0, 4976.0, 5045.0, 5334.0, 5363.0, 5363.0, 5383.0, 5411.0, 5455.0, 5641.0, 5653.0, 5783.0, 5802.0, 5882.0, 5935.0, 6096.0, 6115.0, 6254.0, 6612.0, 7001.0, 7044.0, 7127.0, 7296.0, 7450.0, 7538.0, 8015.0, 8250.0, 8434.0, 8540.0, 8892.0, 8963.0, 9020.0, 9206.0, 9821.0, 10081.0, 10133.0, 10193.0, 10221.0, 10338.0, 10340.0, 10347.0, 10364.0, 10399.0, 10405.0, 10408.0, 10422.0, 10487.0, 10492.0, 10501.0, 10585.0, 10610.0, 10777.0, 10779.0, 10923.0, 11083.0, 11102.0, 11108.0, 11273.0, 11306.0, 11316.0, 11335.0, 11350.0, 11347.0, 11391.0, 11394.0, 11432.0, 11475.0, 11497.0, 11525.0, 11517.0, 11523.0, 11556.0, 11577.0, 11595.0, 11682.0, 11835.0, 12166.0, 12171.0, 12178.0, 12184.0, 12184.0, 12183.0, 12183.0, 12180.0, 12210.0]}],\n",
       "                        {\"template\": {\"data\": {\"bar\": [{\"error_x\": {\"color\": \"#2a3f5f\"}, \"error_y\": {\"color\": \"#2a3f5f\"}, \"marker\": {\"line\": {\"color\": \"#E5ECF6\", \"width\": 0.5}}, \"type\": \"bar\"}], \"barpolar\": [{\"marker\": {\"line\": {\"color\": \"#E5ECF6\", \"width\": 0.5}}, \"type\": \"barpolar\"}], \"carpet\": [{\"aaxis\": {\"endlinecolor\": \"#2a3f5f\", \"gridcolor\": \"white\", \"linecolor\": \"white\", \"minorgridcolor\": \"white\", \"startlinecolor\": \"#2a3f5f\"}, \"baxis\": {\"endlinecolor\": \"#2a3f5f\", \"gridcolor\": \"white\", \"linecolor\": \"white\", \"minorgridcolor\": \"white\", \"startlinecolor\": \"#2a3f5f\"}, \"type\": \"carpet\"}], \"choropleth\": [{\"colorbar\": {\"outlinewidth\": 0, \"ticks\": \"\"}, \"type\": \"choropleth\"}], \"contour\": [{\"colorbar\": {\"outlinewidth\": 0, \"ticks\": \"\"}, \"colorscale\": [[0.0, \"#0d0887\"], [0.1111111111111111, \"#46039f\"], [0.2222222222222222, \"#7201a8\"], [0.3333333333333333, \"#9c179e\"], [0.4444444444444444, \"#bd3786\"], [0.5555555555555556, \"#d8576b\"], [0.6666666666666666, \"#ed7953\"], [0.7777777777777778, \"#fb9f3a\"], [0.8888888888888888, \"#fdca26\"], [1.0, \"#f0f921\"]], \"type\": \"contour\"}], \"contourcarpet\": [{\"colorbar\": {\"outlinewidth\": 0, \"ticks\": \"\"}, \"type\": \"contourcarpet\"}], \"heatmap\": [{\"colorbar\": {\"outlinewidth\": 0, \"ticks\": \"\"}, \"colorscale\": [[0.0, \"#0d0887\"], [0.1111111111111111, \"#46039f\"], [0.2222222222222222, \"#7201a8\"], [0.3333333333333333, \"#9c179e\"], [0.4444444444444444, \"#bd3786\"], [0.5555555555555556, \"#d8576b\"], [0.6666666666666666, \"#ed7953\"], [0.7777777777777778, \"#fb9f3a\"], [0.8888888888888888, \"#fdca26\"], [1.0, \"#f0f921\"]], \"type\": \"heatmap\"}], \"heatmapgl\": [{\"colorbar\": {\"outlinewidth\": 0, \"ticks\": \"\"}, \"colorscale\": [[0.0, \"#0d0887\"], [0.1111111111111111, \"#46039f\"], [0.2222222222222222, \"#7201a8\"], [0.3333333333333333, \"#9c179e\"], [0.4444444444444444, \"#bd3786\"], [0.5555555555555556, \"#d8576b\"], [0.6666666666666666, \"#ed7953\"], [0.7777777777777778, \"#fb9f3a\"], [0.8888888888888888, \"#fdca26\"], [1.0, \"#f0f921\"]], \"type\": \"heatmapgl\"}], \"histogram\": [{\"marker\": {\"colorbar\": {\"outlinewidth\": 0, \"ticks\": \"\"}}, \"type\": \"histogram\"}], \"histogram2d\": [{\"colorbar\": {\"outlinewidth\": 0, \"ticks\": \"\"}, \"colorscale\": [[0.0, \"#0d0887\"], [0.1111111111111111, \"#46039f\"], [0.2222222222222222, \"#7201a8\"], [0.3333333333333333, \"#9c179e\"], [0.4444444444444444, \"#bd3786\"], [0.5555555555555556, \"#d8576b\"], [0.6666666666666666, \"#ed7953\"], [0.7777777777777778, \"#fb9f3a\"], [0.8888888888888888, \"#fdca26\"], [1.0, \"#f0f921\"]], \"type\": \"histogram2d\"}], \"histogram2dcontour\": [{\"colorbar\": {\"outlinewidth\": 0, \"ticks\": \"\"}, \"colorscale\": [[0.0, \"#0d0887\"], [0.1111111111111111, \"#46039f\"], [0.2222222222222222, \"#7201a8\"], [0.3333333333333333, \"#9c179e\"], [0.4444444444444444, \"#bd3786\"], [0.5555555555555556, \"#d8576b\"], [0.6666666666666666, \"#ed7953\"], [0.7777777777777778, \"#fb9f3a\"], [0.8888888888888888, \"#fdca26\"], [1.0, \"#f0f921\"]], \"type\": \"histogram2dcontour\"}], \"mesh3d\": [{\"colorbar\": {\"outlinewidth\": 0, \"ticks\": \"\"}, \"type\": \"mesh3d\"}], \"parcoords\": [{\"line\": {\"colorbar\": {\"outlinewidth\": 0, \"ticks\": \"\"}}, \"type\": \"parcoords\"}], \"pie\": [{\"automargin\": true, \"type\": \"pie\"}], \"scatter\": [{\"marker\": {\"colorbar\": {\"outlinewidth\": 0, \"ticks\": \"\"}}, \"type\": \"scatter\"}], \"scatter3d\": [{\"line\": {\"colorbar\": {\"outlinewidth\": 0, \"ticks\": \"\"}}, \"marker\": {\"colorbar\": {\"outlinewidth\": 0, \"ticks\": \"\"}}, \"type\": \"scatter3d\"}], \"scattercarpet\": [{\"marker\": {\"colorbar\": {\"outlinewidth\": 0, \"ticks\": \"\"}}, \"type\": \"scattercarpet\"}], \"scattergeo\": [{\"marker\": {\"colorbar\": {\"outlinewidth\": 0, \"ticks\": \"\"}}, \"type\": \"scattergeo\"}], \"scattergl\": [{\"marker\": {\"colorbar\": {\"outlinewidth\": 0, \"ticks\": \"\"}}, \"type\": \"scattergl\"}], \"scattermapbox\": [{\"marker\": {\"colorbar\": {\"outlinewidth\": 0, \"ticks\": \"\"}}, \"type\": \"scattermapbox\"}], \"scatterpolar\": [{\"marker\": {\"colorbar\": {\"outlinewidth\": 0, \"ticks\": \"\"}}, \"type\": \"scatterpolar\"}], \"scatterpolargl\": [{\"marker\": {\"colorbar\": {\"outlinewidth\": 0, \"ticks\": \"\"}}, \"type\": \"scatterpolargl\"}], \"scatterternary\": [{\"marker\": {\"colorbar\": {\"outlinewidth\": 0, \"ticks\": \"\"}}, \"type\": \"scatterternary\"}], \"surface\": [{\"colorbar\": {\"outlinewidth\": 0, \"ticks\": \"\"}, \"colorscale\": [[0.0, \"#0d0887\"], [0.1111111111111111, \"#46039f\"], [0.2222222222222222, \"#7201a8\"], [0.3333333333333333, \"#9c179e\"], [0.4444444444444444, \"#bd3786\"], [0.5555555555555556, \"#d8576b\"], [0.6666666666666666, \"#ed7953\"], [0.7777777777777778, \"#fb9f3a\"], [0.8888888888888888, \"#fdca26\"], [1.0, \"#f0f921\"]], \"type\": \"surface\"}], \"table\": [{\"cells\": {\"fill\": {\"color\": \"#EBF0F8\"}, \"line\": {\"color\": \"white\"}}, \"header\": {\"fill\": {\"color\": \"#C8D4E3\"}, \"line\": {\"color\": \"white\"}}, \"type\": \"table\"}]}, \"layout\": {\"annotationdefaults\": {\"arrowcolor\": \"#2a3f5f\", \"arrowhead\": 0, \"arrowwidth\": 1}, \"coloraxis\": {\"colorbar\": {\"outlinewidth\": 0, \"ticks\": \"\"}}, \"colorscale\": {\"diverging\": [[0, \"#8e0152\"], [0.1, \"#c51b7d\"], [0.2, \"#de77ae\"], [0.3, \"#f1b6da\"], [0.4, \"#fde0ef\"], [0.5, \"#f7f7f7\"], [0.6, \"#e6f5d0\"], [0.7, \"#b8e186\"], [0.8, \"#7fbc41\"], [0.9, \"#4d9221\"], [1, \"#276419\"]], \"sequential\": [[0.0, \"#0d0887\"], [0.1111111111111111, \"#46039f\"], [0.2222222222222222, \"#7201a8\"], [0.3333333333333333, \"#9c179e\"], [0.4444444444444444, \"#bd3786\"], [0.5555555555555556, \"#d8576b\"], [0.6666666666666666, \"#ed7953\"], [0.7777777777777778, \"#fb9f3a\"], [0.8888888888888888, \"#fdca26\"], [1.0, \"#f0f921\"]], \"sequentialminus\": [[0.0, \"#0d0887\"], [0.1111111111111111, \"#46039f\"], [0.2222222222222222, \"#7201a8\"], [0.3333333333333333, \"#9c179e\"], [0.4444444444444444, \"#bd3786\"], [0.5555555555555556, \"#d8576b\"], [0.6666666666666666, \"#ed7953\"], [0.7777777777777778, \"#fb9f3a\"], [0.8888888888888888, \"#fdca26\"], [1.0, \"#f0f921\"]]}, \"colorway\": [\"#636efa\", \"#EF553B\", \"#00cc96\", \"#ab63fa\", \"#FFA15A\", \"#19d3f3\", \"#FF6692\", \"#B6E880\", \"#FF97FF\", \"#FECB52\"], \"font\": {\"color\": \"#2a3f5f\"}, \"geo\": {\"bgcolor\": \"white\", \"lakecolor\": \"white\", \"landcolor\": \"#E5ECF6\", \"showlakes\": true, \"showland\": true, \"subunitcolor\": \"white\"}, \"hoverlabel\": {\"align\": \"left\"}, \"hovermode\": \"closest\", \"mapbox\": {\"style\": \"light\"}, \"paper_bgcolor\": \"white\", \"plot_bgcolor\": \"#E5ECF6\", \"polar\": {\"angularaxis\": {\"gridcolor\": \"white\", \"linecolor\": \"white\", \"ticks\": \"\"}, \"bgcolor\": \"#E5ECF6\", \"radialaxis\": {\"gridcolor\": \"white\", \"linecolor\": \"white\", \"ticks\": \"\"}}, \"scene\": {\"xaxis\": {\"backgroundcolor\": \"#E5ECF6\", \"gridcolor\": \"white\", \"gridwidth\": 2, \"linecolor\": \"white\", \"showbackground\": true, \"ticks\": \"\", \"zerolinecolor\": \"white\"}, \"yaxis\": {\"backgroundcolor\": \"#E5ECF6\", \"gridcolor\": \"white\", \"gridwidth\": 2, \"linecolor\": \"white\", \"showbackground\": true, \"ticks\": \"\", \"zerolinecolor\": \"white\"}, \"zaxis\": {\"backgroundcolor\": \"#E5ECF6\", \"gridcolor\": \"white\", \"gridwidth\": 2, \"linecolor\": \"white\", \"showbackground\": true, \"ticks\": \"\", \"zerolinecolor\": \"white\"}}, \"shapedefaults\": {\"line\": {\"color\": \"#2a3f5f\"}}, \"ternary\": {\"aaxis\": {\"gridcolor\": \"white\", \"linecolor\": \"white\", \"ticks\": \"\"}, \"baxis\": {\"gridcolor\": \"white\", \"linecolor\": \"white\", \"ticks\": \"\"}, \"bgcolor\": \"#E5ECF6\", \"caxis\": {\"gridcolor\": \"white\", \"linecolor\": \"white\", \"ticks\": \"\"}}, \"title\": {\"x\": 0.05}, \"xaxis\": {\"automargin\": true, \"gridcolor\": \"white\", \"linecolor\": \"white\", \"ticks\": \"\", \"title\": {\"standoff\": 15}, \"zerolinecolor\": \"white\", \"zerolinewidth\": 2}, \"yaxis\": {\"automargin\": true, \"gridcolor\": \"white\", \"linecolor\": \"white\", \"ticks\": \"\", \"title\": {\"standoff\": 15}, \"zerolinecolor\": \"white\", \"zerolinewidth\": 2}}}, \"title\": {\"text\": \"Count of OSM buildings within Heidelberg\"}},\n",
       "                        {\"responsive\": true}\n",
       "                    ).then(function(){\n",
       "                            \n",
       "var gd = document.getElementById('3491dab7-ef32-43fe-b176-146638917bf3');\n",
       "var x = new MutationObserver(function (mutations, observer) {{\n",
       "        var display = window.getComputedStyle(gd).display;\n",
       "        if (!display || display === 'none') {{\n",
       "            console.log([gd, 'removed!']);\n",
       "            Plotly.purge(gd);\n",
       "            observer.disconnect();\n",
       "        }}\n",
       "}});\n",
       "\n",
       "// Listen for the removal of the full notebook cells\n",
       "var notebookContainer = gd.closest('#notebook-container');\n",
       "if (notebookContainer) {{\n",
       "    x.observe(notebookContainer, {childList: true});\n",
       "}}\n",
       "\n",
       "// Listen for the clearing of the current output cell\n",
       "var outputEl = gd.closest('.output');\n",
       "if (outputEl) {{\n",
       "    x.observe(outputEl, {childList: true});\n",
       "}}\n",
       "\n",
       "                        })\n",
       "                };\n",
       "                });\n",
       "            </script>\n",
       "        </div>"
      ]
     },
     "metadata": {},
     "output_type": "display_data"
    }
   ],
   "source": [
    "params = {'bboxes': BBOX['hd'],\n",
    "          'filter': 'building=*',\n",
    "          'time': TIME_MONTHLY\n",
    "         }\n",
    "\n",
    "# sending get request to ohsome API \n",
    "res = requests.get(OHSOME_API+\"/elements/count\", params)\n",
    "\n",
    "display(HTML('<h4>ohsome API request</h4>'))\n",
    "display(res.url)\n",
    "\n",
    "# extracting data in json format and storing it in a dataframe\n",
    "display(HTML('<h4>API response</h4>'))\n",
    "df = pd.DataFrame(res.json()['result'])\n",
    "display(df.head())\n",
    "\n",
    "# plotting the result\n",
    "data = [go.Scatter(x = df.timestamp, y = df.value)]\n",
    "\n",
    "fig = dict(data = data, layout = go.Layout(title = \"Count of OSM buildings within Heidelberg\"))\n",
    "plotly.offline.iplot(fig, filename = 'count')"
   ]
  },
  {
   "cell_type": "markdown",
   "metadata": {},
   "source": [
    "### Ratio between two OSM tag groups over time\n",
    "The ohsome API also allows you two generate ratios between two different OSM tag groups. In this example we answer the question: What is the percentage of OSM buildings that include house numbers (are tagged with the OSM key _addr:housenumber_)? "
   ]
  },
  {
   "cell_type": "code",
   "execution_count": 13,
   "metadata": {},
   "outputs": [
    {
     "data": {
      "text/html": [
       "<h4>ohsome API request</h4>"
      ],
      "text/plain": [
       "<IPython.core.display.HTML object>"
      ]
     },
     "metadata": {},
     "output_type": "display_data"
    },
    {
     "data": {
      "text/plain": [
       "'https://api.ohsome.org/v1/elements/count/ratio?bboxes=8.6581%2C49.3836%2C8.7225%2C49.4363&filter=building%3D%2A&filter2=building%3D%2A+and+addr%3Ahousenumber%3D%2A&time=2007-11-01%2F2018-11-01%2FP1M'"
      ]
     },
     "metadata": {},
     "output_type": "display_data"
    },
    {
     "data": {
      "text/html": [
       "<h4>API response</h4>"
      ],
      "text/plain": [
       "<IPython.core.display.HTML object>"
      ]
     },
     "metadata": {},
     "output_type": "display_data"
    },
    {
     "data": {
      "text/html": [
       "<div>\n",
       "<style scoped>\n",
       "    .dataframe tbody tr th:only-of-type {\n",
       "        vertical-align: middle;\n",
       "    }\n",
       "\n",
       "    .dataframe tbody tr th {\n",
       "        vertical-align: top;\n",
       "    }\n",
       "\n",
       "    .dataframe thead th {\n",
       "        text-align: right;\n",
       "    }\n",
       "</style>\n",
       "<table border=\"1\" class=\"dataframe\">\n",
       "  <thead>\n",
       "    <tr style=\"text-align: right;\">\n",
       "      <th></th>\n",
       "      <th>timestamp</th>\n",
       "      <th>value</th>\n",
       "      <th>value2</th>\n",
       "      <th>ratio</th>\n",
       "    </tr>\n",
       "  </thead>\n",
       "  <tbody>\n",
       "    <tr>\n",
       "      <th>0</th>\n",
       "      <td>2007-11-01T00:00:00Z</td>\n",
       "      <td>0.0</td>\n",
       "      <td>0.0</td>\n",
       "      <td>NaN</td>\n",
       "    </tr>\n",
       "    <tr>\n",
       "      <th>1</th>\n",
       "      <td>2007-12-01T00:00:00Z</td>\n",
       "      <td>2.0</td>\n",
       "      <td>0.0</td>\n",
       "      <td>0</td>\n",
       "    </tr>\n",
       "    <tr>\n",
       "      <th>2</th>\n",
       "      <td>2008-01-01T00:00:00Z</td>\n",
       "      <td>2.0</td>\n",
       "      <td>0.0</td>\n",
       "      <td>0</td>\n",
       "    </tr>\n",
       "    <tr>\n",
       "      <th>3</th>\n",
       "      <td>2008-02-01T00:00:00Z</td>\n",
       "      <td>2.0</td>\n",
       "      <td>0.0</td>\n",
       "      <td>0</td>\n",
       "    </tr>\n",
       "    <tr>\n",
       "      <th>4</th>\n",
       "      <td>2008-03-01T00:00:00Z</td>\n",
       "      <td>2.0</td>\n",
       "      <td>0.0</td>\n",
       "      <td>0</td>\n",
       "    </tr>\n",
       "  </tbody>\n",
       "</table>\n",
       "</div>"
      ],
      "text/plain": [
       "              timestamp  value  value2 ratio\n",
       "0  2007-11-01T00:00:00Z    0.0     0.0   NaN\n",
       "1  2007-12-01T00:00:00Z    2.0     0.0     0\n",
       "2  2008-01-01T00:00:00Z    2.0     0.0     0\n",
       "3  2008-02-01T00:00:00Z    2.0     0.0     0\n",
       "4  2008-03-01T00:00:00Z    2.0     0.0     0"
      ]
     },
     "metadata": {},
     "output_type": "display_data"
    },
    {
     "data": {
      "application/vnd.plotly.v1+json": {
       "config": {
        "linkText": "Export to plot.ly",
        "plotlyServerURL": "https://plot.ly",
        "showLink": false
       },
       "data": [
        {
         "name": "building",
         "type": "scatter",
         "x": [
          "2007-11-01T00:00:00Z",
          "2007-12-01T00:00:00Z",
          "2008-01-01T00:00:00Z",
          "2008-02-01T00:00:00Z",
          "2008-03-01T00:00:00Z",
          "2008-04-01T00:00:00Z",
          "2008-05-01T00:00:00Z",
          "2008-06-01T00:00:00Z",
          "2008-07-01T00:00:00Z",
          "2008-08-01T00:00:00Z",
          "2008-09-01T00:00:00Z",
          "2008-10-01T00:00:00Z",
          "2008-11-01T00:00:00Z",
          "2008-12-01T00:00:00Z",
          "2009-01-01T00:00:00Z",
          "2009-02-01T00:00:00Z",
          "2009-03-01T00:00:00Z",
          "2009-04-01T00:00:00Z",
          "2009-05-01T00:00:00Z",
          "2009-06-01T00:00:00Z",
          "2009-07-01T00:00:00Z",
          "2009-08-01T00:00:00Z",
          "2009-09-01T00:00:00Z",
          "2009-10-01T00:00:00Z",
          "2009-11-01T00:00:00Z",
          "2009-12-01T00:00:00Z",
          "2010-01-01T00:00:00Z",
          "2010-02-01T00:00:00Z",
          "2010-03-01T00:00:00Z",
          "2010-04-01T00:00:00Z",
          "2010-05-01T00:00:00Z",
          "2010-06-01T00:00:00Z",
          "2010-07-01T00:00:00Z",
          "2010-08-01T00:00:00Z",
          "2010-09-01T00:00:00Z",
          "2010-10-01T00:00:00Z",
          "2010-11-01T00:00:00Z",
          "2010-12-01T00:00:00Z",
          "2011-01-01T00:00:00Z",
          "2011-02-01T00:00:00Z",
          "2011-03-01T00:00:00Z",
          "2011-04-01T00:00:00Z",
          "2011-05-01T00:00:00Z",
          "2011-06-01T00:00:00Z",
          "2011-07-01T00:00:00Z",
          "2011-08-01T00:00:00Z",
          "2011-09-01T00:00:00Z",
          "2011-10-01T00:00:00Z",
          "2011-11-01T00:00:00Z",
          "2011-12-01T00:00:00Z",
          "2012-01-01T00:00:00Z",
          "2012-02-01T00:00:00Z",
          "2012-03-01T00:00:00Z",
          "2012-04-01T00:00:00Z",
          "2012-05-01T00:00:00Z",
          "2012-06-01T00:00:00Z",
          "2012-07-01T00:00:00Z",
          "2012-08-01T00:00:00Z",
          "2012-09-01T00:00:00Z",
          "2012-10-01T00:00:00Z",
          "2012-11-01T00:00:00Z",
          "2012-12-01T00:00:00Z",
          "2013-01-01T00:00:00Z",
          "2013-02-01T00:00:00Z",
          "2013-03-01T00:00:00Z",
          "2013-04-01T00:00:00Z",
          "2013-05-01T00:00:00Z",
          "2013-06-01T00:00:00Z",
          "2013-07-01T00:00:00Z",
          "2013-08-01T00:00:00Z",
          "2013-09-01T00:00:00Z",
          "2013-10-01T00:00:00Z",
          "2013-11-01T00:00:00Z",
          "2013-12-01T00:00:00Z",
          "2014-01-01T00:00:00Z",
          "2014-02-01T00:00:00Z",
          "2014-03-01T00:00:00Z",
          "2014-04-01T00:00:00Z",
          "2014-05-01T00:00:00Z",
          "2014-06-01T00:00:00Z",
          "2014-07-01T00:00:00Z",
          "2014-08-01T00:00:00Z",
          "2014-09-01T00:00:00Z",
          "2014-10-01T00:00:00Z",
          "2014-11-01T00:00:00Z",
          "2014-12-01T00:00:00Z",
          "2015-01-01T00:00:00Z",
          "2015-02-01T00:00:00Z",
          "2015-03-01T00:00:00Z",
          "2015-04-01T00:00:00Z",
          "2015-05-01T00:00:00Z",
          "2015-06-01T00:00:00Z",
          "2015-07-01T00:00:00Z",
          "2015-08-01T00:00:00Z",
          "2015-09-01T00:00:00Z",
          "2015-10-01T00:00:00Z",
          "2015-11-01T00:00:00Z",
          "2015-12-01T00:00:00Z",
          "2016-01-01T00:00:00Z",
          "2016-02-01T00:00:00Z",
          "2016-03-01T00:00:00Z",
          "2016-04-01T00:00:00Z",
          "2016-05-01T00:00:00Z",
          "2016-06-01T00:00:00Z",
          "2016-07-01T00:00:00Z",
          "2016-08-01T00:00:00Z",
          "2016-09-01T00:00:00Z",
          "2016-10-01T00:00:00Z",
          "2016-11-01T00:00:00Z",
          "2016-12-01T00:00:00Z",
          "2017-01-01T00:00:00Z",
          "2017-02-01T00:00:00Z",
          "2017-03-01T00:00:00Z",
          "2017-04-01T00:00:00Z",
          "2017-05-01T00:00:00Z",
          "2017-06-01T00:00:00Z",
          "2017-07-01T00:00:00Z",
          "2017-08-01T00:00:00Z",
          "2017-09-01T00:00:00Z",
          "2017-10-01T00:00:00Z",
          "2017-11-01T00:00:00Z",
          "2017-12-01T00:00:00Z",
          "2018-01-01T00:00:00Z",
          "2018-02-01T00:00:00Z",
          "2018-03-01T00:00:00Z",
          "2018-04-01T00:00:00Z",
          "2018-05-01T00:00:00Z",
          "2018-06-01T00:00:00Z",
          "2018-07-01T00:00:00Z",
          "2018-08-01T00:00:00Z",
          "2018-09-01T00:00:00Z",
          "2018-10-01T00:00:00Z",
          "2018-11-01T00:00:00Z"
         ],
         "y": [
          0,
          2,
          2,
          2,
          2,
          2,
          2,
          5,
          44,
          110,
          240,
          256,
          248,
          249,
          256,
          257,
          261,
          278,
          285,
          286,
          386,
          389,
          390,
          399,
          414,
          415,
          424,
          430,
          432,
          444,
          445,
          450,
          451,
          463,
          465,
          493,
          493,
          788,
          3849,
          4365,
          4612,
          4650,
          4765,
          4770,
          4914,
          4965,
          4964,
          4973,
          4978,
          4976,
          5045,
          5334,
          5363,
          5363,
          5383,
          5411,
          5455,
          5641,
          5653,
          5783,
          5802,
          5882,
          5935,
          6096,
          6115,
          6254,
          6612,
          7001,
          7044,
          7127,
          7296,
          7450,
          7538,
          8015,
          8250,
          8434,
          8540,
          8892,
          8963,
          9020,
          9206,
          9821,
          10081,
          10133,
          10193,
          10221,
          10338,
          10340,
          10347,
          10364,
          10399,
          10405,
          10408,
          10422,
          10487,
          10492,
          10501,
          10585,
          10610,
          10777,
          10779,
          10923,
          11083,
          11102,
          11108,
          11273,
          11306,
          11316,
          11335,
          11350,
          11347,
          11391,
          11394,
          11432,
          11475,
          11497,
          11525,
          11517,
          11523,
          11556,
          11577,
          11595,
          11682,
          11835,
          12166,
          12171,
          12178,
          12184,
          12184,
          12183,
          12183,
          12180,
          12210
         ]
        },
        {
         "name": "building,addr:housenumber",
         "type": "scatter",
         "x": [
          "2007-11-01T00:00:00Z",
          "2007-12-01T00:00:00Z",
          "2008-01-01T00:00:00Z",
          "2008-02-01T00:00:00Z",
          "2008-03-01T00:00:00Z",
          "2008-04-01T00:00:00Z",
          "2008-05-01T00:00:00Z",
          "2008-06-01T00:00:00Z",
          "2008-07-01T00:00:00Z",
          "2008-08-01T00:00:00Z",
          "2008-09-01T00:00:00Z",
          "2008-10-01T00:00:00Z",
          "2008-11-01T00:00:00Z",
          "2008-12-01T00:00:00Z",
          "2009-01-01T00:00:00Z",
          "2009-02-01T00:00:00Z",
          "2009-03-01T00:00:00Z",
          "2009-04-01T00:00:00Z",
          "2009-05-01T00:00:00Z",
          "2009-06-01T00:00:00Z",
          "2009-07-01T00:00:00Z",
          "2009-08-01T00:00:00Z",
          "2009-09-01T00:00:00Z",
          "2009-10-01T00:00:00Z",
          "2009-11-01T00:00:00Z",
          "2009-12-01T00:00:00Z",
          "2010-01-01T00:00:00Z",
          "2010-02-01T00:00:00Z",
          "2010-03-01T00:00:00Z",
          "2010-04-01T00:00:00Z",
          "2010-05-01T00:00:00Z",
          "2010-06-01T00:00:00Z",
          "2010-07-01T00:00:00Z",
          "2010-08-01T00:00:00Z",
          "2010-09-01T00:00:00Z",
          "2010-10-01T00:00:00Z",
          "2010-11-01T00:00:00Z",
          "2010-12-01T00:00:00Z",
          "2011-01-01T00:00:00Z",
          "2011-02-01T00:00:00Z",
          "2011-03-01T00:00:00Z",
          "2011-04-01T00:00:00Z",
          "2011-05-01T00:00:00Z",
          "2011-06-01T00:00:00Z",
          "2011-07-01T00:00:00Z",
          "2011-08-01T00:00:00Z",
          "2011-09-01T00:00:00Z",
          "2011-10-01T00:00:00Z",
          "2011-11-01T00:00:00Z",
          "2011-12-01T00:00:00Z",
          "2012-01-01T00:00:00Z",
          "2012-02-01T00:00:00Z",
          "2012-03-01T00:00:00Z",
          "2012-04-01T00:00:00Z",
          "2012-05-01T00:00:00Z",
          "2012-06-01T00:00:00Z",
          "2012-07-01T00:00:00Z",
          "2012-08-01T00:00:00Z",
          "2012-09-01T00:00:00Z",
          "2012-10-01T00:00:00Z",
          "2012-11-01T00:00:00Z",
          "2012-12-01T00:00:00Z",
          "2013-01-01T00:00:00Z",
          "2013-02-01T00:00:00Z",
          "2013-03-01T00:00:00Z",
          "2013-04-01T00:00:00Z",
          "2013-05-01T00:00:00Z",
          "2013-06-01T00:00:00Z",
          "2013-07-01T00:00:00Z",
          "2013-08-01T00:00:00Z",
          "2013-09-01T00:00:00Z",
          "2013-10-01T00:00:00Z",
          "2013-11-01T00:00:00Z",
          "2013-12-01T00:00:00Z",
          "2014-01-01T00:00:00Z",
          "2014-02-01T00:00:00Z",
          "2014-03-01T00:00:00Z",
          "2014-04-01T00:00:00Z",
          "2014-05-01T00:00:00Z",
          "2014-06-01T00:00:00Z",
          "2014-07-01T00:00:00Z",
          "2014-08-01T00:00:00Z",
          "2014-09-01T00:00:00Z",
          "2014-10-01T00:00:00Z",
          "2014-11-01T00:00:00Z",
          "2014-12-01T00:00:00Z",
          "2015-01-01T00:00:00Z",
          "2015-02-01T00:00:00Z",
          "2015-03-01T00:00:00Z",
          "2015-04-01T00:00:00Z",
          "2015-05-01T00:00:00Z",
          "2015-06-01T00:00:00Z",
          "2015-07-01T00:00:00Z",
          "2015-08-01T00:00:00Z",
          "2015-09-01T00:00:00Z",
          "2015-10-01T00:00:00Z",
          "2015-11-01T00:00:00Z",
          "2015-12-01T00:00:00Z",
          "2016-01-01T00:00:00Z",
          "2016-02-01T00:00:00Z",
          "2016-03-01T00:00:00Z",
          "2016-04-01T00:00:00Z",
          "2016-05-01T00:00:00Z",
          "2016-06-01T00:00:00Z",
          "2016-07-01T00:00:00Z",
          "2016-08-01T00:00:00Z",
          "2016-09-01T00:00:00Z",
          "2016-10-01T00:00:00Z",
          "2016-11-01T00:00:00Z",
          "2016-12-01T00:00:00Z",
          "2017-01-01T00:00:00Z",
          "2017-02-01T00:00:00Z",
          "2017-03-01T00:00:00Z",
          "2017-04-01T00:00:00Z",
          "2017-05-01T00:00:00Z",
          "2017-06-01T00:00:00Z",
          "2017-07-01T00:00:00Z",
          "2017-08-01T00:00:00Z",
          "2017-09-01T00:00:00Z",
          "2017-10-01T00:00:00Z",
          "2017-11-01T00:00:00Z",
          "2017-12-01T00:00:00Z",
          "2018-01-01T00:00:00Z",
          "2018-02-01T00:00:00Z",
          "2018-03-01T00:00:00Z",
          "2018-04-01T00:00:00Z",
          "2018-05-01T00:00:00Z",
          "2018-06-01T00:00:00Z",
          "2018-07-01T00:00:00Z",
          "2018-08-01T00:00:00Z",
          "2018-09-01T00:00:00Z",
          "2018-10-01T00:00:00Z",
          "2018-11-01T00:00:00Z"
         ],
         "y": [
          0,
          0,
          0,
          0,
          0,
          0,
          0,
          0,
          0,
          2,
          6,
          35,
          88,
          88,
          110,
          115,
          117,
          136,
          136,
          137,
          225,
          227,
          228,
          228,
          230,
          230,
          231,
          235,
          237,
          243,
          243,
          246,
          247,
          248,
          248,
          248,
          251,
          254,
          259,
          282,
          286,
          285,
          289,
          290,
          297,
          299,
          302,
          308,
          309,
          311,
          338,
          344,
          374,
          378,
          392,
          395,
          401,
          420,
          429,
          562,
          571,
          660,
          674,
          682,
          762,
          859,
          1114,
          1422,
          1441,
          1523,
          1545,
          1636,
          1698,
          1707,
          1782,
          2034,
          2088,
          2504,
          2925,
          3115,
          3284,
          3754,
          4177,
          4309,
          4648,
          4937,
          5351,
          5568,
          5584,
          5600,
          5773,
          5781,
          5793,
          5894,
          5963,
          5978,
          6043,
          6055,
          6121,
          6375,
          6381,
          6588,
          6713,
          6760,
          6773,
          7043,
          7136,
          7141,
          7144,
          7163,
          7159,
          7240,
          7252,
          7279,
          7321,
          7346,
          7402,
          7396,
          7459,
          7484,
          7496,
          7515,
          7571,
          7664,
          8219,
          8225,
          8241,
          8246,
          8250,
          8251,
          8251,
          8245,
          8244
         ]
        },
        {
         "line": {
          "color": "green",
          "dash": "dash",
          "width": 2
         },
         "name": "ratio",
         "type": "scatter",
         "x": [
          "2007-11-01T00:00:00Z",
          "2007-12-01T00:00:00Z",
          "2008-01-01T00:00:00Z",
          "2008-02-01T00:00:00Z",
          "2008-03-01T00:00:00Z",
          "2008-04-01T00:00:00Z",
          "2008-05-01T00:00:00Z",
          "2008-06-01T00:00:00Z",
          "2008-07-01T00:00:00Z",
          "2008-08-01T00:00:00Z",
          "2008-09-01T00:00:00Z",
          "2008-10-01T00:00:00Z",
          "2008-11-01T00:00:00Z",
          "2008-12-01T00:00:00Z",
          "2009-01-01T00:00:00Z",
          "2009-02-01T00:00:00Z",
          "2009-03-01T00:00:00Z",
          "2009-04-01T00:00:00Z",
          "2009-05-01T00:00:00Z",
          "2009-06-01T00:00:00Z",
          "2009-07-01T00:00:00Z",
          "2009-08-01T00:00:00Z",
          "2009-09-01T00:00:00Z",
          "2009-10-01T00:00:00Z",
          "2009-11-01T00:00:00Z",
          "2009-12-01T00:00:00Z",
          "2010-01-01T00:00:00Z",
          "2010-02-01T00:00:00Z",
          "2010-03-01T00:00:00Z",
          "2010-04-01T00:00:00Z",
          "2010-05-01T00:00:00Z",
          "2010-06-01T00:00:00Z",
          "2010-07-01T00:00:00Z",
          "2010-08-01T00:00:00Z",
          "2010-09-01T00:00:00Z",
          "2010-10-01T00:00:00Z",
          "2010-11-01T00:00:00Z",
          "2010-12-01T00:00:00Z",
          "2011-01-01T00:00:00Z",
          "2011-02-01T00:00:00Z",
          "2011-03-01T00:00:00Z",
          "2011-04-01T00:00:00Z",
          "2011-05-01T00:00:00Z",
          "2011-06-01T00:00:00Z",
          "2011-07-01T00:00:00Z",
          "2011-08-01T00:00:00Z",
          "2011-09-01T00:00:00Z",
          "2011-10-01T00:00:00Z",
          "2011-11-01T00:00:00Z",
          "2011-12-01T00:00:00Z",
          "2012-01-01T00:00:00Z",
          "2012-02-01T00:00:00Z",
          "2012-03-01T00:00:00Z",
          "2012-04-01T00:00:00Z",
          "2012-05-01T00:00:00Z",
          "2012-06-01T00:00:00Z",
          "2012-07-01T00:00:00Z",
          "2012-08-01T00:00:00Z",
          "2012-09-01T00:00:00Z",
          "2012-10-01T00:00:00Z",
          "2012-11-01T00:00:00Z",
          "2012-12-01T00:00:00Z",
          "2013-01-01T00:00:00Z",
          "2013-02-01T00:00:00Z",
          "2013-03-01T00:00:00Z",
          "2013-04-01T00:00:00Z",
          "2013-05-01T00:00:00Z",
          "2013-06-01T00:00:00Z",
          "2013-07-01T00:00:00Z",
          "2013-08-01T00:00:00Z",
          "2013-09-01T00:00:00Z",
          "2013-10-01T00:00:00Z",
          "2013-11-01T00:00:00Z",
          "2013-12-01T00:00:00Z",
          "2014-01-01T00:00:00Z",
          "2014-02-01T00:00:00Z",
          "2014-03-01T00:00:00Z",
          "2014-04-01T00:00:00Z",
          "2014-05-01T00:00:00Z",
          "2014-06-01T00:00:00Z",
          "2014-07-01T00:00:00Z",
          "2014-08-01T00:00:00Z",
          "2014-09-01T00:00:00Z",
          "2014-10-01T00:00:00Z",
          "2014-11-01T00:00:00Z",
          "2014-12-01T00:00:00Z",
          "2015-01-01T00:00:00Z",
          "2015-02-01T00:00:00Z",
          "2015-03-01T00:00:00Z",
          "2015-04-01T00:00:00Z",
          "2015-05-01T00:00:00Z",
          "2015-06-01T00:00:00Z",
          "2015-07-01T00:00:00Z",
          "2015-08-01T00:00:00Z",
          "2015-09-01T00:00:00Z",
          "2015-10-01T00:00:00Z",
          "2015-11-01T00:00:00Z",
          "2015-12-01T00:00:00Z",
          "2016-01-01T00:00:00Z",
          "2016-02-01T00:00:00Z",
          "2016-03-01T00:00:00Z",
          "2016-04-01T00:00:00Z",
          "2016-05-01T00:00:00Z",
          "2016-06-01T00:00:00Z",
          "2016-07-01T00:00:00Z",
          "2016-08-01T00:00:00Z",
          "2016-09-01T00:00:00Z",
          "2016-10-01T00:00:00Z",
          "2016-11-01T00:00:00Z",
          "2016-12-01T00:00:00Z",
          "2017-01-01T00:00:00Z",
          "2017-02-01T00:00:00Z",
          "2017-03-01T00:00:00Z",
          "2017-04-01T00:00:00Z",
          "2017-05-01T00:00:00Z",
          "2017-06-01T00:00:00Z",
          "2017-07-01T00:00:00Z",
          "2017-08-01T00:00:00Z",
          "2017-09-01T00:00:00Z",
          "2017-10-01T00:00:00Z",
          "2017-11-01T00:00:00Z",
          "2017-12-01T00:00:00Z",
          "2018-01-01T00:00:00Z",
          "2018-02-01T00:00:00Z",
          "2018-03-01T00:00:00Z",
          "2018-04-01T00:00:00Z",
          "2018-05-01T00:00:00Z",
          "2018-06-01T00:00:00Z",
          "2018-07-01T00:00:00Z",
          "2018-08-01T00:00:00Z",
          "2018-09-01T00:00:00Z",
          "2018-10-01T00:00:00Z",
          "2018-11-01T00:00:00Z"
         ],
         "y": [
          "NaN",
          0,
          0,
          0,
          0,
          0,
          0,
          0,
          0,
          0.018182,
          0.025,
          0.136719,
          0.354839,
          0.353414,
          0.429688,
          0.447471,
          0.448276,
          0.489209,
          0.477193,
          0.479021,
          0.582902,
          0.583548,
          0.584615,
          0.571429,
          0.555556,
          0.554217,
          0.544811,
          0.546512,
          0.548611,
          0.547297,
          0.546067,
          0.546667,
          0.547672,
          0.535637,
          0.533333,
          0.503043,
          0.509128,
          0.322335,
          0.06729,
          0.064605,
          0.062012,
          0.06129,
          0.060651,
          0.060797,
          0.06044,
          0.060222,
          0.060838,
          0.061934,
          0.062073,
          0.0625,
          0.066997,
          0.064492,
          0.069737,
          0.070483,
          0.072822,
          0.072999,
          0.073511,
          0.074455,
          0.075889,
          0.097181,
          0.098414,
          0.112207,
          0.113564,
          0.111877,
          0.124612,
          0.137352,
          0.168482,
          0.203114,
          0.204571,
          0.213694,
          0.21176,
          0.219597,
          0.225259,
          0.212976,
          0.216,
          0.241167,
          0.244496,
          0.281601,
          0.326342,
          0.345344,
          0.356724,
          0.382242,
          0.414344,
          0.425244,
          0.455999,
          0.483025,
          0.517605,
          0.538491,
          0.539673,
          0.540332,
          0.55515,
          0.555598,
          0.556591,
          0.565534,
          0.568609,
          0.569767,
          0.575469,
          0.572036,
          0.576909,
          0.591538,
          0.591984,
          0.603131,
          0.605702,
          0.608899,
          0.609741,
          0.624767,
          0.631169,
          0.631053,
          0.63026,
          0.631101,
          0.630916,
          0.63559,
          0.636475,
          0.636721,
          0.637996,
          0.638949,
          0.642256,
          0.642181,
          0.647314,
          0.647629,
          0.647491,
          0.648124,
          0.648091,
          0.647571,
          0.675571,
          0.675787,
          0.676712,
          0.676789,
          0.677118,
          0.677255,
          0.677255,
          0.676929,
          0.675184
         ],
         "yaxis": "y2"
        }
       ],
       "layout": {
        "legend": {
         "orientation": "h"
        },
        "template": {
         "data": {
          "bar": [
           {
            "error_x": {
             "color": "#2a3f5f"
            },
            "error_y": {
             "color": "#2a3f5f"
            },
            "marker": {
             "line": {
              "color": "#E5ECF6",
              "width": 0.5
             }
            },
            "type": "bar"
           }
          ],
          "barpolar": [
           {
            "marker": {
             "line": {
              "color": "#E5ECF6",
              "width": 0.5
             }
            },
            "type": "barpolar"
           }
          ],
          "carpet": [
           {
            "aaxis": {
             "endlinecolor": "#2a3f5f",
             "gridcolor": "white",
             "linecolor": "white",
             "minorgridcolor": "white",
             "startlinecolor": "#2a3f5f"
            },
            "baxis": {
             "endlinecolor": "#2a3f5f",
             "gridcolor": "white",
             "linecolor": "white",
             "minorgridcolor": "white",
             "startlinecolor": "#2a3f5f"
            },
            "type": "carpet"
           }
          ],
          "choropleth": [
           {
            "colorbar": {
             "outlinewidth": 0,
             "ticks": ""
            },
            "type": "choropleth"
           }
          ],
          "contour": [
           {
            "colorbar": {
             "outlinewidth": 0,
             "ticks": ""
            },
            "colorscale": [
             [
              0,
              "#0d0887"
             ],
             [
              0.1111111111111111,
              "#46039f"
             ],
             [
              0.2222222222222222,
              "#7201a8"
             ],
             [
              0.3333333333333333,
              "#9c179e"
             ],
             [
              0.4444444444444444,
              "#bd3786"
             ],
             [
              0.5555555555555556,
              "#d8576b"
             ],
             [
              0.6666666666666666,
              "#ed7953"
             ],
             [
              0.7777777777777778,
              "#fb9f3a"
             ],
             [
              0.8888888888888888,
              "#fdca26"
             ],
             [
              1,
              "#f0f921"
             ]
            ],
            "type": "contour"
           }
          ],
          "contourcarpet": [
           {
            "colorbar": {
             "outlinewidth": 0,
             "ticks": ""
            },
            "type": "contourcarpet"
           }
          ],
          "heatmap": [
           {
            "colorbar": {
             "outlinewidth": 0,
             "ticks": ""
            },
            "colorscale": [
             [
              0,
              "#0d0887"
             ],
             [
              0.1111111111111111,
              "#46039f"
             ],
             [
              0.2222222222222222,
              "#7201a8"
             ],
             [
              0.3333333333333333,
              "#9c179e"
             ],
             [
              0.4444444444444444,
              "#bd3786"
             ],
             [
              0.5555555555555556,
              "#d8576b"
             ],
             [
              0.6666666666666666,
              "#ed7953"
             ],
             [
              0.7777777777777778,
              "#fb9f3a"
             ],
             [
              0.8888888888888888,
              "#fdca26"
             ],
             [
              1,
              "#f0f921"
             ]
            ],
            "type": "heatmap"
           }
          ],
          "heatmapgl": [
           {
            "colorbar": {
             "outlinewidth": 0,
             "ticks": ""
            },
            "colorscale": [
             [
              0,
              "#0d0887"
             ],
             [
              0.1111111111111111,
              "#46039f"
             ],
             [
              0.2222222222222222,
              "#7201a8"
             ],
             [
              0.3333333333333333,
              "#9c179e"
             ],
             [
              0.4444444444444444,
              "#bd3786"
             ],
             [
              0.5555555555555556,
              "#d8576b"
             ],
             [
              0.6666666666666666,
              "#ed7953"
             ],
             [
              0.7777777777777778,
              "#fb9f3a"
             ],
             [
              0.8888888888888888,
              "#fdca26"
             ],
             [
              1,
              "#f0f921"
             ]
            ],
            "type": "heatmapgl"
           }
          ],
          "histogram": [
           {
            "marker": {
             "colorbar": {
              "outlinewidth": 0,
              "ticks": ""
             }
            },
            "type": "histogram"
           }
          ],
          "histogram2d": [
           {
            "colorbar": {
             "outlinewidth": 0,
             "ticks": ""
            },
            "colorscale": [
             [
              0,
              "#0d0887"
             ],
             [
              0.1111111111111111,
              "#46039f"
             ],
             [
              0.2222222222222222,
              "#7201a8"
             ],
             [
              0.3333333333333333,
              "#9c179e"
             ],
             [
              0.4444444444444444,
              "#bd3786"
             ],
             [
              0.5555555555555556,
              "#d8576b"
             ],
             [
              0.6666666666666666,
              "#ed7953"
             ],
             [
              0.7777777777777778,
              "#fb9f3a"
             ],
             [
              0.8888888888888888,
              "#fdca26"
             ],
             [
              1,
              "#f0f921"
             ]
            ],
            "type": "histogram2d"
           }
          ],
          "histogram2dcontour": [
           {
            "colorbar": {
             "outlinewidth": 0,
             "ticks": ""
            },
            "colorscale": [
             [
              0,
              "#0d0887"
             ],
             [
              0.1111111111111111,
              "#46039f"
             ],
             [
              0.2222222222222222,
              "#7201a8"
             ],
             [
              0.3333333333333333,
              "#9c179e"
             ],
             [
              0.4444444444444444,
              "#bd3786"
             ],
             [
              0.5555555555555556,
              "#d8576b"
             ],
             [
              0.6666666666666666,
              "#ed7953"
             ],
             [
              0.7777777777777778,
              "#fb9f3a"
             ],
             [
              0.8888888888888888,
              "#fdca26"
             ],
             [
              1,
              "#f0f921"
             ]
            ],
            "type": "histogram2dcontour"
           }
          ],
          "mesh3d": [
           {
            "colorbar": {
             "outlinewidth": 0,
             "ticks": ""
            },
            "type": "mesh3d"
           }
          ],
          "parcoords": [
           {
            "line": {
             "colorbar": {
              "outlinewidth": 0,
              "ticks": ""
             }
            },
            "type": "parcoords"
           }
          ],
          "pie": [
           {
            "automargin": true,
            "type": "pie"
           }
          ],
          "scatter": [
           {
            "marker": {
             "colorbar": {
              "outlinewidth": 0,
              "ticks": ""
             }
            },
            "type": "scatter"
           }
          ],
          "scatter3d": [
           {
            "line": {
             "colorbar": {
              "outlinewidth": 0,
              "ticks": ""
             }
            },
            "marker": {
             "colorbar": {
              "outlinewidth": 0,
              "ticks": ""
             }
            },
            "type": "scatter3d"
           }
          ],
          "scattercarpet": [
           {
            "marker": {
             "colorbar": {
              "outlinewidth": 0,
              "ticks": ""
             }
            },
            "type": "scattercarpet"
           }
          ],
          "scattergeo": [
           {
            "marker": {
             "colorbar": {
              "outlinewidth": 0,
              "ticks": ""
             }
            },
            "type": "scattergeo"
           }
          ],
          "scattergl": [
           {
            "marker": {
             "colorbar": {
              "outlinewidth": 0,
              "ticks": ""
             }
            },
            "type": "scattergl"
           }
          ],
          "scattermapbox": [
           {
            "marker": {
             "colorbar": {
              "outlinewidth": 0,
              "ticks": ""
             }
            },
            "type": "scattermapbox"
           }
          ],
          "scatterpolar": [
           {
            "marker": {
             "colorbar": {
              "outlinewidth": 0,
              "ticks": ""
             }
            },
            "type": "scatterpolar"
           }
          ],
          "scatterpolargl": [
           {
            "marker": {
             "colorbar": {
              "outlinewidth": 0,
              "ticks": ""
             }
            },
            "type": "scatterpolargl"
           }
          ],
          "scatterternary": [
           {
            "marker": {
             "colorbar": {
              "outlinewidth": 0,
              "ticks": ""
             }
            },
            "type": "scatterternary"
           }
          ],
          "surface": [
           {
            "colorbar": {
             "outlinewidth": 0,
             "ticks": ""
            },
            "colorscale": [
             [
              0,
              "#0d0887"
             ],
             [
              0.1111111111111111,
              "#46039f"
             ],
             [
              0.2222222222222222,
              "#7201a8"
             ],
             [
              0.3333333333333333,
              "#9c179e"
             ],
             [
              0.4444444444444444,
              "#bd3786"
             ],
             [
              0.5555555555555556,
              "#d8576b"
             ],
             [
              0.6666666666666666,
              "#ed7953"
             ],
             [
              0.7777777777777778,
              "#fb9f3a"
             ],
             [
              0.8888888888888888,
              "#fdca26"
             ],
             [
              1,
              "#f0f921"
             ]
            ],
            "type": "surface"
           }
          ],
          "table": [
           {
            "cells": {
             "fill": {
              "color": "#EBF0F8"
             },
             "line": {
              "color": "white"
             }
            },
            "header": {
             "fill": {
              "color": "#C8D4E3"
             },
             "line": {
              "color": "white"
             }
            },
            "type": "table"
           }
          ]
         },
         "layout": {
          "annotationdefaults": {
           "arrowcolor": "#2a3f5f",
           "arrowhead": 0,
           "arrowwidth": 1
          },
          "coloraxis": {
           "colorbar": {
            "outlinewidth": 0,
            "ticks": ""
           }
          },
          "colorscale": {
           "diverging": [
            [
             0,
             "#8e0152"
            ],
            [
             0.1,
             "#c51b7d"
            ],
            [
             0.2,
             "#de77ae"
            ],
            [
             0.3,
             "#f1b6da"
            ],
            [
             0.4,
             "#fde0ef"
            ],
            [
             0.5,
             "#f7f7f7"
            ],
            [
             0.6,
             "#e6f5d0"
            ],
            [
             0.7,
             "#b8e186"
            ],
            [
             0.8,
             "#7fbc41"
            ],
            [
             0.9,
             "#4d9221"
            ],
            [
             1,
             "#276419"
            ]
           ],
           "sequential": [
            [
             0,
             "#0d0887"
            ],
            [
             0.1111111111111111,
             "#46039f"
            ],
            [
             0.2222222222222222,
             "#7201a8"
            ],
            [
             0.3333333333333333,
             "#9c179e"
            ],
            [
             0.4444444444444444,
             "#bd3786"
            ],
            [
             0.5555555555555556,
             "#d8576b"
            ],
            [
             0.6666666666666666,
             "#ed7953"
            ],
            [
             0.7777777777777778,
             "#fb9f3a"
            ],
            [
             0.8888888888888888,
             "#fdca26"
            ],
            [
             1,
             "#f0f921"
            ]
           ],
           "sequentialminus": [
            [
             0,
             "#0d0887"
            ],
            [
             0.1111111111111111,
             "#46039f"
            ],
            [
             0.2222222222222222,
             "#7201a8"
            ],
            [
             0.3333333333333333,
             "#9c179e"
            ],
            [
             0.4444444444444444,
             "#bd3786"
            ],
            [
             0.5555555555555556,
             "#d8576b"
            ],
            [
             0.6666666666666666,
             "#ed7953"
            ],
            [
             0.7777777777777778,
             "#fb9f3a"
            ],
            [
             0.8888888888888888,
             "#fdca26"
            ],
            [
             1,
             "#f0f921"
            ]
           ]
          },
          "colorway": [
           "#636efa",
           "#EF553B",
           "#00cc96",
           "#ab63fa",
           "#FFA15A",
           "#19d3f3",
           "#FF6692",
           "#B6E880",
           "#FF97FF",
           "#FECB52"
          ],
          "font": {
           "color": "#2a3f5f"
          },
          "geo": {
           "bgcolor": "white",
           "lakecolor": "white",
           "landcolor": "#E5ECF6",
           "showlakes": true,
           "showland": true,
           "subunitcolor": "white"
          },
          "hoverlabel": {
           "align": "left"
          },
          "hovermode": "closest",
          "mapbox": {
           "style": "light"
          },
          "paper_bgcolor": "white",
          "plot_bgcolor": "#E5ECF6",
          "polar": {
           "angularaxis": {
            "gridcolor": "white",
            "linecolor": "white",
            "ticks": ""
           },
           "bgcolor": "#E5ECF6",
           "radialaxis": {
            "gridcolor": "white",
            "linecolor": "white",
            "ticks": ""
           }
          },
          "scene": {
           "xaxis": {
            "backgroundcolor": "#E5ECF6",
            "gridcolor": "white",
            "gridwidth": 2,
            "linecolor": "white",
            "showbackground": true,
            "ticks": "",
            "zerolinecolor": "white"
           },
           "yaxis": {
            "backgroundcolor": "#E5ECF6",
            "gridcolor": "white",
            "gridwidth": 2,
            "linecolor": "white",
            "showbackground": true,
            "ticks": "",
            "zerolinecolor": "white"
           },
           "zaxis": {
            "backgroundcolor": "#E5ECF6",
            "gridcolor": "white",
            "gridwidth": 2,
            "linecolor": "white",
            "showbackground": true,
            "ticks": "",
            "zerolinecolor": "white"
           }
          },
          "shapedefaults": {
           "line": {
            "color": "#2a3f5f"
           }
          },
          "ternary": {
           "aaxis": {
            "gridcolor": "white",
            "linecolor": "white",
            "ticks": ""
           },
           "baxis": {
            "gridcolor": "white",
            "linecolor": "white",
            "ticks": ""
           },
           "bgcolor": "#E5ECF6",
           "caxis": {
            "gridcolor": "white",
            "linecolor": "white",
            "ticks": ""
           }
          },
          "title": {
           "x": 0.05
          },
          "xaxis": {
           "automargin": true,
           "gridcolor": "white",
           "linecolor": "white",
           "ticks": "",
           "title": {
            "standoff": 15
           },
           "zerolinecolor": "white",
           "zerolinewidth": 2
          },
          "yaxis": {
           "automargin": true,
           "gridcolor": "white",
           "linecolor": "white",
           "ticks": "",
           "title": {
            "standoff": 15
           },
           "zerolinecolor": "white",
           "zerolinewidth": 2
          }
         }
        },
        "title": {
         "text": "Propotion of OSM buildings with house numbers in Heidelberg"
        },
        "yaxis2": {
         "overlaying": "y",
         "showgrid": false,
         "side": "right"
        }
       }
      },
      "text/html": [
       "<div>\n",
       "        \n",
       "        \n",
       "            <div id=\"5109c3ff-98a9-4695-b3d6-53246b66b47d\" class=\"plotly-graph-div\" style=\"height:525px; width:100%;\"></div>\n",
       "            <script type=\"text/javascript\">\n",
       "                require([\"plotly\"], function(Plotly) {\n",
       "                    window.PLOTLYENV=window.PLOTLYENV || {};\n",
       "                    \n",
       "                if (document.getElementById(\"5109c3ff-98a9-4695-b3d6-53246b66b47d\")) {\n",
       "                    Plotly.newPlot(\n",
       "                        '5109c3ff-98a9-4695-b3d6-53246b66b47d',\n",
       "                        [{\"name\": \"building\", \"type\": \"scatter\", \"x\": [\"2007-11-01T00:00:00Z\", \"2007-12-01T00:00:00Z\", \"2008-01-01T00:00:00Z\", \"2008-02-01T00:00:00Z\", \"2008-03-01T00:00:00Z\", \"2008-04-01T00:00:00Z\", \"2008-05-01T00:00:00Z\", \"2008-06-01T00:00:00Z\", \"2008-07-01T00:00:00Z\", \"2008-08-01T00:00:00Z\", \"2008-09-01T00:00:00Z\", \"2008-10-01T00:00:00Z\", \"2008-11-01T00:00:00Z\", \"2008-12-01T00:00:00Z\", \"2009-01-01T00:00:00Z\", \"2009-02-01T00:00:00Z\", \"2009-03-01T00:00:00Z\", \"2009-04-01T00:00:00Z\", \"2009-05-01T00:00:00Z\", \"2009-06-01T00:00:00Z\", \"2009-07-01T00:00:00Z\", \"2009-08-01T00:00:00Z\", \"2009-09-01T00:00:00Z\", \"2009-10-01T00:00:00Z\", \"2009-11-01T00:00:00Z\", \"2009-12-01T00:00:00Z\", \"2010-01-01T00:00:00Z\", \"2010-02-01T00:00:00Z\", \"2010-03-01T00:00:00Z\", \"2010-04-01T00:00:00Z\", \"2010-05-01T00:00:00Z\", \"2010-06-01T00:00:00Z\", \"2010-07-01T00:00:00Z\", \"2010-08-01T00:00:00Z\", \"2010-09-01T00:00:00Z\", \"2010-10-01T00:00:00Z\", \"2010-11-01T00:00:00Z\", \"2010-12-01T00:00:00Z\", \"2011-01-01T00:00:00Z\", \"2011-02-01T00:00:00Z\", \"2011-03-01T00:00:00Z\", \"2011-04-01T00:00:00Z\", \"2011-05-01T00:00:00Z\", \"2011-06-01T00:00:00Z\", \"2011-07-01T00:00:00Z\", \"2011-08-01T00:00:00Z\", \"2011-09-01T00:00:00Z\", \"2011-10-01T00:00:00Z\", \"2011-11-01T00:00:00Z\", \"2011-12-01T00:00:00Z\", \"2012-01-01T00:00:00Z\", \"2012-02-01T00:00:00Z\", \"2012-03-01T00:00:00Z\", \"2012-04-01T00:00:00Z\", \"2012-05-01T00:00:00Z\", \"2012-06-01T00:00:00Z\", \"2012-07-01T00:00:00Z\", \"2012-08-01T00:00:00Z\", \"2012-09-01T00:00:00Z\", \"2012-10-01T00:00:00Z\", \"2012-11-01T00:00:00Z\", \"2012-12-01T00:00:00Z\", \"2013-01-01T00:00:00Z\", \"2013-02-01T00:00:00Z\", \"2013-03-01T00:00:00Z\", \"2013-04-01T00:00:00Z\", \"2013-05-01T00:00:00Z\", \"2013-06-01T00:00:00Z\", \"2013-07-01T00:00:00Z\", \"2013-08-01T00:00:00Z\", \"2013-09-01T00:00:00Z\", \"2013-10-01T00:00:00Z\", \"2013-11-01T00:00:00Z\", \"2013-12-01T00:00:00Z\", \"2014-01-01T00:00:00Z\", \"2014-02-01T00:00:00Z\", \"2014-03-01T00:00:00Z\", \"2014-04-01T00:00:00Z\", \"2014-05-01T00:00:00Z\", \"2014-06-01T00:00:00Z\", \"2014-07-01T00:00:00Z\", \"2014-08-01T00:00:00Z\", \"2014-09-01T00:00:00Z\", \"2014-10-01T00:00:00Z\", \"2014-11-01T00:00:00Z\", \"2014-12-01T00:00:00Z\", \"2015-01-01T00:00:00Z\", \"2015-02-01T00:00:00Z\", \"2015-03-01T00:00:00Z\", \"2015-04-01T00:00:00Z\", \"2015-05-01T00:00:00Z\", \"2015-06-01T00:00:00Z\", \"2015-07-01T00:00:00Z\", \"2015-08-01T00:00:00Z\", \"2015-09-01T00:00:00Z\", \"2015-10-01T00:00:00Z\", \"2015-11-01T00:00:00Z\", \"2015-12-01T00:00:00Z\", \"2016-01-01T00:00:00Z\", \"2016-02-01T00:00:00Z\", \"2016-03-01T00:00:00Z\", \"2016-04-01T00:00:00Z\", \"2016-05-01T00:00:00Z\", \"2016-06-01T00:00:00Z\", \"2016-07-01T00:00:00Z\", \"2016-08-01T00:00:00Z\", \"2016-09-01T00:00:00Z\", \"2016-10-01T00:00:00Z\", \"2016-11-01T00:00:00Z\", \"2016-12-01T00:00:00Z\", \"2017-01-01T00:00:00Z\", \"2017-02-01T00:00:00Z\", \"2017-03-01T00:00:00Z\", \"2017-04-01T00:00:00Z\", \"2017-05-01T00:00:00Z\", \"2017-06-01T00:00:00Z\", \"2017-07-01T00:00:00Z\", \"2017-08-01T00:00:00Z\", \"2017-09-01T00:00:00Z\", \"2017-10-01T00:00:00Z\", \"2017-11-01T00:00:00Z\", \"2017-12-01T00:00:00Z\", \"2018-01-01T00:00:00Z\", \"2018-02-01T00:00:00Z\", \"2018-03-01T00:00:00Z\", \"2018-04-01T00:00:00Z\", \"2018-05-01T00:00:00Z\", \"2018-06-01T00:00:00Z\", \"2018-07-01T00:00:00Z\", \"2018-08-01T00:00:00Z\", \"2018-09-01T00:00:00Z\", \"2018-10-01T00:00:00Z\", \"2018-11-01T00:00:00Z\"], \"y\": [0.0, 2.0, 2.0, 2.0, 2.0, 2.0, 2.0, 5.0, 44.0, 110.0, 240.0, 256.0, 248.0, 249.0, 256.0, 257.0, 261.0, 278.0, 285.0, 286.0, 386.0, 389.0, 390.0, 399.0, 414.0, 415.0, 424.0, 430.0, 432.0, 444.0, 445.0, 450.0, 451.0, 463.0, 465.0, 493.0, 493.0, 788.0, 3849.0, 4365.0, 4612.0, 4650.0, 4765.0, 4770.0, 4914.0, 4965.0, 4964.0, 4973.0, 4978.0, 4976.0, 5045.0, 5334.0, 5363.0, 5363.0, 5383.0, 5411.0, 5455.0, 5641.0, 5653.0, 5783.0, 5802.0, 5882.0, 5935.0, 6096.0, 6115.0, 6254.0, 6612.0, 7001.0, 7044.0, 7127.0, 7296.0, 7450.0, 7538.0, 8015.0, 8250.0, 8434.0, 8540.0, 8892.0, 8963.0, 9020.0, 9206.0, 9821.0, 10081.0, 10133.0, 10193.0, 10221.0, 10338.0, 10340.0, 10347.0, 10364.0, 10399.0, 10405.0, 10408.0, 10422.0, 10487.0, 10492.0, 10501.0, 10585.0, 10610.0, 10777.0, 10779.0, 10923.0, 11083.0, 11102.0, 11108.0, 11273.0, 11306.0, 11316.0, 11335.0, 11350.0, 11347.0, 11391.0, 11394.0, 11432.0, 11475.0, 11497.0, 11525.0, 11517.0, 11523.0, 11556.0, 11577.0, 11595.0, 11682.0, 11835.0, 12166.0, 12171.0, 12178.0, 12184.0, 12184.0, 12183.0, 12183.0, 12180.0, 12210.0]}, {\"name\": \"building,addr:housenumber\", \"type\": \"scatter\", \"x\": [\"2007-11-01T00:00:00Z\", \"2007-12-01T00:00:00Z\", \"2008-01-01T00:00:00Z\", \"2008-02-01T00:00:00Z\", \"2008-03-01T00:00:00Z\", \"2008-04-01T00:00:00Z\", \"2008-05-01T00:00:00Z\", \"2008-06-01T00:00:00Z\", \"2008-07-01T00:00:00Z\", \"2008-08-01T00:00:00Z\", \"2008-09-01T00:00:00Z\", \"2008-10-01T00:00:00Z\", \"2008-11-01T00:00:00Z\", \"2008-12-01T00:00:00Z\", \"2009-01-01T00:00:00Z\", \"2009-02-01T00:00:00Z\", \"2009-03-01T00:00:00Z\", \"2009-04-01T00:00:00Z\", \"2009-05-01T00:00:00Z\", \"2009-06-01T00:00:00Z\", \"2009-07-01T00:00:00Z\", \"2009-08-01T00:00:00Z\", \"2009-09-01T00:00:00Z\", \"2009-10-01T00:00:00Z\", \"2009-11-01T00:00:00Z\", \"2009-12-01T00:00:00Z\", \"2010-01-01T00:00:00Z\", \"2010-02-01T00:00:00Z\", \"2010-03-01T00:00:00Z\", \"2010-04-01T00:00:00Z\", \"2010-05-01T00:00:00Z\", \"2010-06-01T00:00:00Z\", \"2010-07-01T00:00:00Z\", \"2010-08-01T00:00:00Z\", \"2010-09-01T00:00:00Z\", \"2010-10-01T00:00:00Z\", \"2010-11-01T00:00:00Z\", \"2010-12-01T00:00:00Z\", \"2011-01-01T00:00:00Z\", \"2011-02-01T00:00:00Z\", \"2011-03-01T00:00:00Z\", \"2011-04-01T00:00:00Z\", \"2011-05-01T00:00:00Z\", \"2011-06-01T00:00:00Z\", \"2011-07-01T00:00:00Z\", \"2011-08-01T00:00:00Z\", \"2011-09-01T00:00:00Z\", \"2011-10-01T00:00:00Z\", \"2011-11-01T00:00:00Z\", \"2011-12-01T00:00:00Z\", \"2012-01-01T00:00:00Z\", \"2012-02-01T00:00:00Z\", \"2012-03-01T00:00:00Z\", \"2012-04-01T00:00:00Z\", \"2012-05-01T00:00:00Z\", \"2012-06-01T00:00:00Z\", \"2012-07-01T00:00:00Z\", \"2012-08-01T00:00:00Z\", \"2012-09-01T00:00:00Z\", \"2012-10-01T00:00:00Z\", \"2012-11-01T00:00:00Z\", \"2012-12-01T00:00:00Z\", \"2013-01-01T00:00:00Z\", \"2013-02-01T00:00:00Z\", \"2013-03-01T00:00:00Z\", \"2013-04-01T00:00:00Z\", \"2013-05-01T00:00:00Z\", \"2013-06-01T00:00:00Z\", \"2013-07-01T00:00:00Z\", \"2013-08-01T00:00:00Z\", \"2013-09-01T00:00:00Z\", \"2013-10-01T00:00:00Z\", \"2013-11-01T00:00:00Z\", \"2013-12-01T00:00:00Z\", \"2014-01-01T00:00:00Z\", \"2014-02-01T00:00:00Z\", \"2014-03-01T00:00:00Z\", \"2014-04-01T00:00:00Z\", \"2014-05-01T00:00:00Z\", \"2014-06-01T00:00:00Z\", \"2014-07-01T00:00:00Z\", \"2014-08-01T00:00:00Z\", \"2014-09-01T00:00:00Z\", \"2014-10-01T00:00:00Z\", \"2014-11-01T00:00:00Z\", \"2014-12-01T00:00:00Z\", \"2015-01-01T00:00:00Z\", \"2015-02-01T00:00:00Z\", \"2015-03-01T00:00:00Z\", \"2015-04-01T00:00:00Z\", \"2015-05-01T00:00:00Z\", \"2015-06-01T00:00:00Z\", \"2015-07-01T00:00:00Z\", \"2015-08-01T00:00:00Z\", \"2015-09-01T00:00:00Z\", \"2015-10-01T00:00:00Z\", \"2015-11-01T00:00:00Z\", \"2015-12-01T00:00:00Z\", \"2016-01-01T00:00:00Z\", \"2016-02-01T00:00:00Z\", \"2016-03-01T00:00:00Z\", \"2016-04-01T00:00:00Z\", \"2016-05-01T00:00:00Z\", \"2016-06-01T00:00:00Z\", \"2016-07-01T00:00:00Z\", \"2016-08-01T00:00:00Z\", \"2016-09-01T00:00:00Z\", \"2016-10-01T00:00:00Z\", \"2016-11-01T00:00:00Z\", \"2016-12-01T00:00:00Z\", \"2017-01-01T00:00:00Z\", \"2017-02-01T00:00:00Z\", \"2017-03-01T00:00:00Z\", \"2017-04-01T00:00:00Z\", \"2017-05-01T00:00:00Z\", \"2017-06-01T00:00:00Z\", \"2017-07-01T00:00:00Z\", \"2017-08-01T00:00:00Z\", \"2017-09-01T00:00:00Z\", \"2017-10-01T00:00:00Z\", \"2017-11-01T00:00:00Z\", \"2017-12-01T00:00:00Z\", \"2018-01-01T00:00:00Z\", \"2018-02-01T00:00:00Z\", \"2018-03-01T00:00:00Z\", \"2018-04-01T00:00:00Z\", \"2018-05-01T00:00:00Z\", \"2018-06-01T00:00:00Z\", \"2018-07-01T00:00:00Z\", \"2018-08-01T00:00:00Z\", \"2018-09-01T00:00:00Z\", \"2018-10-01T00:00:00Z\", \"2018-11-01T00:00:00Z\"], \"y\": [0.0, 0.0, 0.0, 0.0, 0.0, 0.0, 0.0, 0.0, 0.0, 2.0, 6.0, 35.0, 88.0, 88.0, 110.0, 115.0, 117.0, 136.0, 136.0, 137.0, 225.0, 227.0, 228.0, 228.0, 230.0, 230.0, 231.0, 235.0, 237.0, 243.0, 243.0, 246.0, 247.0, 248.0, 248.0, 248.0, 251.0, 254.0, 259.0, 282.0, 286.0, 285.0, 289.0, 290.0, 297.0, 299.0, 302.0, 308.0, 309.0, 311.0, 338.0, 344.0, 374.0, 378.0, 392.0, 395.0, 401.0, 420.0, 429.0, 562.0, 571.0, 660.0, 674.0, 682.0, 762.0, 859.0, 1114.0, 1422.0, 1441.0, 1523.0, 1545.0, 1636.0, 1698.0, 1707.0, 1782.0, 2034.0, 2088.0, 2504.0, 2925.0, 3115.0, 3284.0, 3754.0, 4177.0, 4309.0, 4648.0, 4937.0, 5351.0, 5568.0, 5584.0, 5600.0, 5773.0, 5781.0, 5793.0, 5894.0, 5963.0, 5978.0, 6043.0, 6055.0, 6121.0, 6375.0, 6381.0, 6588.0, 6713.0, 6760.0, 6773.0, 7043.0, 7136.0, 7141.0, 7144.0, 7163.0, 7159.0, 7240.0, 7252.0, 7279.0, 7321.0, 7346.0, 7402.0, 7396.0, 7459.0, 7484.0, 7496.0, 7515.0, 7571.0, 7664.0, 8219.0, 8225.0, 8241.0, 8246.0, 8250.0, 8251.0, 8251.0, 8245.0, 8244.0]}, {\"line\": {\"color\": \"green\", \"dash\": \"dash\", \"width\": 2}, \"name\": \"ratio\", \"type\": \"scatter\", \"x\": [\"2007-11-01T00:00:00Z\", \"2007-12-01T00:00:00Z\", \"2008-01-01T00:00:00Z\", \"2008-02-01T00:00:00Z\", \"2008-03-01T00:00:00Z\", \"2008-04-01T00:00:00Z\", \"2008-05-01T00:00:00Z\", \"2008-06-01T00:00:00Z\", \"2008-07-01T00:00:00Z\", \"2008-08-01T00:00:00Z\", \"2008-09-01T00:00:00Z\", \"2008-10-01T00:00:00Z\", \"2008-11-01T00:00:00Z\", \"2008-12-01T00:00:00Z\", \"2009-01-01T00:00:00Z\", \"2009-02-01T00:00:00Z\", \"2009-03-01T00:00:00Z\", \"2009-04-01T00:00:00Z\", \"2009-05-01T00:00:00Z\", \"2009-06-01T00:00:00Z\", \"2009-07-01T00:00:00Z\", \"2009-08-01T00:00:00Z\", \"2009-09-01T00:00:00Z\", \"2009-10-01T00:00:00Z\", \"2009-11-01T00:00:00Z\", \"2009-12-01T00:00:00Z\", \"2010-01-01T00:00:00Z\", \"2010-02-01T00:00:00Z\", \"2010-03-01T00:00:00Z\", \"2010-04-01T00:00:00Z\", \"2010-05-01T00:00:00Z\", \"2010-06-01T00:00:00Z\", \"2010-07-01T00:00:00Z\", \"2010-08-01T00:00:00Z\", \"2010-09-01T00:00:00Z\", \"2010-10-01T00:00:00Z\", \"2010-11-01T00:00:00Z\", \"2010-12-01T00:00:00Z\", \"2011-01-01T00:00:00Z\", \"2011-02-01T00:00:00Z\", \"2011-03-01T00:00:00Z\", \"2011-04-01T00:00:00Z\", \"2011-05-01T00:00:00Z\", \"2011-06-01T00:00:00Z\", \"2011-07-01T00:00:00Z\", \"2011-08-01T00:00:00Z\", \"2011-09-01T00:00:00Z\", \"2011-10-01T00:00:00Z\", \"2011-11-01T00:00:00Z\", \"2011-12-01T00:00:00Z\", \"2012-01-01T00:00:00Z\", \"2012-02-01T00:00:00Z\", \"2012-03-01T00:00:00Z\", \"2012-04-01T00:00:00Z\", \"2012-05-01T00:00:00Z\", \"2012-06-01T00:00:00Z\", \"2012-07-01T00:00:00Z\", \"2012-08-01T00:00:00Z\", \"2012-09-01T00:00:00Z\", \"2012-10-01T00:00:00Z\", \"2012-11-01T00:00:00Z\", \"2012-12-01T00:00:00Z\", \"2013-01-01T00:00:00Z\", \"2013-02-01T00:00:00Z\", \"2013-03-01T00:00:00Z\", \"2013-04-01T00:00:00Z\", \"2013-05-01T00:00:00Z\", \"2013-06-01T00:00:00Z\", \"2013-07-01T00:00:00Z\", \"2013-08-01T00:00:00Z\", \"2013-09-01T00:00:00Z\", \"2013-10-01T00:00:00Z\", \"2013-11-01T00:00:00Z\", \"2013-12-01T00:00:00Z\", \"2014-01-01T00:00:00Z\", \"2014-02-01T00:00:00Z\", \"2014-03-01T00:00:00Z\", \"2014-04-01T00:00:00Z\", \"2014-05-01T00:00:00Z\", \"2014-06-01T00:00:00Z\", \"2014-07-01T00:00:00Z\", \"2014-08-01T00:00:00Z\", \"2014-09-01T00:00:00Z\", \"2014-10-01T00:00:00Z\", \"2014-11-01T00:00:00Z\", \"2014-12-01T00:00:00Z\", \"2015-01-01T00:00:00Z\", \"2015-02-01T00:00:00Z\", \"2015-03-01T00:00:00Z\", \"2015-04-01T00:00:00Z\", \"2015-05-01T00:00:00Z\", \"2015-06-01T00:00:00Z\", \"2015-07-01T00:00:00Z\", \"2015-08-01T00:00:00Z\", \"2015-09-01T00:00:00Z\", \"2015-10-01T00:00:00Z\", \"2015-11-01T00:00:00Z\", \"2015-12-01T00:00:00Z\", \"2016-01-01T00:00:00Z\", \"2016-02-01T00:00:00Z\", \"2016-03-01T00:00:00Z\", \"2016-04-01T00:00:00Z\", \"2016-05-01T00:00:00Z\", \"2016-06-01T00:00:00Z\", \"2016-07-01T00:00:00Z\", \"2016-08-01T00:00:00Z\", \"2016-09-01T00:00:00Z\", \"2016-10-01T00:00:00Z\", \"2016-11-01T00:00:00Z\", \"2016-12-01T00:00:00Z\", \"2017-01-01T00:00:00Z\", \"2017-02-01T00:00:00Z\", \"2017-03-01T00:00:00Z\", \"2017-04-01T00:00:00Z\", \"2017-05-01T00:00:00Z\", \"2017-06-01T00:00:00Z\", \"2017-07-01T00:00:00Z\", \"2017-08-01T00:00:00Z\", \"2017-09-01T00:00:00Z\", \"2017-10-01T00:00:00Z\", \"2017-11-01T00:00:00Z\", \"2017-12-01T00:00:00Z\", \"2018-01-01T00:00:00Z\", \"2018-02-01T00:00:00Z\", \"2018-03-01T00:00:00Z\", \"2018-04-01T00:00:00Z\", \"2018-05-01T00:00:00Z\", \"2018-06-01T00:00:00Z\", \"2018-07-01T00:00:00Z\", \"2018-08-01T00:00:00Z\", \"2018-09-01T00:00:00Z\", \"2018-10-01T00:00:00Z\", \"2018-11-01T00:00:00Z\"], \"y\": [\"NaN\", 0.0, 0.0, 0.0, 0.0, 0.0, 0.0, 0.0, 0.0, 0.018182, 0.025, 0.136719, 0.354839, 0.353414, 0.429688, 0.447471, 0.448276, 0.489209, 0.477193, 0.479021, 0.582902, 0.583548, 0.584615, 0.571429, 0.555556, 0.554217, 0.544811, 0.546512, 0.548611, 0.547297, 0.546067, 0.546667, 0.547672, 0.535637, 0.533333, 0.503043, 0.509128, 0.322335, 0.06729, 0.064605, 0.062012, 0.06129, 0.060651, 0.060797, 0.06044, 0.060222, 0.060838, 0.061934, 0.062073, 0.0625, 0.066997, 0.064492, 0.069737, 0.070483, 0.072822, 0.072999, 0.073511, 0.074455, 0.075889, 0.097181, 0.098414, 0.112207, 0.113564, 0.111877, 0.124612, 0.137352, 0.168482, 0.203114, 0.204571, 0.213694, 0.21176, 0.219597, 0.225259, 0.212976, 0.216, 0.241167, 0.244496, 0.281601, 0.326342, 0.345344, 0.356724, 0.382242, 0.414344, 0.425244, 0.455999, 0.483025, 0.517605, 0.538491, 0.539673, 0.540332, 0.55515, 0.555598, 0.556591, 0.565534, 0.568609, 0.569767, 0.575469, 0.572036, 0.576909, 0.591538, 0.591984, 0.603131, 0.605702, 0.608899, 0.609741, 0.624767, 0.631169, 0.631053, 0.63026, 0.631101, 0.630916, 0.63559, 0.636475, 0.636721, 0.637996, 0.638949, 0.642256, 0.642181, 0.647314, 0.647629, 0.647491, 0.648124, 0.648091, 0.647571, 0.675571, 0.675787, 0.676712, 0.676789, 0.677118, 0.677255, 0.677255, 0.676929, 0.675184], \"yaxis\": \"y2\"}],\n",
       "                        {\"legend\": {\"orientation\": \"h\"}, \"template\": {\"data\": {\"bar\": [{\"error_x\": {\"color\": \"#2a3f5f\"}, \"error_y\": {\"color\": \"#2a3f5f\"}, \"marker\": {\"line\": {\"color\": \"#E5ECF6\", \"width\": 0.5}}, \"type\": \"bar\"}], \"barpolar\": [{\"marker\": {\"line\": {\"color\": \"#E5ECF6\", \"width\": 0.5}}, \"type\": \"barpolar\"}], \"carpet\": [{\"aaxis\": {\"endlinecolor\": \"#2a3f5f\", \"gridcolor\": \"white\", \"linecolor\": \"white\", \"minorgridcolor\": \"white\", \"startlinecolor\": \"#2a3f5f\"}, \"baxis\": {\"endlinecolor\": \"#2a3f5f\", \"gridcolor\": \"white\", \"linecolor\": \"white\", \"minorgridcolor\": \"white\", \"startlinecolor\": \"#2a3f5f\"}, \"type\": \"carpet\"}], \"choropleth\": [{\"colorbar\": {\"outlinewidth\": 0, \"ticks\": \"\"}, \"type\": \"choropleth\"}], \"contour\": [{\"colorbar\": {\"outlinewidth\": 0, \"ticks\": \"\"}, \"colorscale\": [[0.0, \"#0d0887\"], [0.1111111111111111, \"#46039f\"], [0.2222222222222222, \"#7201a8\"], [0.3333333333333333, \"#9c179e\"], [0.4444444444444444, \"#bd3786\"], [0.5555555555555556, \"#d8576b\"], [0.6666666666666666, \"#ed7953\"], [0.7777777777777778, \"#fb9f3a\"], [0.8888888888888888, \"#fdca26\"], [1.0, \"#f0f921\"]], \"type\": \"contour\"}], \"contourcarpet\": [{\"colorbar\": {\"outlinewidth\": 0, \"ticks\": \"\"}, \"type\": \"contourcarpet\"}], \"heatmap\": [{\"colorbar\": {\"outlinewidth\": 0, \"ticks\": \"\"}, \"colorscale\": [[0.0, \"#0d0887\"], [0.1111111111111111, \"#46039f\"], [0.2222222222222222, \"#7201a8\"], [0.3333333333333333, \"#9c179e\"], [0.4444444444444444, \"#bd3786\"], [0.5555555555555556, \"#d8576b\"], [0.6666666666666666, \"#ed7953\"], [0.7777777777777778, \"#fb9f3a\"], [0.8888888888888888, \"#fdca26\"], [1.0, \"#f0f921\"]], \"type\": \"heatmap\"}], \"heatmapgl\": [{\"colorbar\": {\"outlinewidth\": 0, \"ticks\": \"\"}, \"colorscale\": [[0.0, \"#0d0887\"], [0.1111111111111111, \"#46039f\"], [0.2222222222222222, \"#7201a8\"], [0.3333333333333333, \"#9c179e\"], [0.4444444444444444, \"#bd3786\"], [0.5555555555555556, \"#d8576b\"], [0.6666666666666666, \"#ed7953\"], [0.7777777777777778, \"#fb9f3a\"], [0.8888888888888888, \"#fdca26\"], [1.0, \"#f0f921\"]], \"type\": \"heatmapgl\"}], \"histogram\": [{\"marker\": {\"colorbar\": {\"outlinewidth\": 0, \"ticks\": \"\"}}, \"type\": \"histogram\"}], \"histogram2d\": [{\"colorbar\": {\"outlinewidth\": 0, \"ticks\": \"\"}, \"colorscale\": [[0.0, \"#0d0887\"], [0.1111111111111111, \"#46039f\"], [0.2222222222222222, \"#7201a8\"], [0.3333333333333333, \"#9c179e\"], [0.4444444444444444, \"#bd3786\"], [0.5555555555555556, \"#d8576b\"], [0.6666666666666666, \"#ed7953\"], [0.7777777777777778, \"#fb9f3a\"], [0.8888888888888888, \"#fdca26\"], [1.0, \"#f0f921\"]], \"type\": \"histogram2d\"}], \"histogram2dcontour\": [{\"colorbar\": {\"outlinewidth\": 0, \"ticks\": \"\"}, \"colorscale\": [[0.0, \"#0d0887\"], [0.1111111111111111, \"#46039f\"], [0.2222222222222222, \"#7201a8\"], [0.3333333333333333, \"#9c179e\"], [0.4444444444444444, \"#bd3786\"], [0.5555555555555556, \"#d8576b\"], [0.6666666666666666, \"#ed7953\"], [0.7777777777777778, \"#fb9f3a\"], [0.8888888888888888, \"#fdca26\"], [1.0, \"#f0f921\"]], \"type\": \"histogram2dcontour\"}], \"mesh3d\": [{\"colorbar\": {\"outlinewidth\": 0, \"ticks\": \"\"}, \"type\": \"mesh3d\"}], \"parcoords\": [{\"line\": {\"colorbar\": {\"outlinewidth\": 0, \"ticks\": \"\"}}, \"type\": \"parcoords\"}], \"pie\": [{\"automargin\": true, \"type\": \"pie\"}], \"scatter\": [{\"marker\": {\"colorbar\": {\"outlinewidth\": 0, \"ticks\": \"\"}}, \"type\": \"scatter\"}], \"scatter3d\": [{\"line\": {\"colorbar\": {\"outlinewidth\": 0, \"ticks\": \"\"}}, \"marker\": {\"colorbar\": {\"outlinewidth\": 0, \"ticks\": \"\"}}, \"type\": \"scatter3d\"}], \"scattercarpet\": [{\"marker\": {\"colorbar\": {\"outlinewidth\": 0, \"ticks\": \"\"}}, \"type\": \"scattercarpet\"}], \"scattergeo\": [{\"marker\": {\"colorbar\": {\"outlinewidth\": 0, \"ticks\": \"\"}}, \"type\": \"scattergeo\"}], \"scattergl\": [{\"marker\": {\"colorbar\": {\"outlinewidth\": 0, \"ticks\": \"\"}}, \"type\": \"scattergl\"}], \"scattermapbox\": [{\"marker\": {\"colorbar\": {\"outlinewidth\": 0, \"ticks\": \"\"}}, \"type\": \"scattermapbox\"}], \"scatterpolar\": [{\"marker\": {\"colorbar\": {\"outlinewidth\": 0, \"ticks\": \"\"}}, \"type\": \"scatterpolar\"}], \"scatterpolargl\": [{\"marker\": {\"colorbar\": {\"outlinewidth\": 0, \"ticks\": \"\"}}, \"type\": \"scatterpolargl\"}], \"scatterternary\": [{\"marker\": {\"colorbar\": {\"outlinewidth\": 0, \"ticks\": \"\"}}, \"type\": \"scatterternary\"}], \"surface\": [{\"colorbar\": {\"outlinewidth\": 0, \"ticks\": \"\"}, \"colorscale\": [[0.0, \"#0d0887\"], [0.1111111111111111, \"#46039f\"], [0.2222222222222222, \"#7201a8\"], [0.3333333333333333, \"#9c179e\"], [0.4444444444444444, \"#bd3786\"], [0.5555555555555556, \"#d8576b\"], [0.6666666666666666, \"#ed7953\"], [0.7777777777777778, \"#fb9f3a\"], [0.8888888888888888, \"#fdca26\"], [1.0, \"#f0f921\"]], \"type\": \"surface\"}], \"table\": [{\"cells\": {\"fill\": {\"color\": \"#EBF0F8\"}, \"line\": {\"color\": \"white\"}}, \"header\": {\"fill\": {\"color\": \"#C8D4E3\"}, \"line\": {\"color\": \"white\"}}, \"type\": \"table\"}]}, \"layout\": {\"annotationdefaults\": {\"arrowcolor\": \"#2a3f5f\", \"arrowhead\": 0, \"arrowwidth\": 1}, \"coloraxis\": {\"colorbar\": {\"outlinewidth\": 0, \"ticks\": \"\"}}, \"colorscale\": {\"diverging\": [[0, \"#8e0152\"], [0.1, \"#c51b7d\"], [0.2, \"#de77ae\"], [0.3, \"#f1b6da\"], [0.4, \"#fde0ef\"], [0.5, \"#f7f7f7\"], [0.6, \"#e6f5d0\"], [0.7, \"#b8e186\"], [0.8, \"#7fbc41\"], [0.9, \"#4d9221\"], [1, \"#276419\"]], \"sequential\": [[0.0, \"#0d0887\"], [0.1111111111111111, \"#46039f\"], [0.2222222222222222, \"#7201a8\"], [0.3333333333333333, \"#9c179e\"], [0.4444444444444444, \"#bd3786\"], [0.5555555555555556, \"#d8576b\"], [0.6666666666666666, \"#ed7953\"], [0.7777777777777778, \"#fb9f3a\"], [0.8888888888888888, \"#fdca26\"], [1.0, \"#f0f921\"]], \"sequentialminus\": [[0.0, \"#0d0887\"], [0.1111111111111111, \"#46039f\"], [0.2222222222222222, \"#7201a8\"], [0.3333333333333333, \"#9c179e\"], [0.4444444444444444, \"#bd3786\"], [0.5555555555555556, \"#d8576b\"], [0.6666666666666666, \"#ed7953\"], [0.7777777777777778, \"#fb9f3a\"], [0.8888888888888888, \"#fdca26\"], [1.0, \"#f0f921\"]]}, \"colorway\": [\"#636efa\", \"#EF553B\", \"#00cc96\", \"#ab63fa\", \"#FFA15A\", \"#19d3f3\", \"#FF6692\", \"#B6E880\", \"#FF97FF\", \"#FECB52\"], \"font\": {\"color\": \"#2a3f5f\"}, \"geo\": {\"bgcolor\": \"white\", \"lakecolor\": \"white\", \"landcolor\": \"#E5ECF6\", \"showlakes\": true, \"showland\": true, \"subunitcolor\": \"white\"}, \"hoverlabel\": {\"align\": \"left\"}, \"hovermode\": \"closest\", \"mapbox\": {\"style\": \"light\"}, \"paper_bgcolor\": \"white\", \"plot_bgcolor\": \"#E5ECF6\", \"polar\": {\"angularaxis\": {\"gridcolor\": \"white\", \"linecolor\": \"white\", \"ticks\": \"\"}, \"bgcolor\": \"#E5ECF6\", \"radialaxis\": {\"gridcolor\": \"white\", \"linecolor\": \"white\", \"ticks\": \"\"}}, \"scene\": {\"xaxis\": {\"backgroundcolor\": \"#E5ECF6\", \"gridcolor\": \"white\", \"gridwidth\": 2, \"linecolor\": \"white\", \"showbackground\": true, \"ticks\": \"\", \"zerolinecolor\": \"white\"}, \"yaxis\": {\"backgroundcolor\": \"#E5ECF6\", \"gridcolor\": \"white\", \"gridwidth\": 2, \"linecolor\": \"white\", \"showbackground\": true, \"ticks\": \"\", \"zerolinecolor\": \"white\"}, \"zaxis\": {\"backgroundcolor\": \"#E5ECF6\", \"gridcolor\": \"white\", \"gridwidth\": 2, \"linecolor\": \"white\", \"showbackground\": true, \"ticks\": \"\", \"zerolinecolor\": \"white\"}}, \"shapedefaults\": {\"line\": {\"color\": \"#2a3f5f\"}}, \"ternary\": {\"aaxis\": {\"gridcolor\": \"white\", \"linecolor\": \"white\", \"ticks\": \"\"}, \"baxis\": {\"gridcolor\": \"white\", \"linecolor\": \"white\", \"ticks\": \"\"}, \"bgcolor\": \"#E5ECF6\", \"caxis\": {\"gridcolor\": \"white\", \"linecolor\": \"white\", \"ticks\": \"\"}}, \"title\": {\"x\": 0.05}, \"xaxis\": {\"automargin\": true, \"gridcolor\": \"white\", \"linecolor\": \"white\", \"ticks\": \"\", \"title\": {\"standoff\": 15}, \"zerolinecolor\": \"white\", \"zerolinewidth\": 2}, \"yaxis\": {\"automargin\": true, \"gridcolor\": \"white\", \"linecolor\": \"white\", \"ticks\": \"\", \"title\": {\"standoff\": 15}, \"zerolinecolor\": \"white\", \"zerolinewidth\": 2}}}, \"title\": {\"text\": \"Propotion of OSM buildings with house numbers in Heidelberg\"}, \"yaxis2\": {\"overlaying\": \"y\", \"showgrid\": false, \"side\": \"right\"}},\n",
       "                        {\"responsive\": true}\n",
       "                    ).then(function(){\n",
       "                            \n",
       "var gd = document.getElementById('5109c3ff-98a9-4695-b3d6-53246b66b47d');\n",
       "var x = new MutationObserver(function (mutations, observer) {{\n",
       "        var display = window.getComputedStyle(gd).display;\n",
       "        if (!display || display === 'none') {{\n",
       "            console.log([gd, 'removed!']);\n",
       "            Plotly.purge(gd);\n",
       "            observer.disconnect();\n",
       "        }}\n",
       "}});\n",
       "\n",
       "// Listen for the removal of the full notebook cells\n",
       "var notebookContainer = gd.closest('#notebook-container');\n",
       "if (notebookContainer) {{\n",
       "    x.observe(notebookContainer, {childList: true});\n",
       "}}\n",
       "\n",
       "// Listen for the clearing of the current output cell\n",
       "var outputEl = gd.closest('.output');\n",
       "if (outputEl) {{\n",
       "    x.observe(outputEl, {childList: true});\n",
       "}}\n",
       "\n",
       "                        })\n",
       "                };\n",
       "                });\n",
       "            </script>\n",
       "        </div>"
      ]
     },
     "metadata": {},
     "output_type": "display_data"
    }
   ],
   "source": [
    "params = {'bboxes': BBOX['hd'],\n",
    "          'filter': 'building=*',\n",
    "          'filter2': 'building=* and addr:housenumber=*',\n",
    "          'time': TIME_MONTHLY\n",
    "         }\n",
    "\n",
    "# sending get request to ohsome API \n",
    "res = requests.get(OHSOME_API+\"/elements/count/ratio\", params)\n",
    "\n",
    "display(HTML('<h4>ohsome API request</h4>'))\n",
    "display(res.url)\n",
    "\n",
    "# extracting data in json format and storing it in a dataframe\n",
    "display(HTML('<h4>API response</h4>'))\n",
    "df = pd.DataFrame(res.json()['ratioResult'])\n",
    "display(df.head())\n",
    "\n",
    "# plotting the result\n",
    "building = go.Scatter(\n",
    "    x = df.timestamp,\n",
    "    y = df.value,\n",
    "    name = \"building\"\n",
    ")\n",
    "\n",
    "building_housenumber = go.Scatter(\n",
    "    x = df.timestamp,\n",
    "    y = df.value2,\n",
    "    name = \"building,addr:housenumber\"\n",
    ")\n",
    "\n",
    "ratio = go.Scatter(\n",
    "    x = df.timestamp,\n",
    "    y = df.ratio,\n",
    "    yaxis='y2',\n",
    "    name = \"ratio\",\n",
    "    line = dict(\n",
    "        color = 'green',\n",
    "        width = 2,\n",
    "        dash = 'dash')\n",
    ")\n",
    "\n",
    "data = [building, building_housenumber, ratio]\n",
    "\n",
    "layout = go.Layout(\n",
    "    title='Propotion of OSM buildings with house numbers in Heidelberg',\n",
    "    yaxis2 = dict(\n",
    "        side = 'right',\n",
    "        overlaying = 'y',\n",
    "        showgrid = False\n",
    "    ),\n",
    "    legend = dict(\n",
    "        orientation = \"h\")      \n",
    ")\n",
    "\n",
    "fig = go.Figure(data, layout)\n",
    "plotly.offline.iplot(fig, filename = 'ratio')"
   ]
  },
  {
   "cell_type": "markdown",
   "metadata": {},
   "source": [
    "### Count over time grouped by bounding box\n",
    "We are not only interested in the Heidelberg area but also in Mannheim and Ludwigshafen. Using the _groupBy/boundary_ resource allows you to get the OSM evolution for all areas with one single request."
   ]
  },
  {
   "cell_type": "code",
   "execution_count": 14,
   "metadata": {},
   "outputs": [
    {
     "data": {
      "text/html": [
       "<h4>ohsome API request</h4>"
      ],
      "text/plain": [
       "<IPython.core.display.HTML object>"
      ]
     },
     "metadata": {},
     "output_type": "display_data"
    },
    {
     "data": {
      "text/plain": [
       "'https://api.ohsome.org/v1/elements/count/groupBy/boundary?bboxes=hd%3A8.6581%2C49.3836%2C8.7225%2C49.4363%7Cma%3A8.4514%2C49.4589%2C8.5158%2C49.5114%7Clu%3A8.3936%2C49.4448%2C8.4579%2C49.4974&filter=building%3D%2A&time=2007-11-01%2F2018-11-01%2FP1Y'"
      ]
     },
     "metadata": {},
     "output_type": "display_data"
    },
    {
     "data": {
      "text/html": [
       "<h4>API response</h4>"
      ],
      "text/plain": [
       "<IPython.core.display.HTML object>"
      ]
     },
     "metadata": {},
     "output_type": "display_data"
    },
    {
     "data": {
      "text/html": [
       "<div>\n",
       "<style scoped>\n",
       "    .dataframe tbody tr th:only-of-type {\n",
       "        vertical-align: middle;\n",
       "    }\n",
       "\n",
       "    .dataframe tbody tr th {\n",
       "        vertical-align: top;\n",
       "    }\n",
       "\n",
       "    .dataframe thead th {\n",
       "        text-align: right;\n",
       "    }\n",
       "</style>\n",
       "<table border=\"1\" class=\"dataframe\">\n",
       "  <thead>\n",
       "    <tr style=\"text-align: right;\">\n",
       "      <th></th>\n",
       "      <th>result</th>\n",
       "      <th>groupByObject</th>\n",
       "    </tr>\n",
       "  </thead>\n",
       "  <tbody>\n",
       "    <tr>\n",
       "      <th>0</th>\n",
       "      <td>[{'timestamp': '2007-11-01T00:00:00Z', 'value'...</td>\n",
       "      <td>hd</td>\n",
       "    </tr>\n",
       "    <tr>\n",
       "      <th>1</th>\n",
       "      <td>[{'timestamp': '2007-11-01T00:00:00Z', 'value'...</td>\n",
       "      <td>ma</td>\n",
       "    </tr>\n",
       "    <tr>\n",
       "      <th>2</th>\n",
       "      <td>[{'timestamp': '2007-11-01T00:00:00Z', 'value'...</td>\n",
       "      <td>lu</td>\n",
       "    </tr>\n",
       "  </tbody>\n",
       "</table>\n",
       "</div>"
      ],
      "text/plain": [
       "                                              result groupByObject\n",
       "0  [{'timestamp': '2007-11-01T00:00:00Z', 'value'...            hd\n",
       "1  [{'timestamp': '2007-11-01T00:00:00Z', 'value'...            ma\n",
       "2  [{'timestamp': '2007-11-01T00:00:00Z', 'value'...            lu"
      ]
     },
     "metadata": {},
     "output_type": "display_data"
    },
    {
     "data": {
      "text/html": [
       "<h4>API response: result for hd</h4>"
      ],
      "text/plain": [
       "<IPython.core.display.HTML object>"
      ]
     },
     "metadata": {},
     "output_type": "display_data"
    },
    {
     "data": {
      "text/html": [
       "<div>\n",
       "<style scoped>\n",
       "    .dataframe tbody tr th:only-of-type {\n",
       "        vertical-align: middle;\n",
       "    }\n",
       "\n",
       "    .dataframe tbody tr th {\n",
       "        vertical-align: top;\n",
       "    }\n",
       "\n",
       "    .dataframe thead th {\n",
       "        text-align: right;\n",
       "    }\n",
       "</style>\n",
       "<table border=\"1\" class=\"dataframe\">\n",
       "  <thead>\n",
       "    <tr style=\"text-align: right;\">\n",
       "      <th></th>\n",
       "      <th>timestamp</th>\n",
       "      <th>value</th>\n",
       "    </tr>\n",
       "  </thead>\n",
       "  <tbody>\n",
       "    <tr>\n",
       "      <th>0</th>\n",
       "      <td>2007-11-01T00:00:00Z</td>\n",
       "      <td>0.0</td>\n",
       "    </tr>\n",
       "    <tr>\n",
       "      <th>1</th>\n",
       "      <td>2008-11-01T00:00:00Z</td>\n",
       "      <td>248.0</td>\n",
       "    </tr>\n",
       "    <tr>\n",
       "      <th>2</th>\n",
       "      <td>2009-11-01T00:00:00Z</td>\n",
       "      <td>414.0</td>\n",
       "    </tr>\n",
       "    <tr>\n",
       "      <th>3</th>\n",
       "      <td>2010-11-01T00:00:00Z</td>\n",
       "      <td>493.0</td>\n",
       "    </tr>\n",
       "    <tr>\n",
       "      <th>4</th>\n",
       "      <td>2011-11-01T00:00:00Z</td>\n",
       "      <td>4978.0</td>\n",
       "    </tr>\n",
       "    <tr>\n",
       "      <th>5</th>\n",
       "      <td>2012-11-01T00:00:00Z</td>\n",
       "      <td>5802.0</td>\n",
       "    </tr>\n",
       "    <tr>\n",
       "      <th>6</th>\n",
       "      <td>2013-11-01T00:00:00Z</td>\n",
       "      <td>7538.0</td>\n",
       "    </tr>\n",
       "    <tr>\n",
       "      <th>7</th>\n",
       "      <td>2014-11-01T00:00:00Z</td>\n",
       "      <td>10193.0</td>\n",
       "    </tr>\n",
       "    <tr>\n",
       "      <th>8</th>\n",
       "      <td>2015-11-01T00:00:00Z</td>\n",
       "      <td>10501.0</td>\n",
       "    </tr>\n",
       "    <tr>\n",
       "      <th>9</th>\n",
       "      <td>2016-11-01T00:00:00Z</td>\n",
       "      <td>11335.0</td>\n",
       "    </tr>\n",
       "  </tbody>\n",
       "</table>\n",
       "</div>"
      ],
      "text/plain": [
       "              timestamp    value\n",
       "0  2007-11-01T00:00:00Z      0.0\n",
       "1  2008-11-01T00:00:00Z    248.0\n",
       "2  2009-11-01T00:00:00Z    414.0\n",
       "3  2010-11-01T00:00:00Z    493.0\n",
       "4  2011-11-01T00:00:00Z   4978.0\n",
       "5  2012-11-01T00:00:00Z   5802.0\n",
       "6  2013-11-01T00:00:00Z   7538.0\n",
       "7  2014-11-01T00:00:00Z  10193.0\n",
       "8  2015-11-01T00:00:00Z  10501.0\n",
       "9  2016-11-01T00:00:00Z  11335.0"
      ]
     },
     "metadata": {},
     "output_type": "display_data"
    },
    {
     "data": {
      "application/vnd.plotly.v1+json": {
       "config": {
        "linkText": "Export to plot.ly",
        "plotlyServerURL": "https://plot.ly",
        "showLink": false
       },
       "data": [
        {
         "name": "hd",
         "type": "bar",
         "x": [
          "2007-11-01T00:00:00Z",
          "2008-11-01T00:00:00Z",
          "2009-11-01T00:00:00Z",
          "2010-11-01T00:00:00Z",
          "2011-11-01T00:00:00Z",
          "2012-11-01T00:00:00Z",
          "2013-11-01T00:00:00Z",
          "2014-11-01T00:00:00Z",
          "2015-11-01T00:00:00Z",
          "2016-11-01T00:00:00Z",
          "2017-11-01T00:00:00Z",
          "2018-11-01T00:00:00Z"
         ],
         "y": [
          0,
          248,
          414,
          493,
          4978,
          5802,
          7538,
          10193,
          10501,
          11335,
          11577,
          12210
         ]
        },
        {
         "name": "ma",
         "type": "bar",
         "x": [
          "2007-11-01T00:00:00Z",
          "2008-11-01T00:00:00Z",
          "2009-11-01T00:00:00Z",
          "2010-11-01T00:00:00Z",
          "2011-11-01T00:00:00Z",
          "2012-11-01T00:00:00Z",
          "2013-11-01T00:00:00Z",
          "2014-11-01T00:00:00Z",
          "2015-11-01T00:00:00Z",
          "2016-11-01T00:00:00Z",
          "2017-11-01T00:00:00Z",
          "2018-11-01T00:00:00Z"
         ],
         "y": [
          0,
          138,
          46,
          437,
          2147,
          11373,
          14413,
          16622,
          18383,
          19217,
          19591,
          20277
         ]
        },
        {
         "name": "lu",
         "type": "bar",
         "x": [
          "2007-11-01T00:00:00Z",
          "2008-11-01T00:00:00Z",
          "2009-11-01T00:00:00Z",
          "2010-11-01T00:00:00Z",
          "2011-11-01T00:00:00Z",
          "2012-11-01T00:00:00Z",
          "2013-11-01T00:00:00Z",
          "2014-11-01T00:00:00Z",
          "2015-11-01T00:00:00Z",
          "2016-11-01T00:00:00Z",
          "2017-11-01T00:00:00Z",
          "2018-11-01T00:00:00Z"
         ],
         "y": [
          0,
          4,
          7,
          556,
          919,
          3916,
          5412,
          8184,
          9823,
          13494,
          13973,
          14168
         ]
        }
       ],
       "layout": {
        "barmode": "group",
        "legend": {
         "orientation": "h"
        },
        "template": {
         "data": {
          "bar": [
           {
            "error_x": {
             "color": "#2a3f5f"
            },
            "error_y": {
             "color": "#2a3f5f"
            },
            "marker": {
             "line": {
              "color": "#E5ECF6",
              "width": 0.5
             }
            },
            "type": "bar"
           }
          ],
          "barpolar": [
           {
            "marker": {
             "line": {
              "color": "#E5ECF6",
              "width": 0.5
             }
            },
            "type": "barpolar"
           }
          ],
          "carpet": [
           {
            "aaxis": {
             "endlinecolor": "#2a3f5f",
             "gridcolor": "white",
             "linecolor": "white",
             "minorgridcolor": "white",
             "startlinecolor": "#2a3f5f"
            },
            "baxis": {
             "endlinecolor": "#2a3f5f",
             "gridcolor": "white",
             "linecolor": "white",
             "minorgridcolor": "white",
             "startlinecolor": "#2a3f5f"
            },
            "type": "carpet"
           }
          ],
          "choropleth": [
           {
            "colorbar": {
             "outlinewidth": 0,
             "ticks": ""
            },
            "type": "choropleth"
           }
          ],
          "contour": [
           {
            "colorbar": {
             "outlinewidth": 0,
             "ticks": ""
            },
            "colorscale": [
             [
              0,
              "#0d0887"
             ],
             [
              0.1111111111111111,
              "#46039f"
             ],
             [
              0.2222222222222222,
              "#7201a8"
             ],
             [
              0.3333333333333333,
              "#9c179e"
             ],
             [
              0.4444444444444444,
              "#bd3786"
             ],
             [
              0.5555555555555556,
              "#d8576b"
             ],
             [
              0.6666666666666666,
              "#ed7953"
             ],
             [
              0.7777777777777778,
              "#fb9f3a"
             ],
             [
              0.8888888888888888,
              "#fdca26"
             ],
             [
              1,
              "#f0f921"
             ]
            ],
            "type": "contour"
           }
          ],
          "contourcarpet": [
           {
            "colorbar": {
             "outlinewidth": 0,
             "ticks": ""
            },
            "type": "contourcarpet"
           }
          ],
          "heatmap": [
           {
            "colorbar": {
             "outlinewidth": 0,
             "ticks": ""
            },
            "colorscale": [
             [
              0,
              "#0d0887"
             ],
             [
              0.1111111111111111,
              "#46039f"
             ],
             [
              0.2222222222222222,
              "#7201a8"
             ],
             [
              0.3333333333333333,
              "#9c179e"
             ],
             [
              0.4444444444444444,
              "#bd3786"
             ],
             [
              0.5555555555555556,
              "#d8576b"
             ],
             [
              0.6666666666666666,
              "#ed7953"
             ],
             [
              0.7777777777777778,
              "#fb9f3a"
             ],
             [
              0.8888888888888888,
              "#fdca26"
             ],
             [
              1,
              "#f0f921"
             ]
            ],
            "type": "heatmap"
           }
          ],
          "heatmapgl": [
           {
            "colorbar": {
             "outlinewidth": 0,
             "ticks": ""
            },
            "colorscale": [
             [
              0,
              "#0d0887"
             ],
             [
              0.1111111111111111,
              "#46039f"
             ],
             [
              0.2222222222222222,
              "#7201a8"
             ],
             [
              0.3333333333333333,
              "#9c179e"
             ],
             [
              0.4444444444444444,
              "#bd3786"
             ],
             [
              0.5555555555555556,
              "#d8576b"
             ],
             [
              0.6666666666666666,
              "#ed7953"
             ],
             [
              0.7777777777777778,
              "#fb9f3a"
             ],
             [
              0.8888888888888888,
              "#fdca26"
             ],
             [
              1,
              "#f0f921"
             ]
            ],
            "type": "heatmapgl"
           }
          ],
          "histogram": [
           {
            "marker": {
             "colorbar": {
              "outlinewidth": 0,
              "ticks": ""
             }
            },
            "type": "histogram"
           }
          ],
          "histogram2d": [
           {
            "colorbar": {
             "outlinewidth": 0,
             "ticks": ""
            },
            "colorscale": [
             [
              0,
              "#0d0887"
             ],
             [
              0.1111111111111111,
              "#46039f"
             ],
             [
              0.2222222222222222,
              "#7201a8"
             ],
             [
              0.3333333333333333,
              "#9c179e"
             ],
             [
              0.4444444444444444,
              "#bd3786"
             ],
             [
              0.5555555555555556,
              "#d8576b"
             ],
             [
              0.6666666666666666,
              "#ed7953"
             ],
             [
              0.7777777777777778,
              "#fb9f3a"
             ],
             [
              0.8888888888888888,
              "#fdca26"
             ],
             [
              1,
              "#f0f921"
             ]
            ],
            "type": "histogram2d"
           }
          ],
          "histogram2dcontour": [
           {
            "colorbar": {
             "outlinewidth": 0,
             "ticks": ""
            },
            "colorscale": [
             [
              0,
              "#0d0887"
             ],
             [
              0.1111111111111111,
              "#46039f"
             ],
             [
              0.2222222222222222,
              "#7201a8"
             ],
             [
              0.3333333333333333,
              "#9c179e"
             ],
             [
              0.4444444444444444,
              "#bd3786"
             ],
             [
              0.5555555555555556,
              "#d8576b"
             ],
             [
              0.6666666666666666,
              "#ed7953"
             ],
             [
              0.7777777777777778,
              "#fb9f3a"
             ],
             [
              0.8888888888888888,
              "#fdca26"
             ],
             [
              1,
              "#f0f921"
             ]
            ],
            "type": "histogram2dcontour"
           }
          ],
          "mesh3d": [
           {
            "colorbar": {
             "outlinewidth": 0,
             "ticks": ""
            },
            "type": "mesh3d"
           }
          ],
          "parcoords": [
           {
            "line": {
             "colorbar": {
              "outlinewidth": 0,
              "ticks": ""
             }
            },
            "type": "parcoords"
           }
          ],
          "pie": [
           {
            "automargin": true,
            "type": "pie"
           }
          ],
          "scatter": [
           {
            "marker": {
             "colorbar": {
              "outlinewidth": 0,
              "ticks": ""
             }
            },
            "type": "scatter"
           }
          ],
          "scatter3d": [
           {
            "line": {
             "colorbar": {
              "outlinewidth": 0,
              "ticks": ""
             }
            },
            "marker": {
             "colorbar": {
              "outlinewidth": 0,
              "ticks": ""
             }
            },
            "type": "scatter3d"
           }
          ],
          "scattercarpet": [
           {
            "marker": {
             "colorbar": {
              "outlinewidth": 0,
              "ticks": ""
             }
            },
            "type": "scattercarpet"
           }
          ],
          "scattergeo": [
           {
            "marker": {
             "colorbar": {
              "outlinewidth": 0,
              "ticks": ""
             }
            },
            "type": "scattergeo"
           }
          ],
          "scattergl": [
           {
            "marker": {
             "colorbar": {
              "outlinewidth": 0,
              "ticks": ""
             }
            },
            "type": "scattergl"
           }
          ],
          "scattermapbox": [
           {
            "marker": {
             "colorbar": {
              "outlinewidth": 0,
              "ticks": ""
             }
            },
            "type": "scattermapbox"
           }
          ],
          "scatterpolar": [
           {
            "marker": {
             "colorbar": {
              "outlinewidth": 0,
              "ticks": ""
             }
            },
            "type": "scatterpolar"
           }
          ],
          "scatterpolargl": [
           {
            "marker": {
             "colorbar": {
              "outlinewidth": 0,
              "ticks": ""
             }
            },
            "type": "scatterpolargl"
           }
          ],
          "scatterternary": [
           {
            "marker": {
             "colorbar": {
              "outlinewidth": 0,
              "ticks": ""
             }
            },
            "type": "scatterternary"
           }
          ],
          "surface": [
           {
            "colorbar": {
             "outlinewidth": 0,
             "ticks": ""
            },
            "colorscale": [
             [
              0,
              "#0d0887"
             ],
             [
              0.1111111111111111,
              "#46039f"
             ],
             [
              0.2222222222222222,
              "#7201a8"
             ],
             [
              0.3333333333333333,
              "#9c179e"
             ],
             [
              0.4444444444444444,
              "#bd3786"
             ],
             [
              0.5555555555555556,
              "#d8576b"
             ],
             [
              0.6666666666666666,
              "#ed7953"
             ],
             [
              0.7777777777777778,
              "#fb9f3a"
             ],
             [
              0.8888888888888888,
              "#fdca26"
             ],
             [
              1,
              "#f0f921"
             ]
            ],
            "type": "surface"
           }
          ],
          "table": [
           {
            "cells": {
             "fill": {
              "color": "#EBF0F8"
             },
             "line": {
              "color": "white"
             }
            },
            "header": {
             "fill": {
              "color": "#C8D4E3"
             },
             "line": {
              "color": "white"
             }
            },
            "type": "table"
           }
          ]
         },
         "layout": {
          "annotationdefaults": {
           "arrowcolor": "#2a3f5f",
           "arrowhead": 0,
           "arrowwidth": 1
          },
          "coloraxis": {
           "colorbar": {
            "outlinewidth": 0,
            "ticks": ""
           }
          },
          "colorscale": {
           "diverging": [
            [
             0,
             "#8e0152"
            ],
            [
             0.1,
             "#c51b7d"
            ],
            [
             0.2,
             "#de77ae"
            ],
            [
             0.3,
             "#f1b6da"
            ],
            [
             0.4,
             "#fde0ef"
            ],
            [
             0.5,
             "#f7f7f7"
            ],
            [
             0.6,
             "#e6f5d0"
            ],
            [
             0.7,
             "#b8e186"
            ],
            [
             0.8,
             "#7fbc41"
            ],
            [
             0.9,
             "#4d9221"
            ],
            [
             1,
             "#276419"
            ]
           ],
           "sequential": [
            [
             0,
             "#0d0887"
            ],
            [
             0.1111111111111111,
             "#46039f"
            ],
            [
             0.2222222222222222,
             "#7201a8"
            ],
            [
             0.3333333333333333,
             "#9c179e"
            ],
            [
             0.4444444444444444,
             "#bd3786"
            ],
            [
             0.5555555555555556,
             "#d8576b"
            ],
            [
             0.6666666666666666,
             "#ed7953"
            ],
            [
             0.7777777777777778,
             "#fb9f3a"
            ],
            [
             0.8888888888888888,
             "#fdca26"
            ],
            [
             1,
             "#f0f921"
            ]
           ],
           "sequentialminus": [
            [
             0,
             "#0d0887"
            ],
            [
             0.1111111111111111,
             "#46039f"
            ],
            [
             0.2222222222222222,
             "#7201a8"
            ],
            [
             0.3333333333333333,
             "#9c179e"
            ],
            [
             0.4444444444444444,
             "#bd3786"
            ],
            [
             0.5555555555555556,
             "#d8576b"
            ],
            [
             0.6666666666666666,
             "#ed7953"
            ],
            [
             0.7777777777777778,
             "#fb9f3a"
            ],
            [
             0.8888888888888888,
             "#fdca26"
            ],
            [
             1,
             "#f0f921"
            ]
           ]
          },
          "colorway": [
           "#636efa",
           "#EF553B",
           "#00cc96",
           "#ab63fa",
           "#FFA15A",
           "#19d3f3",
           "#FF6692",
           "#B6E880",
           "#FF97FF",
           "#FECB52"
          ],
          "font": {
           "color": "#2a3f5f"
          },
          "geo": {
           "bgcolor": "white",
           "lakecolor": "white",
           "landcolor": "#E5ECF6",
           "showlakes": true,
           "showland": true,
           "subunitcolor": "white"
          },
          "hoverlabel": {
           "align": "left"
          },
          "hovermode": "closest",
          "mapbox": {
           "style": "light"
          },
          "paper_bgcolor": "white",
          "plot_bgcolor": "#E5ECF6",
          "polar": {
           "angularaxis": {
            "gridcolor": "white",
            "linecolor": "white",
            "ticks": ""
           },
           "bgcolor": "#E5ECF6",
           "radialaxis": {
            "gridcolor": "white",
            "linecolor": "white",
            "ticks": ""
           }
          },
          "scene": {
           "xaxis": {
            "backgroundcolor": "#E5ECF6",
            "gridcolor": "white",
            "gridwidth": 2,
            "linecolor": "white",
            "showbackground": true,
            "ticks": "",
            "zerolinecolor": "white"
           },
           "yaxis": {
            "backgroundcolor": "#E5ECF6",
            "gridcolor": "white",
            "gridwidth": 2,
            "linecolor": "white",
            "showbackground": true,
            "ticks": "",
            "zerolinecolor": "white"
           },
           "zaxis": {
            "backgroundcolor": "#E5ECF6",
            "gridcolor": "white",
            "gridwidth": 2,
            "linecolor": "white",
            "showbackground": true,
            "ticks": "",
            "zerolinecolor": "white"
           }
          },
          "shapedefaults": {
           "line": {
            "color": "#2a3f5f"
           }
          },
          "ternary": {
           "aaxis": {
            "gridcolor": "white",
            "linecolor": "white",
            "ticks": ""
           },
           "baxis": {
            "gridcolor": "white",
            "linecolor": "white",
            "ticks": ""
           },
           "bgcolor": "#E5ECF6",
           "caxis": {
            "gridcolor": "white",
            "linecolor": "white",
            "ticks": ""
           }
          },
          "title": {
           "x": 0.05
          },
          "xaxis": {
           "automargin": true,
           "gridcolor": "white",
           "linecolor": "white",
           "ticks": "",
           "title": {
            "standoff": 15
           },
           "zerolinecolor": "white",
           "zerolinewidth": 2
          },
          "yaxis": {
           "automargin": true,
           "gridcolor": "white",
           "linecolor": "white",
           "ticks": "",
           "title": {
            "standoff": 15
           },
           "zerolinecolor": "white",
           "zerolinewidth": 2
          }
         }
        },
        "title": {
         "text": "Number of OSM buildings in Heidelberg, Mannheim and Ludwigshafen"
        }
       }
      },
      "text/html": [
       "<div>\n",
       "        \n",
       "        \n",
       "            <div id=\"46618b1c-1158-44b8-a3dd-e5fbef0c9a05\" class=\"plotly-graph-div\" style=\"height:525px; width:100%;\"></div>\n",
       "            <script type=\"text/javascript\">\n",
       "                require([\"plotly\"], function(Plotly) {\n",
       "                    window.PLOTLYENV=window.PLOTLYENV || {};\n",
       "                    \n",
       "                if (document.getElementById(\"46618b1c-1158-44b8-a3dd-e5fbef0c9a05\")) {\n",
       "                    Plotly.newPlot(\n",
       "                        '46618b1c-1158-44b8-a3dd-e5fbef0c9a05',\n",
       "                        [{\"name\": \"hd\", \"type\": \"bar\", \"x\": [\"2007-11-01T00:00:00Z\", \"2008-11-01T00:00:00Z\", \"2009-11-01T00:00:00Z\", \"2010-11-01T00:00:00Z\", \"2011-11-01T00:00:00Z\", \"2012-11-01T00:00:00Z\", \"2013-11-01T00:00:00Z\", \"2014-11-01T00:00:00Z\", \"2015-11-01T00:00:00Z\", \"2016-11-01T00:00:00Z\", \"2017-11-01T00:00:00Z\", \"2018-11-01T00:00:00Z\"], \"y\": [0.0, 248.0, 414.0, 493.0, 4978.0, 5802.0, 7538.0, 10193.0, 10501.0, 11335.0, 11577.0, 12210.0]}, {\"name\": \"ma\", \"type\": \"bar\", \"x\": [\"2007-11-01T00:00:00Z\", \"2008-11-01T00:00:00Z\", \"2009-11-01T00:00:00Z\", \"2010-11-01T00:00:00Z\", \"2011-11-01T00:00:00Z\", \"2012-11-01T00:00:00Z\", \"2013-11-01T00:00:00Z\", \"2014-11-01T00:00:00Z\", \"2015-11-01T00:00:00Z\", \"2016-11-01T00:00:00Z\", \"2017-11-01T00:00:00Z\", \"2018-11-01T00:00:00Z\"], \"y\": [0.0, 138.0, 46.0, 437.0, 2147.0, 11373.0, 14413.0, 16622.0, 18383.0, 19217.0, 19591.0, 20277.0]}, {\"name\": \"lu\", \"type\": \"bar\", \"x\": [\"2007-11-01T00:00:00Z\", \"2008-11-01T00:00:00Z\", \"2009-11-01T00:00:00Z\", \"2010-11-01T00:00:00Z\", \"2011-11-01T00:00:00Z\", \"2012-11-01T00:00:00Z\", \"2013-11-01T00:00:00Z\", \"2014-11-01T00:00:00Z\", \"2015-11-01T00:00:00Z\", \"2016-11-01T00:00:00Z\", \"2017-11-01T00:00:00Z\", \"2018-11-01T00:00:00Z\"], \"y\": [0.0, 4.0, 7.0, 556.0, 919.0, 3916.0, 5412.0, 8184.0, 9823.0, 13494.0, 13973.0, 14168.0]}],\n",
       "                        {\"barmode\": \"group\", \"legend\": {\"orientation\": \"h\"}, \"template\": {\"data\": {\"bar\": [{\"error_x\": {\"color\": \"#2a3f5f\"}, \"error_y\": {\"color\": \"#2a3f5f\"}, \"marker\": {\"line\": {\"color\": \"#E5ECF6\", \"width\": 0.5}}, \"type\": \"bar\"}], \"barpolar\": [{\"marker\": {\"line\": {\"color\": \"#E5ECF6\", \"width\": 0.5}}, \"type\": \"barpolar\"}], \"carpet\": [{\"aaxis\": {\"endlinecolor\": \"#2a3f5f\", \"gridcolor\": \"white\", \"linecolor\": \"white\", \"minorgridcolor\": \"white\", \"startlinecolor\": \"#2a3f5f\"}, \"baxis\": {\"endlinecolor\": \"#2a3f5f\", \"gridcolor\": \"white\", \"linecolor\": \"white\", \"minorgridcolor\": \"white\", \"startlinecolor\": \"#2a3f5f\"}, \"type\": \"carpet\"}], \"choropleth\": [{\"colorbar\": {\"outlinewidth\": 0, \"ticks\": \"\"}, \"type\": \"choropleth\"}], \"contour\": [{\"colorbar\": {\"outlinewidth\": 0, \"ticks\": \"\"}, \"colorscale\": [[0.0, \"#0d0887\"], [0.1111111111111111, \"#46039f\"], [0.2222222222222222, \"#7201a8\"], [0.3333333333333333, \"#9c179e\"], [0.4444444444444444, \"#bd3786\"], [0.5555555555555556, \"#d8576b\"], [0.6666666666666666, \"#ed7953\"], [0.7777777777777778, \"#fb9f3a\"], [0.8888888888888888, \"#fdca26\"], [1.0, \"#f0f921\"]], \"type\": \"contour\"}], \"contourcarpet\": [{\"colorbar\": {\"outlinewidth\": 0, \"ticks\": \"\"}, \"type\": \"contourcarpet\"}], \"heatmap\": [{\"colorbar\": {\"outlinewidth\": 0, \"ticks\": \"\"}, \"colorscale\": [[0.0, \"#0d0887\"], [0.1111111111111111, \"#46039f\"], [0.2222222222222222, \"#7201a8\"], [0.3333333333333333, \"#9c179e\"], [0.4444444444444444, \"#bd3786\"], [0.5555555555555556, \"#d8576b\"], [0.6666666666666666, \"#ed7953\"], [0.7777777777777778, \"#fb9f3a\"], [0.8888888888888888, \"#fdca26\"], [1.0, \"#f0f921\"]], \"type\": \"heatmap\"}], \"heatmapgl\": [{\"colorbar\": {\"outlinewidth\": 0, \"ticks\": \"\"}, \"colorscale\": [[0.0, \"#0d0887\"], [0.1111111111111111, \"#46039f\"], [0.2222222222222222, \"#7201a8\"], [0.3333333333333333, \"#9c179e\"], [0.4444444444444444, \"#bd3786\"], [0.5555555555555556, \"#d8576b\"], [0.6666666666666666, \"#ed7953\"], [0.7777777777777778, \"#fb9f3a\"], [0.8888888888888888, \"#fdca26\"], [1.0, \"#f0f921\"]], \"type\": \"heatmapgl\"}], \"histogram\": [{\"marker\": {\"colorbar\": {\"outlinewidth\": 0, \"ticks\": \"\"}}, \"type\": \"histogram\"}], \"histogram2d\": [{\"colorbar\": {\"outlinewidth\": 0, \"ticks\": \"\"}, \"colorscale\": [[0.0, \"#0d0887\"], [0.1111111111111111, \"#46039f\"], [0.2222222222222222, \"#7201a8\"], [0.3333333333333333, \"#9c179e\"], [0.4444444444444444, \"#bd3786\"], [0.5555555555555556, \"#d8576b\"], [0.6666666666666666, \"#ed7953\"], [0.7777777777777778, \"#fb9f3a\"], [0.8888888888888888, \"#fdca26\"], [1.0, \"#f0f921\"]], \"type\": \"histogram2d\"}], \"histogram2dcontour\": [{\"colorbar\": {\"outlinewidth\": 0, \"ticks\": \"\"}, \"colorscale\": [[0.0, \"#0d0887\"], [0.1111111111111111, \"#46039f\"], [0.2222222222222222, \"#7201a8\"], [0.3333333333333333, \"#9c179e\"], [0.4444444444444444, \"#bd3786\"], [0.5555555555555556, \"#d8576b\"], [0.6666666666666666, \"#ed7953\"], [0.7777777777777778, \"#fb9f3a\"], [0.8888888888888888, \"#fdca26\"], [1.0, \"#f0f921\"]], \"type\": \"histogram2dcontour\"}], \"mesh3d\": [{\"colorbar\": {\"outlinewidth\": 0, \"ticks\": \"\"}, \"type\": \"mesh3d\"}], \"parcoords\": [{\"line\": {\"colorbar\": {\"outlinewidth\": 0, \"ticks\": \"\"}}, \"type\": \"parcoords\"}], \"pie\": [{\"automargin\": true, \"type\": \"pie\"}], \"scatter\": [{\"marker\": {\"colorbar\": {\"outlinewidth\": 0, \"ticks\": \"\"}}, \"type\": \"scatter\"}], \"scatter3d\": [{\"line\": {\"colorbar\": {\"outlinewidth\": 0, \"ticks\": \"\"}}, \"marker\": {\"colorbar\": {\"outlinewidth\": 0, \"ticks\": \"\"}}, \"type\": \"scatter3d\"}], \"scattercarpet\": [{\"marker\": {\"colorbar\": {\"outlinewidth\": 0, \"ticks\": \"\"}}, \"type\": \"scattercarpet\"}], \"scattergeo\": [{\"marker\": {\"colorbar\": {\"outlinewidth\": 0, \"ticks\": \"\"}}, \"type\": \"scattergeo\"}], \"scattergl\": [{\"marker\": {\"colorbar\": {\"outlinewidth\": 0, \"ticks\": \"\"}}, \"type\": \"scattergl\"}], \"scattermapbox\": [{\"marker\": {\"colorbar\": {\"outlinewidth\": 0, \"ticks\": \"\"}}, \"type\": \"scattermapbox\"}], \"scatterpolar\": [{\"marker\": {\"colorbar\": {\"outlinewidth\": 0, \"ticks\": \"\"}}, \"type\": \"scatterpolar\"}], \"scatterpolargl\": [{\"marker\": {\"colorbar\": {\"outlinewidth\": 0, \"ticks\": \"\"}}, \"type\": \"scatterpolargl\"}], \"scatterternary\": [{\"marker\": {\"colorbar\": {\"outlinewidth\": 0, \"ticks\": \"\"}}, \"type\": \"scatterternary\"}], \"surface\": [{\"colorbar\": {\"outlinewidth\": 0, \"ticks\": \"\"}, \"colorscale\": [[0.0, \"#0d0887\"], [0.1111111111111111, \"#46039f\"], [0.2222222222222222, \"#7201a8\"], [0.3333333333333333, \"#9c179e\"], [0.4444444444444444, \"#bd3786\"], [0.5555555555555556, \"#d8576b\"], [0.6666666666666666, \"#ed7953\"], [0.7777777777777778, \"#fb9f3a\"], [0.8888888888888888, \"#fdca26\"], [1.0, \"#f0f921\"]], \"type\": \"surface\"}], \"table\": [{\"cells\": {\"fill\": {\"color\": \"#EBF0F8\"}, \"line\": {\"color\": \"white\"}}, \"header\": {\"fill\": {\"color\": \"#C8D4E3\"}, \"line\": {\"color\": \"white\"}}, \"type\": \"table\"}]}, \"layout\": {\"annotationdefaults\": {\"arrowcolor\": \"#2a3f5f\", \"arrowhead\": 0, \"arrowwidth\": 1}, \"coloraxis\": {\"colorbar\": {\"outlinewidth\": 0, \"ticks\": \"\"}}, \"colorscale\": {\"diverging\": [[0, \"#8e0152\"], [0.1, \"#c51b7d\"], [0.2, \"#de77ae\"], [0.3, \"#f1b6da\"], [0.4, \"#fde0ef\"], [0.5, \"#f7f7f7\"], [0.6, \"#e6f5d0\"], [0.7, \"#b8e186\"], [0.8, \"#7fbc41\"], [0.9, \"#4d9221\"], [1, \"#276419\"]], \"sequential\": [[0.0, \"#0d0887\"], [0.1111111111111111, \"#46039f\"], [0.2222222222222222, \"#7201a8\"], [0.3333333333333333, \"#9c179e\"], [0.4444444444444444, \"#bd3786\"], [0.5555555555555556, \"#d8576b\"], [0.6666666666666666, \"#ed7953\"], [0.7777777777777778, \"#fb9f3a\"], [0.8888888888888888, \"#fdca26\"], [1.0, \"#f0f921\"]], \"sequentialminus\": [[0.0, \"#0d0887\"], [0.1111111111111111, \"#46039f\"], [0.2222222222222222, \"#7201a8\"], [0.3333333333333333, \"#9c179e\"], [0.4444444444444444, \"#bd3786\"], [0.5555555555555556, \"#d8576b\"], [0.6666666666666666, \"#ed7953\"], [0.7777777777777778, \"#fb9f3a\"], [0.8888888888888888, \"#fdca26\"], [1.0, \"#f0f921\"]]}, \"colorway\": [\"#636efa\", \"#EF553B\", \"#00cc96\", \"#ab63fa\", \"#FFA15A\", \"#19d3f3\", \"#FF6692\", \"#B6E880\", \"#FF97FF\", \"#FECB52\"], \"font\": {\"color\": \"#2a3f5f\"}, \"geo\": {\"bgcolor\": \"white\", \"lakecolor\": \"white\", \"landcolor\": \"#E5ECF6\", \"showlakes\": true, \"showland\": true, \"subunitcolor\": \"white\"}, \"hoverlabel\": {\"align\": \"left\"}, \"hovermode\": \"closest\", \"mapbox\": {\"style\": \"light\"}, \"paper_bgcolor\": \"white\", \"plot_bgcolor\": \"#E5ECF6\", \"polar\": {\"angularaxis\": {\"gridcolor\": \"white\", \"linecolor\": \"white\", \"ticks\": \"\"}, \"bgcolor\": \"#E5ECF6\", \"radialaxis\": {\"gridcolor\": \"white\", \"linecolor\": \"white\", \"ticks\": \"\"}}, \"scene\": {\"xaxis\": {\"backgroundcolor\": \"#E5ECF6\", \"gridcolor\": \"white\", \"gridwidth\": 2, \"linecolor\": \"white\", \"showbackground\": true, \"ticks\": \"\", \"zerolinecolor\": \"white\"}, \"yaxis\": {\"backgroundcolor\": \"#E5ECF6\", \"gridcolor\": \"white\", \"gridwidth\": 2, \"linecolor\": \"white\", \"showbackground\": true, \"ticks\": \"\", \"zerolinecolor\": \"white\"}, \"zaxis\": {\"backgroundcolor\": \"#E5ECF6\", \"gridcolor\": \"white\", \"gridwidth\": 2, \"linecolor\": \"white\", \"showbackground\": true, \"ticks\": \"\", \"zerolinecolor\": \"white\"}}, \"shapedefaults\": {\"line\": {\"color\": \"#2a3f5f\"}}, \"ternary\": {\"aaxis\": {\"gridcolor\": \"white\", \"linecolor\": \"white\", \"ticks\": \"\"}, \"baxis\": {\"gridcolor\": \"white\", \"linecolor\": \"white\", \"ticks\": \"\"}, \"bgcolor\": \"#E5ECF6\", \"caxis\": {\"gridcolor\": \"white\", \"linecolor\": \"white\", \"ticks\": \"\"}}, \"title\": {\"x\": 0.05}, \"xaxis\": {\"automargin\": true, \"gridcolor\": \"white\", \"linecolor\": \"white\", \"ticks\": \"\", \"title\": {\"standoff\": 15}, \"zerolinecolor\": \"white\", \"zerolinewidth\": 2}, \"yaxis\": {\"automargin\": true, \"gridcolor\": \"white\", \"linecolor\": \"white\", \"ticks\": \"\", \"title\": {\"standoff\": 15}, \"zerolinecolor\": \"white\", \"zerolinewidth\": 2}}}, \"title\": {\"text\": \"Number of OSM buildings in Heidelberg, Mannheim and Ludwigshafen\"}},\n",
       "                        {\"responsive\": true}\n",
       "                    ).then(function(){\n",
       "                            \n",
       "var gd = document.getElementById('46618b1c-1158-44b8-a3dd-e5fbef0c9a05');\n",
       "var x = new MutationObserver(function (mutations, observer) {{\n",
       "        var display = window.getComputedStyle(gd).display;\n",
       "        if (!display || display === 'none') {{\n",
       "            console.log([gd, 'removed!']);\n",
       "            Plotly.purge(gd);\n",
       "            observer.disconnect();\n",
       "        }}\n",
       "}});\n",
       "\n",
       "// Listen for the removal of the full notebook cells\n",
       "var notebookContainer = gd.closest('#notebook-container');\n",
       "if (notebookContainer) {{\n",
       "    x.observe(notebookContainer, {childList: true});\n",
       "}}\n",
       "\n",
       "// Listen for the clearing of the current output cell\n",
       "var outputEl = gd.closest('.output');\n",
       "if (outputEl) {{\n",
       "    x.observe(outputEl, {childList: true});\n",
       "}}\n",
       "\n",
       "                        })\n",
       "                };\n",
       "                });\n",
       "            </script>\n",
       "        </div>"
      ]
     },
     "metadata": {},
     "output_type": "display_data"
    }
   ],
   "source": [
    "bboxes = '|'.join(\"{}:{}\".format(k,v) for (k,v) in BBOX.items())\n",
    "\n",
    "params = {'bboxes': bboxes,\n",
    "          'filter': 'building=*',\n",
    "          'time': TIME_YEARLY\n",
    "         }\n",
    "\n",
    "# sending get request to ohsome API \n",
    "res = requests.get(OHSOME_API+\"/elements/count/groupBy/boundary\", params)\n",
    "\n",
    "display(HTML('<h4>ohsome API request</h4>'))\n",
    "display(res.url)\n",
    "\n",
    "# extracting data in json format and storing it in a dataframe\n",
    "df = pd.DataFrame(res.json()['groupByResult'])\n",
    "\n",
    "display(HTML('<h4>API response</h4>'))\n",
    "display(df.head(10))\n",
    "\n",
    "display(HTML('<h4>API response: result for hd</h4>'))\n",
    "display(pd.DataFrame(df.result[0]).head(10))\n",
    "\n",
    "# plotting the result\n",
    "result1 = pd.DataFrame(df.result[0])\n",
    "trace1 = go.Bar(\n",
    "    x = result1.timestamp,\n",
    "    y = result1.value,\n",
    "    name = df.groupByObject[0]\n",
    ")\n",
    "\n",
    "result2 = pd.DataFrame(df.result[1])\n",
    "trace2 = go.Bar(\n",
    "    x = result2.timestamp,\n",
    "    y = result2.value,\n",
    "    name = df.groupByObject[1]\n",
    ")\n",
    "\n",
    "result3 = pd.DataFrame(df.result[2])\n",
    "trace3 = go.Bar(\n",
    "    x = result3.timestamp,\n",
    "    y = result3.value,\n",
    "    name = df.groupByObject[2]\n",
    ")\n",
    "\n",
    "data = [trace1, trace2, trace3]\n",
    "layout = go.Layout(\n",
    "    title = 'Number of OSM buildings in Heidelberg, Mannheim and Ludwigshafen',\n",
    "    barmode = 'group',\n",
    "    legend = dict(\n",
    "        orientation = \"h\")\n",
    ")\n",
    "\n",
    "fig = go.Figure(data = data, layout = layout)\n",
    "plotly.offline.iplot(fig, filename = 'groupBy')"
   ]
  },
  {
   "cell_type": "markdown",
   "metadata": {},
   "source": [
    "More examples will follow. Stay tuned!"
   ]
  }
 ],
 "metadata": {
  "kernelspec": {
   "display_name": "Python 3",
   "language": "python",
   "name": "python3"
  },
  "language_info": {
   "codemirror_mode": {
    "name": "ipython",
    "version": 3
   },
   "file_extension": ".py",
   "mimetype": "text/x-python",
   "name": "python",
   "nbconvert_exporter": "python",
   "pygments_lexer": "ipython3",
   "version": "3.7.6"
  }
 },
 "nbformat": 4,
 "nbformat_minor": 2
}

