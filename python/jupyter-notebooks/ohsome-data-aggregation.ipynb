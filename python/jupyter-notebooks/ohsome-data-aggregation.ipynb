{
 "cells": [
  {
   "cell_type": "markdown",
   "metadata": {},
   "source": [
    "# ohsome API: Data Aggregation Endpoint\n",
    "\n",
    "Via the ohsome API you have access to the OSM history on a global scale :). Our [documentation](https://docs.ohsome.org/ohsome-api/stable) provides you with the needed information to fire some requests against the API. More infomation about ohsome can be found [here](https://heigit.org/big-spatial-data-analytics-en/ohsome/).\n",
    "\n",
    "In the following we show you some examples how to grab aggregated statistics on the evolution of OSM using Python. \n",
    "\n",
    "### Import Python packages"
   ]
  },
  {
   "cell_type": "code",
   "execution_count": 21,
   "metadata": {},
   "outputs": [
    {
     "data": {
      "text/html": [
       "        <script type=\"text/javascript\">\n",
       "        window.PlotlyConfig = {MathJaxConfig: 'local'};\n",
       "        if (window.MathJax) {MathJax.Hub.Config({SVG: {font: \"STIX-Web\"}});}\n",
       "        if (typeof require !== 'undefined') {\n",
       "        require.undef(\"plotly\");\n",
       "        requirejs.config({\n",
       "            paths: {\n",
       "                'plotly': ['https://cdn.plot.ly/plotly-latest.min']\n",
       "            }\n",
       "        });\n",
       "        require(['plotly'], function(Plotly) {\n",
       "            window._Plotly = Plotly;\n",
       "        });\n",
       "        }\n",
       "        </script>\n",
       "        "
      ]
     },
     "metadata": {},
     "output_type": "display_data"
    }
   ],
   "source": [
    "# pandas for working with table structured data\n",
    "import pandas as pd\n",
    "\n",
    "# json for handling with json responses\n",
    "import json\n",
    "\n",
    "# requests for http get/post requests\n",
    "import requests\n",
    "import plotly\n",
    "import IPython\n",
    "\n",
    "# plotly for generating interactive graphs\n",
    "import chart_studio.plotly as py\n",
    "import plotly.graph_objs as go\n",
    "\n",
    "from IPython.display import *\n",
    "\n",
    "plotly.offline.init_notebook_mode(connected=True)"
   ]
  },
  {
   "cell_type": "markdown",
   "metadata": {},
   "source": [
    "### Define global constants\n",
    "\n",
    "Let's get started and have a more detailed look at three areas in Germany: Heidelberg _(hd)_, Mannheim _(ma)_ and Ludwigshafen _(lu)_. "
   ]
  },
  {
   "cell_type": "code",
   "execution_count": 22,
   "metadata": {},
   "outputs": [],
   "source": [
    "OHSOME_API = \"https://api.ohsome.org/v1\"\n",
    "\n",
    "# Define areas of interest\n",
    "BBOX = { \n",
    "    \"hd\" : \"8.6581,49.3836,8.7225,49.4363\",\n",
    "    \"ma\" : \"8.4514,49.4589,8.5158,49.5114\",\n",
    "    \"lu\" : \"8.3936,49.4448,8.4579,49.4974\"}\n",
    "\n",
    "# Define time intervals: https://en.wikipedia.org/wiki/ISO_8601\n",
    "TIME_MONTHLY = \"2007-11-01/2018-11-01/P1M\"\n",
    "TIME_YEARLY = \"2007-11-01/2018-11-01/P1Y\""
   ]
  },
  {
   "cell_type": "markdown",
   "metadata": {},
   "source": [
    "### Declaring some helper functions¶"
   ]
  },
  {
   "cell_type": "code",
   "execution_count": null,
   "metadata": {},
   "outputs": [],
   "source": [
    "def elements(agg,**params):\n",
    "    res = requests.get(OHSOME_API+\"/elements\"+agg,params)\n",
    "    return res"
   ]
  },
  {
   "cell_type": "markdown",
   "metadata": {},
   "source": [
    "First we request some metadata."
   ]
  },
  {
   "cell_type": "code",
   "execution_count": 23,
   "metadata": {},
   "outputs": [
    {
     "data": {
      "text/plain": [
       "{'attribution': {'url': 'https://ohsome.org/copyrights',\n",
       "  'text': '© OpenStreetMap contributors'},\n",
       " 'apiVersion': '1.0.0',\n",
       " 'extractRegion': {'spatialExtent': {'type': 'Polygon',\n",
       "   'coordinates': [[[-180.0, -90.0],\n",
       "     [180.0, -90.0],\n",
       "     [180.0, 90.0],\n",
       "     [-180.0, 90.0],\n",
       "     [-180.0, -90.0]]]},\n",
       "  'temporalExtent': {'fromTimestamp': '2007-10-08T00:00:01Z',\n",
       "   'toTimestamp': '2020-06-29T03:00:00Z'},\n",
       "  'replicationSequenceNumber': 68324}}"
      ]
     },
     "metadata": {},
     "output_type": "display_data"
    }
   ],
   "source": [
    "metadata = requests.get(OHSOME_API+\"/metadata\").json()\n",
    "\n",
    "display(metadata)"
   ]
  },
  {
   "cell_type": "markdown",
   "metadata": {},
   "source": [
    "Lossless information on the historical evolution of OSM is available from 8th of October 2007 to 19th of February 2019. This means that all properties of the original OSM data are maintained.\n",
    "\n",
    "## Aggregation endpoint\n",
    "The aggregation endpoint allows you to retrieve aggregated statistics for the OSM history data. You can filter by any OSM tag _(keys, values)_, define your area of interest _(bboxes)_ and choose any time interval _(time)_.\n",
    "\n",
    "### Count buildings in Heidelberg over time"
   ]
  },
  {
   "cell_type": "code",
   "execution_count": 30,
   "metadata": {},
   "outputs": [
    {
     "data": {
      "text/plain": [
       "'https://api.ohsome.org/v1/elements/count?filter=building%3D%2A&bboxes=8.6581%2C49.3836%2C8.7225%2C49.4363&time=2007-11-01%2F2018-11-01%2FP1M'"
      ]
     },
     "metadata": {},
     "output_type": "display_data"
    },
    {
     "data": {
      "image/png": "[encoded data removed]",
      "text/plain": [
       "<Figure size 432x288 with 1 Axes>"
      ]
     },
     "metadata": {
      "needs_background": "light"
     },
     "output_type": "display_data"
    }
   ],
   "source": [
    "\n",
    "def count():\n",
    "    filter='building=*'\n",
    "    res = elements(\"/count\"\n",
    "         ,filter=filter\n",
    "         ,bboxes=BBOX['hd']\n",
    "         ,time=TIME_MONTHLY)# sending get request to ohsome API \n",
    "    display(res.url)\n",
    "    body = res.json()\n",
    "    df = pd.DataFrame(body['result'])# extracting data in json format and storing it in a dataframe, \n",
    "    df.timestamp = pd.to_datetime(df.timestamp)\n",
    "    df.rename(columns={'value':filter },inplace=True)\n",
    "    df.set_index('timestamp', inplace=True)\n",
    "    df.plot()# plotting the result\n",
    "count()"
   ]
  },
  {
   "cell_type": "markdown",
   "metadata": {},
   "source": [
    "### Ratio between two OSM tag groups over time\n",
    "The ohsome API also allows you two generate ratios between two different OSM tag groups. In this example we answer the question: What is the percentage of OSM buildings that include house numbers (are tagged with the OSM key _addr:housenumber_)? "
   ]
  },
  {
   "cell_type": "code",
   "execution_count": 34,
   "metadata": {},
   "outputs": [
    {
     "data": {
      "text/plain": [
       "'https://api.ohsome.org/v1/elements/count/ratio?filter=building%3D%2A&filter2=building%3D%2A+and+addr%3Ahousenumber%3D%2A&bboxes=8.6581%2C49.3836%2C8.7225%2C49.4363&time=2007-11-01%2F2018-11-01%2FP1M'"
      ]
     },
     "metadata": {},
     "output_type": "display_data"
    },
    {
     "data": {
      "image/png": "[encoded data removed]",
      "text/plain": [
       "<Figure size 432x288 with 2 Axes>"
      ]
     },
     "metadata": {
      "needs_background": "light"
     },
     "output_type": "display_data"
    }
   ],
   "source": [
    "def ratio():\n",
    "    filter = \"building=*\"\n",
    "    filter2 = \"building=* and addr:housenumber=*\"\n",
    "    res = elements(\"/count/ratio\"\n",
    "            ,filter=filter\n",
    "            ,filter2=filter2\n",
    "            ,bboxes=BBOX['hd']\n",
    "            ,time=TIME_MONTHLY)# sending get request to ohsome API \n",
    "    display(res.url)\n",
    "    body = res.json()\n",
    "    # extracting data in json format and storing it in a dataframe\n",
    "    df = pd.DataFrame(body['ratioResult'])  \n",
    "    df.timestamp = pd.to_datetime(df.timestamp)\n",
    "    df.set_index('timestamp', inplace=True)\n",
    "    df.rename(columns={'value':filter,'value2':filter2}, inplace=True)\n",
    "    df = df.astype(float)\n",
    "    # plotting the result\n",
    "    df[filter].plot(legend=True)\n",
    "    df[filter2].plot(legend=True)\n",
    "    df.ratio.plot(style='k--',secondary_y=True,legend=True)\n",
    "ratio()"
   ]
  },
  {
   "cell_type": "markdown",
   "metadata": {},
   "source": [
    "### Count over time grouped by bounding box\n",
    "We are not only interested in the Heidelberg area but also in Mannheim and Ludwigshafen. Using the _groupBy/boundary_ resource allows you to get the OSM evolution for all areas with one single request."
   ]
  },
  {
   "cell_type": "code",
   "execution_count": 36,
   "metadata": {},
   "outputs": [
    {
     "data": {
      "text/plain": [
       "'https://api.ohsome.org/v1/elements/count/groupBy/boundary?filter=building%3D%2A&bboxes=hd%3A8.6581%2C49.3836%2C8.7225%2C49.4363%7Cma%3A8.4514%2C49.4589%2C8.5158%2C49.5114%7Clu%3A8.3936%2C49.4448%2C8.4579%2C49.4974&time=2007-11-01%2F2018-11-01%2FP1Y'"
      ]
     },
     "metadata": {},
     "output_type": "display_data"
    },
    {
     "data": {
      "image/png": "[encoded data removed]",
      "text/plain": [
       "<Figure size 432x288 with 1 Axes>"
      ]
     },
     "metadata": {
      "needs_background": "light"
     },
     "output_type": "display_data"
    }
   ],
   "source": [
    "def groupBy():\n",
    "    filter=\"building=*\"\n",
    "    bboxes = '|'.join(\"{}:{}\".format(k,v) for (k,v) in BBOX.items())\n",
    "    res = elements(\"/count/groupBy/boundary\"\n",
    "            ,filter=filter\n",
    "            ,bboxes=bboxes\n",
    "            ,time=TIME_YEARLY)# sending get request to ohsome API \n",
    "    display(res.url)\n",
    "    body = res.json();\n",
    "    # extracting data in json format and storing it in a dataframe\n",
    "    df = pd.DataFrame()\n",
    "    for groupBy in body['groupByResult']:\n",
    "        series = pd.Series({row['timestamp']:row['value'] for row in groupBy['result']})\n",
    "        df[groupBy['groupByObject']] = series\n",
    "    df.set_index(pd.to_datetime(df.index),inplace=True)    \n",
    "    # plotting the result\n",
    "    df.resample('y').agg({'hd':'sum', 'ma':'sum','lu':'sum'}).plot.bar()\n",
    "groupBy()"
   ]
  },
  {
   "cell_type": "markdown",
   "metadata": {},
   "source": [
    "More examples will follow. Stay tuned!"
   ]
  }
 ],
 "metadata": {
  "kernelspec": {
   "display_name": "Python 3",
   "language": "python",
   "name": "python3"
  },
  "language_info": {
   "codemirror_mode": {
    "name": "ipython",
    "version": 3
   },
   "file_extension": ".py",
   "mimetype": "text/x-python",
   "name": "python",
   "nbconvert_exporter": "python",
   "pygments_lexer": "ipython3",
   "version": "3.7.6"
  },
  "widgets": {
   "application/vnd.jupyter.widget-state+json": {
    "state": {},
    "version_major": 2,
    "version_minor": 0
   }
  }
 },
 "nbformat": 4,
 "nbformat_minor": 2
}


