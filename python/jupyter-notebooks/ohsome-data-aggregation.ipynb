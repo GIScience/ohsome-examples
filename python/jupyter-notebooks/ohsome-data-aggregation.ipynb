{
 "cells": [
  {
   "cell_type": "markdown",
   "metadata": {},
   "source": [
    "# ohsome API: Data Aggregation Endpoint\n",
    "\n",
    "Via the ohsome API you have access to the OSM history on a global scale :). Our [Swagger documentation](http://api.ohsome.org/v0.9/swagger-ui.html) provides you with the needed information to fire some requests against the API. More infomation about ohsome can be found [here](https://heigit.org/big-spatial-data-analytics-en/ohsome/).\n",
    "\n",
    "In the following we show you some examples how to grab aggregated statistics on the evolution of OSM using Python. \n",
    "\n",
    "### Import Python packages"
   ]
  },
  {
   "cell_type": "code",
   "execution_count": 6,
   "metadata": {},
   "outputs": [],
   "source": [
    "# pandas for working with table structured data\n",
    "import pandas as pd\n",
    "\n",
    "# json for handling with json responses\n",
    "import json\n",
    "\n",
    "# requests for http get/post requests\n",
    "import requests\n",
    "\n",
    "# plotly for generating interactive graphs\n",
    "import plotly.plotly as py\n",
    "import plotly.graph_objs as go\n",
    "\n",
    "from IPython.display import *"
   ]
  },
  {
   "cell_type": "markdown",
   "metadata": {},
   "source": [
    "### Define global constants\n",
    "\n",
    "Let's get started and have a more detailed look at three areas in Germany: Heidelberg _(hd)_, Mannheim _(ma)_ and Ludwigshafen _(lu)_. "
   ]
  },
  {
   "cell_type": "code",
   "execution_count": 7,
   "metadata": {},
   "outputs": [],
   "source": [
    "OHSOME_API = \"https://api.ohsome.org/v0.9\"\n",
    "\n",
    "# Define areas of interest\n",
    "BBOX = { \n",
    "    \"hd\" : \"8.6581,49.3836,8.7225,49.4363\",\n",
    "    \"ma\" : \"8.4514,49.4589,8.5158,49.5114\",\n",
    "    \"lu\" : \"8.3936,49.4448,8.4579,49.4974\"}\n",
    "\n",
    "# Define time intervals: https://en.wikipedia.org/wiki/ISO_8601\n",
    "TIME_MONTHLY = \"2007-11-01/2018-11-01/P1M\"\n",
    "TIME_YEARLY = \"2007-11-01/2018-11-01/P1Y\""
   ]
  },
  {
   "cell_type": "markdown",
   "metadata": {},
   "source": [
    "First we request some metadata."
   ]
  },
  {
   "cell_type": "code",
   "execution_count": 8,
   "metadata": {},
   "outputs": [
    {
     "data": {
      "text/plain": [
       "{'apiVersion': '0.9',\n",
       " 'attribution': {'text': '© OpenStreetMap contributors',\n",
       "  'url': 'https://ohsome.org/copyrights'},\n",
       " 'extractRegion': {'spatialExtent': {'coordinates': [[[-180.0, -90.0],\n",
       "     [180.0, -90.0],\n",
       "     [180.0, 90.0],\n",
       "     [-180.0, 90.0],\n",
       "     [-180.0, -90.0]]],\n",
       "   'type': 'Polygon'},\n",
       "  'temporalExtent': {'fromTimestamp': '2007-10-08',\n",
       "   'toTimestamp': '2019-02-19T23:00:00'}}}"
      ]
     },
     "metadata": {},
     "output_type": "display_data"
    }
   ],
   "source": [
    "metadata = requests.get(OHSOME_API+\"/metadata\").json()\n",
    "\n",
    "display(metadata)"
   ]
  },
  {
   "cell_type": "markdown",
   "metadata": {},
   "source": [
    "Lossless information on the historical evolution of OSM is available from 8th of October 2007 to 19th of February 2019. This means that all properties of the original OSM data are maintained.\n",
    "\n",
    "## Aggregation endpoint\n",
    "The aggregation endpoint allows you to retrieve aggregated statistics for the OSM history data. You can filter by any OSM tag _(keys, values)_, define your area of interest _(bboxes)_ and choose any time interval _(time)_.\n",
    "\n",
    "### Count buildings in Heidelberg over time"
   ]
  },
  {
   "cell_type": "code",
   "execution_count": 5,
   "metadata": {},
   "outputs": [
    {
     "data": {
      "text/html": [
       "<h4>ohsome API request</h4>"
      ],
      "text/plain": [
       "<IPython.core.display.HTML object>"
      ]
     },
     "metadata": {},
     "output_type": "display_data"
    },
    {
     "data": {
      "text/plain": [
       "'https://api.ohsome.org/v0.9/elements/count?bboxes=8.6581%2C49.3836%2C8.7225%2C49.4363&keys=building&time=2007-11-01%2F2018-11-01%2FP1M'"
      ]
     },
     "metadata": {},
     "output_type": "display_data"
    },
    {
     "data": {
      "text/html": [
       "<h4>API response</h4>"
      ],
      "text/plain": [
       "<IPython.core.display.HTML object>"
      ]
     },
     "metadata": {},
     "output_type": "display_data"
    },
    {
     "data": {
      "text/html": [
       "<div>\n",
       "<style scoped>\n",
       "    .dataframe tbody tr th:only-of-type {\n",
       "        vertical-align: middle;\n",
       "    }\n",
       "\n",
       "    .dataframe tbody tr th {\n",
       "        vertical-align: top;\n",
       "    }\n",
       "\n",
       "    .dataframe thead th {\n",
       "        text-align: right;\n",
       "    }\n",
       "</style>\n",
       "<table border=\"1\" class=\"dataframe\">\n",
       "  <thead>\n",
       "    <tr style=\"text-align: right;\">\n",
       "      <th></th>\n",
       "      <th>timestamp</th>\n",
       "      <th>value</th>\n",
       "    </tr>\n",
       "  </thead>\n",
       "  <tbody>\n",
       "    <tr>\n",
       "      <th>0</th>\n",
       "      <td>2007-11-01T00:00:00Z</td>\n",
       "      <td>0.0</td>\n",
       "    </tr>\n",
       "    <tr>\n",
       "      <th>1</th>\n",
       "      <td>2007-12-01T00:00:00Z</td>\n",
       "      <td>2.0</td>\n",
       "    </tr>\n",
       "    <tr>\n",
       "      <th>2</th>\n",
       "      <td>2008-01-01T00:00:00Z</td>\n",
       "      <td>2.0</td>\n",
       "    </tr>\n",
       "    <tr>\n",
       "      <th>3</th>\n",
       "      <td>2008-02-01T00:00:00Z</td>\n",
       "      <td>2.0</td>\n",
       "    </tr>\n",
       "    <tr>\n",
       "      <th>4</th>\n",
       "      <td>2008-03-01T00:00:00Z</td>\n",
       "      <td>2.0</td>\n",
       "    </tr>\n",
       "  </tbody>\n",
       "</table>\n",
       "</div>"
      ],
      "text/plain": [
       "              timestamp  value\n",
       "0  2007-11-01T00:00:00Z    0.0\n",
       "1  2007-12-01T00:00:00Z    2.0\n",
       "2  2008-01-01T00:00:00Z    2.0\n",
       "3  2008-02-01T00:00:00Z    2.0\n",
       "4  2008-03-01T00:00:00Z    2.0"
      ]
     },
     "metadata": {},
     "output_type": "display_data"
    },
    {
     "data": {
      "text/html": [
       "<iframe id=\"igraph\" scrolling=\"no\" style=\"border:none;\" seamless=\"seamless\" src=\"https://plot.ly/~ploplo/79.embed\" height=\"525px\" width=\"100%\"></iframe>"
      ],
      "text/plain": [
       "<plotly.tools.PlotlyDisplay object>"
      ]
     },
     "execution_count": 5,
     "metadata": {},
     "output_type": "execute_result"
    }
   ],
   "source": [
    "params = {'bboxes': BBOX['hd'],\n",
    "          'keys': 'building',\n",
    "          'time': TIME_MONTHLY\n",
    "         }\n",
    "\n",
    "# sending get request to ohsome API \n",
    "res = requests.get(OHSOME_API+\"/elements/count\", params)\n",
    "\n",
    "display(HTML('<h4>ohsome API request</h4>'))\n",
    "display(res.url)\n",
    "\n",
    "# extracting data in json format and storing it in a dataframe\n",
    "display(HTML('<h4>API response</h4>'))\n",
    "df = pd.DataFrame(res.json()['result'])\n",
    "display(df.head())\n",
    "\n",
    "# plotting the result\n",
    "data = [go.Scatter(x=df.timestamp, y=df.value)]\n",
    "fig = dict(data=data, layout=go.Layout(title=\"Count of OSM buildings within Heidelberg\"))\n",
    "py.iplot(fig, filename='count')"
   ]
  },
  {
   "cell_type": "markdown",
   "metadata": {},
   "source": [
    "### Ratio between two OSM tag groups over time\n",
    "The ohsome API also allows you two generate ratios between two different OSM tag groups. In this example we answer the question: What is the percentage of OSM building that include house numbers (are tagged with the OSM key _addr:housenumber_)? "
   ]
  },
  {
   "cell_type": "code",
   "execution_count": 10,
   "metadata": {},
   "outputs": [
    {
     "data": {
      "text/html": [
       "<h4>ohsome API request</h4> </span>"
      ],
      "text/plain": [
       "<IPython.core.display.HTML object>"
      ]
     },
     "metadata": {},
     "output_type": "display_data"
    },
    {
     "data": {
      "text/plain": [
       "'https://api.ohsome.org/v0.9/elements/count/ratio?bboxes=8.6581%2C49.3836%2C8.7225%2C49.4363&keys=building&keys2=building%2Caddr%3Ahousenumber&time=2007-11-01%2F2018-11-01%2FP1M'"
      ]
     },
     "metadata": {},
     "output_type": "display_data"
    },
    {
     "data": {
      "text/html": [
       "<h4>API response</h4>"
      ],
      "text/plain": [
       "<IPython.core.display.HTML object>"
      ]
     },
     "metadata": {},
     "output_type": "display_data"
    },
    {
     "data": {
      "text/html": [
       "<div>\n",
       "<style scoped>\n",
       "    .dataframe tbody tr th:only-of-type {\n",
       "        vertical-align: middle;\n",
       "    }\n",
       "\n",
       "    .dataframe tbody tr th {\n",
       "        vertical-align: top;\n",
       "    }\n",
       "\n",
       "    .dataframe thead th {\n",
       "        text-align: right;\n",
       "    }\n",
       "</style>\n",
       "<table border=\"1\" class=\"dataframe\">\n",
       "  <thead>\n",
       "    <tr style=\"text-align: right;\">\n",
       "      <th></th>\n",
       "      <th>ratio</th>\n",
       "      <th>timestamp</th>\n",
       "      <th>value</th>\n",
       "      <th>value2</th>\n",
       "    </tr>\n",
       "  </thead>\n",
       "  <tbody>\n",
       "    <tr>\n",
       "      <th>0</th>\n",
       "      <td>NaN</td>\n",
       "      <td>2007-11-01T00:00:00Z</td>\n",
       "      <td>0.0</td>\n",
       "      <td>0.0</td>\n",
       "    </tr>\n",
       "    <tr>\n",
       "      <th>1</th>\n",
       "      <td>0</td>\n",
       "      <td>2007-12-01T00:00:00Z</td>\n",
       "      <td>2.0</td>\n",
       "      <td>0.0</td>\n",
       "    </tr>\n",
       "    <tr>\n",
       "      <th>2</th>\n",
       "      <td>0</td>\n",
       "      <td>2008-01-01T00:00:00Z</td>\n",
       "      <td>2.0</td>\n",
       "      <td>0.0</td>\n",
       "    </tr>\n",
       "    <tr>\n",
       "      <th>3</th>\n",
       "      <td>0</td>\n",
       "      <td>2008-02-01T00:00:00Z</td>\n",
       "      <td>2.0</td>\n",
       "      <td>0.0</td>\n",
       "    </tr>\n",
       "    <tr>\n",
       "      <th>4</th>\n",
       "      <td>0</td>\n",
       "      <td>2008-03-01T00:00:00Z</td>\n",
       "      <td>2.0</td>\n",
       "      <td>0.0</td>\n",
       "    </tr>\n",
       "  </tbody>\n",
       "</table>\n",
       "</div>"
      ],
      "text/plain": [
       "  ratio             timestamp  value  value2\n",
       "0   NaN  2007-11-01T00:00:00Z    0.0     0.0\n",
       "1     0  2007-12-01T00:00:00Z    2.0     0.0\n",
       "2     0  2008-01-01T00:00:00Z    2.0     0.0\n",
       "3     0  2008-02-01T00:00:00Z    2.0     0.0\n",
       "4     0  2008-03-01T00:00:00Z    2.0     0.0"
      ]
     },
     "metadata": {},
     "output_type": "display_data"
    },
    {
     "data": {
      "text/html": [
       "<iframe id=\"igraph\" scrolling=\"no\" style=\"border:none;\" seamless=\"seamless\" src=\"https://plot.ly/~ploplo/71.embed\" height=\"525px\" width=\"100%\"></iframe>"
      ],
      "text/plain": [
       "<plotly.tools.PlotlyDisplay object>"
      ]
     },
     "execution_count": 10,
     "metadata": {},
     "output_type": "execute_result"
    }
   ],
   "source": [
    "params = {'bboxes': BBOX['hd'],\n",
    "          'keys': 'building',\n",
    "          'keys2': 'building,addr:housenumber',\n",
    "          'time': TIME_MONTHLY\n",
    "         }\n",
    "\n",
    "# sending get request to ohsome API \n",
    "res = requests.get(OHSOME_API+\"/elements/count/ratio\", params)\n",
    "\n",
    "display(HTML('<h4>ohsome API request</h4> </span>'))\n",
    "display(res.url)\n",
    "\n",
    "# extracting data in json format and storing it in a dataframe\n",
    "display(HTML('<h4>API response</h4>'))\n",
    "df = pd.DataFrame(res.json()['ratioResult'])\n",
    "display(df.head())\n",
    "\n",
    "# plotting the result\n",
    "hwy = go.Scatter(\n",
    "    x = df.timestamp,\n",
    "    y = df.value,\n",
    "    name = \"building\"\n",
    ")\n",
    "\n",
    "hwy_maxspeed = go.Scatter(\n",
    "    x = df.timestamp,\n",
    "    y = df.value2,\n",
    "    name = \"building,addr:housenumber\"\n",
    ")\n",
    "\n",
    "ratio = go.Scatter(\n",
    "    x = df.timestamp,\n",
    "    y = df.ratio,\n",
    "    yaxis='y2',\n",
    "    name = \"ratio\",\n",
    "    line = dict(\n",
    "        color = 'green',\n",
    "        width = 2,\n",
    "        dash = 'dash')\n",
    ")\n",
    "\n",
    "data = [hwy, hwy_maxspeed, ratio]\n",
    "\n",
    "layout = go.Layout(\n",
    "    title='Propotion of OSM buildings with house numbers in Heidelberg',\n",
    "    yaxis2 = dict(\n",
    "        side = 'right',\n",
    "        overlaying = 'y',\n",
    "        showgrid = False\n",
    "    ),\n",
    "    legend = dict(\n",
    "        orientation = \"h\")      \n",
    ")\n",
    "\n",
    "fig = go.Figure(data, layout)\n",
    "py.iplot(fig, filename='ratio')"
   ]
  },
  {
   "cell_type": "markdown",
   "metadata": {},
   "source": [
    "### Count over time grouped by bounding box\n",
    "We are not only interested in the Heidelberg area but also in Mannheim and Ludwigshafen. Using the _groupBy/boundary_ resource allows you to get the OSM evolution for all areas with one single request."
   ]
  },
  {
   "cell_type": "code",
   "execution_count": 11,
   "metadata": {},
   "outputs": [
    {
     "data": {
      "text/html": [
       "<h4>ohsome API request</h4>"
      ],
      "text/plain": [
       "<IPython.core.display.HTML object>"
      ]
     },
     "metadata": {},
     "output_type": "display_data"
    },
    {
     "data": {
      "text/plain": [
       "'https://api.ohsome.org/v0.9/elements/count/groupBy/boundary?bboxes=hd%3A8.6581%2C49.3836%2C8.7225%2C49.4363%7Cma%3A8.4514%2C49.4589%2C8.5158%2C49.5114%7Clu%3A8.3936%2C49.4448%2C8.4579%2C49.4974&keys=building&time=2007-11-01%2F2018-11-01%2FP1Y'"
      ]
     },
     "metadata": {},
     "output_type": "display_data"
    },
    {
     "data": {
      "text/html": [
       "<h4>API response</h4>"
      ],
      "text/plain": [
       "<IPython.core.display.HTML object>"
      ]
     },
     "metadata": {},
     "output_type": "display_data"
    },
    {
     "data": {
      "text/html": [
       "<div>\n",
       "<style scoped>\n",
       "    .dataframe tbody tr th:only-of-type {\n",
       "        vertical-align: middle;\n",
       "    }\n",
       "\n",
       "    .dataframe tbody tr th {\n",
       "        vertical-align: top;\n",
       "    }\n",
       "\n",
       "    .dataframe thead th {\n",
       "        text-align: right;\n",
       "    }\n",
       "</style>\n",
       "<table border=\"1\" class=\"dataframe\">\n",
       "  <thead>\n",
       "    <tr style=\"text-align: right;\">\n",
       "      <th></th>\n",
       "      <th>groupByObject</th>\n",
       "      <th>result</th>\n",
       "    </tr>\n",
       "  </thead>\n",
       "  <tbody>\n",
       "    <tr>\n",
       "      <th>0</th>\n",
       "      <td>hd</td>\n",
       "      <td>[{'timestamp': '2007-11-01T00:00:00Z', 'value'...</td>\n",
       "    </tr>\n",
       "    <tr>\n",
       "      <th>1</th>\n",
       "      <td>ma</td>\n",
       "      <td>[{'timestamp': '2007-11-01T00:00:00Z', 'value'...</td>\n",
       "    </tr>\n",
       "    <tr>\n",
       "      <th>2</th>\n",
       "      <td>lu</td>\n",
       "      <td>[{'timestamp': '2007-11-01T00:00:00Z', 'value'...</td>\n",
       "    </tr>\n",
       "  </tbody>\n",
       "</table>\n",
       "</div>"
      ],
      "text/plain": [
       "  groupByObject                                             result\n",
       "0            hd  [{'timestamp': '2007-11-01T00:00:00Z', 'value'...\n",
       "1            ma  [{'timestamp': '2007-11-01T00:00:00Z', 'value'...\n",
       "2            lu  [{'timestamp': '2007-11-01T00:00:00Z', 'value'..."
      ]
     },
     "metadata": {},
     "output_type": "display_data"
    },
    {
     "data": {
      "text/html": [
       "<h4>API response: result for hd</h4>"
      ],
      "text/plain": [
       "<IPython.core.display.HTML object>"
      ]
     },
     "metadata": {},
     "output_type": "display_data"
    },
    {
     "data": {
      "text/html": [
       "<div>\n",
       "<style scoped>\n",
       "    .dataframe tbody tr th:only-of-type {\n",
       "        vertical-align: middle;\n",
       "    }\n",
       "\n",
       "    .dataframe tbody tr th {\n",
       "        vertical-align: top;\n",
       "    }\n",
       "\n",
       "    .dataframe thead th {\n",
       "        text-align: right;\n",
       "    }\n",
       "</style>\n",
       "<table border=\"1\" class=\"dataframe\">\n",
       "  <thead>\n",
       "    <tr style=\"text-align: right;\">\n",
       "      <th></th>\n",
       "      <th>timestamp</th>\n",
       "      <th>value</th>\n",
       "    </tr>\n",
       "  </thead>\n",
       "  <tbody>\n",
       "    <tr>\n",
       "      <th>0</th>\n",
       "      <td>2007-11-01T00:00:00Z</td>\n",
       "      <td>0.0</td>\n",
       "    </tr>\n",
       "    <tr>\n",
       "      <th>1</th>\n",
       "      <td>2008-11-01T00:00:00Z</td>\n",
       "      <td>248.0</td>\n",
       "    </tr>\n",
       "    <tr>\n",
       "      <th>2</th>\n",
       "      <td>2009-11-01T00:00:00Z</td>\n",
       "      <td>414.0</td>\n",
       "    </tr>\n",
       "    <tr>\n",
       "      <th>3</th>\n",
       "      <td>2010-11-01T00:00:00Z</td>\n",
       "      <td>493.0</td>\n",
       "    </tr>\n",
       "    <tr>\n",
       "      <th>4</th>\n",
       "      <td>2011-11-01T00:00:00Z</td>\n",
       "      <td>4977.0</td>\n",
       "    </tr>\n",
       "    <tr>\n",
       "      <th>5</th>\n",
       "      <td>2012-11-01T00:00:00Z</td>\n",
       "      <td>5801.0</td>\n",
       "    </tr>\n",
       "    <tr>\n",
       "      <th>6</th>\n",
       "      <td>2013-11-01T00:00:00Z</td>\n",
       "      <td>7537.0</td>\n",
       "    </tr>\n",
       "    <tr>\n",
       "      <th>7</th>\n",
       "      <td>2014-11-01T00:00:00Z</td>\n",
       "      <td>10192.0</td>\n",
       "    </tr>\n",
       "    <tr>\n",
       "      <th>8</th>\n",
       "      <td>2015-11-01T00:00:00Z</td>\n",
       "      <td>10499.0</td>\n",
       "    </tr>\n",
       "    <tr>\n",
       "      <th>9</th>\n",
       "      <td>2016-11-01T00:00:00Z</td>\n",
       "      <td>11333.0</td>\n",
       "    </tr>\n",
       "  </tbody>\n",
       "</table>\n",
       "</div>"
      ],
      "text/plain": [
       "              timestamp    value\n",
       "0  2007-11-01T00:00:00Z      0.0\n",
       "1  2008-11-01T00:00:00Z    248.0\n",
       "2  2009-11-01T00:00:00Z    414.0\n",
       "3  2010-11-01T00:00:00Z    493.0\n",
       "4  2011-11-01T00:00:00Z   4977.0\n",
       "5  2012-11-01T00:00:00Z   5801.0\n",
       "6  2013-11-01T00:00:00Z   7537.0\n",
       "7  2014-11-01T00:00:00Z  10192.0\n",
       "8  2015-11-01T00:00:00Z  10499.0\n",
       "9  2016-11-01T00:00:00Z  11333.0"
      ]
     },
     "metadata": {},
     "output_type": "display_data"
    },
    {
     "data": {
      "text/html": [
       "<iframe id=\"igraph\" scrolling=\"no\" style=\"border:none;\" seamless=\"seamless\" src=\"https://plot.ly/~ploplo/81.embed\" height=\"525px\" width=\"100%\"></iframe>"
      ],
      "text/plain": [
       "<plotly.tools.PlotlyDisplay object>"
      ]
     },
     "execution_count": 11,
     "metadata": {},
     "output_type": "execute_result"
    }
   ],
   "source": [
    "bboxes = '|'.join(\"{}:{}\".format(k,v) for (k,v) in BBOX.items())\n",
    "\n",
    "params = {'bboxes': bboxes,\n",
    "          'keys': 'building',\n",
    "          'time': TIME_YEARLY\n",
    "         }\n",
    "\n",
    "# sending get request to ohsome API \n",
    "res = requests.get(OHSOME_API+\"/elements/count/groupBy/boundary\", params)\n",
    "\n",
    "display(HTML('<h4>ohsome API request</h4>'))\n",
    "display(res.url)\n",
    "\n",
    "# extracting data in json format and storing it in a dataframe\n",
    "df = pd.DataFrame(res.json()['groupByResult'])\n",
    "\n",
    "display(HTML('<h4>API response</h4>'))\n",
    "display(df.head(10))\n",
    "\n",
    "display(HTML('<h4>API response: result for hd</h4>'))\n",
    "display(pd.DataFrame(df.result[0]).head(10))\n",
    "\n",
    "# plotting the result\n",
    "result1=pd.DataFrame(df.result[0])\n",
    "trace1 = go.Bar(\n",
    "    x=result1.timestamp,\n",
    "    y=result1.value,\n",
    "    name=df.groupByObject[0]\n",
    ")\n",
    "\n",
    "result2=pd.DataFrame(df.result[1])\n",
    "trace2 = go.Bar(\n",
    "    x=result2.timestamp,\n",
    "    y=result2.value,\n",
    "    name=df.groupByObject[1]\n",
    ")\n",
    "\n",
    "result3=pd.DataFrame(df.result[2])\n",
    "trace3 = go.Bar(\n",
    "    x=result3.timestamp,\n",
    "    y=result3.value,\n",
    "    name=df.groupByObject[2]\n",
    ")\n",
    "\n",
    "data = [trace1, trace2, trace3]\n",
    "layout = go.Layout(\n",
    "    title='Number of OSM buildings in Heidelberg, Mannheim and Ludwigshafen',\n",
    "    barmode='group',\n",
    "    legend = dict(\n",
    "        orientation = \"h\")\n",
    ")\n",
    "\n",
    "fig = go.Figure(data=data, layout=layout)\n",
    "py.iplot(fig, filename='groupBy')"
   ]
  },
  {
   "cell_type": "markdown",
   "metadata": {},
   "source": [
    "More examples will follow. Stay tuned!"
   ]
  }
 ],
 "metadata": {
  "kernelspec": {
   "display_name": "Python 3",
   "language": "python",
   "name": "python3"
  },
  "language_info": {
   "codemirror_mode": {
    "name": "ipython",
    "version": 3
   },
   "file_extension": ".py",
   "mimetype": "text/x-python",
   "name": "python",
   "nbconvert_exporter": "python",
   "pygments_lexer": "ipython3",
   "version": "3.6.6"
  }
 },
 "nbformat": 4,
 "nbformat_minor": 2
}
