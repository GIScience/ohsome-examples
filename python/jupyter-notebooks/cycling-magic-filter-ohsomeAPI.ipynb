{
 "cells": [
  {
   "cell_type": "markdown",
   "metadata": {},
   "source": [
    "# How to become ohsome part 8 - complex analysis with the magical filter parameter\n",
    "\n",
    "## \"CITY CYCLING\" is going on - looking for cycleways in OSM for the city of Heidelberg \n",
    "It’s CITY CYCLING time – some of you may even be involved in your municipality - a good opportunity to have a look on the OpenStreetMap (OSM) cycling ways in our city Heidelberg.\n",
    "\n",
    "Welcome to part 8 of our how to become ohsome blog post series. This time we will show you how to set up a more complex filter with several OR and AND combinations for the ohsome API to get the length of the mapped cycling ways in OSM. Like in part 4 of our series, we will again show you in a Jupyter Notebook how you can use Python to make this nice complex ohsome query and visualization in one go.\n",
    "\n",
    "\n",
    "## 1 Import Python Packages"
   ]
  },
  {
   "cell_type": "code",
   "execution_count": 1,
   "metadata": {},
   "outputs": [],
   "source": [
    "#The analyses and visualization of results are conducted using Python and relevant libraries\n",
    "\n",
    "#Import \"request\" HTTP library to enable easier HTTP handling, see http://docs.python-requests.org/en/master/\n",
    "import requests\n",
    "\n",
    "#Import \"json\" package for encoding and decoding JSON data, see https://docs.python.org/3/library/json.html\n",
    "import json\n",
    "\n",
    "#Import \"datetime\" and \"time\" module to enable time-related functionalities, see https://docs.python.org/2/library/time.html\n",
    "import datetime\n",
    "import time\n",
    "\n",
    "#Import \"panda\" library for data manipulation and analysis, see https://pandas.pydata.org/\n",
    "import pandas as pd\n",
    "pd.set_option('max_colwidth',100)\n",
    "import matplotlib.pyplot as plt\n",
    "\n",
    "# ipyleaflet: Interactive maps in the Jupyter notebook\n",
    "from ipyleaflet import Map, GeoJSON"
   ]
  },
  {
   "cell_type": "markdown",
   "metadata": {},
   "source": [
    "## 2 Declaring helper function for POST request url:"
   ]
  },
  {
   "cell_type": "code",
   "execution_count": 15,
   "metadata": {},
   "outputs": [],
   "source": [
    "def elements(agg,**params):\n",
    "    res = requests.post(\"https://api.ohsome.org/v1/elements\"+agg,params)\n",
    "    return res"
   ]
  },
  {
   "cell_type": "markdown",
   "metadata": {},
   "source": [
    "## 3 Define parameters of the POST request"
   ]
  },
  {
   "cell_type": "markdown",
   "metadata": {},
   "source": [
    "### Heidelberg geojson"
   ]
  },
  {
   "cell_type": "code",
   "execution_count": 3,
   "metadata": {},
   "outputs": [],
   "source": [
    "# Heidelberg boundary as geojson, because of the size, data are stored in an external file which can \n",
    "# be found here https://github.com/GIScience/ohsome-examples/blob/master/python/jupyter-notebooks/HD.geojson\n",
    "with open('HD.geojson') as f:   \n",
    "    bpolys = (f.read())\n"
   ]
  },
  {
   "cell_type": "markdown",
   "metadata": {},
   "source": [
    "### Define timespan and period"
   ]
  },
  {
   "cell_type": "code",
   "execution_count": 4,
   "metadata": {},
   "outputs": [],
   "source": [
    "#Define temporal filter, make sure to use ISO-8601 conform timestrings\n",
    "start_date = '2007-10-08T00:00:01Z'\n",
    "end_date = '2020-06-29T03:00:00Z'\n",
    "time_interval = 'P1M' \n"
   ]
  },
  {
   "attachments": {},
   "cell_type": "markdown",
   "metadata": {},
   "source": [
    "### Define complex tag filter to get all cycleways\n",
    "There exist more than one way to tag cycle ways, lanes or paths in OSM, described for example on [this](https://wiki.openstreetmap.org/wiki/DE:Bicycle/Radverkehrsanlagen_kartieren) wiki page. Instead of requesting every possible tag and probably get ways twice, with the new filter all combinations of tags that can be used to declare a cycle way in OSM can be requested at once and at the same time prevent ways from being counted twice."
   ]
  },
  {
   "cell_type": "code",
   "execution_count": 13,
   "metadata": {},
   "outputs": [],
   "source": [
    "# Define filter for getting all types of cycleways and paths in OSM \n",
    "filterCycle = 'type:way and ((bicycle=use_sidepath) or (cycleway=opposite and oneway:bicycle=no) or (sidewalk:right:bicycle=yes) or (cycleway:right=shared_lane) or (cycleway:left=track) or (cycleway:right=track) or (highway=track and bicycle=designated and motor_vehicle=no) or (highway=path and bicycle=yes) or (highway=path and (bicycle=designated or bicycle=official)) or (highway=service and (bicycle=designated or motor_vehicle=no)) or (highway=pedestrian and (bicycle=yes or bicycle=official)) or (highway=footway and (bicycle=yes or bicycle=official)) or (highway=cycleway) or (cycleway in (lane, opposite_lane, shared_busway, track, opposite_track)) or (cycleway:left in (lane, shared_busway)) or (cycleway:right in (lane, shared_busway)) or (cycleway:both=lane) or (bicycle_road=yes and (motor_vehicle=no or  bicycle=designated)) or (cyclestreet=yes))'\n"
   ]
  },
  {
   "cell_type": "markdown",
   "metadata": {},
   "source": [
    "## 4 Send POST request to ohsme API and plot result"
   ]
  },
  {
   "cell_type": "code",
   "execution_count": 16,
   "metadata": {},
   "outputs": [
    {
     "data": {
      "image/png": "[encoded data removed]",
      "text/plain": [
       "<Figure size 720x360 with 1 Axes>"
      ]
     },
     "metadata": {
      "needs_background": "light"
     },
     "output_type": "display_data"
    }
   ],
   "source": [
    "# Send  post request to ohsome api,save response and plot result\n",
    "def length(filter):\n",
    "    res = elements(\"/length\"\n",
    "    ,filter=filter\n",
    "    ,bpolys=bpolys\n",
    "    ,time= f'{start_date}/{end_date}/{time_interval}')\n",
    "    body = res.json()\n",
    "    df = pd.DataFrame(body['result'])\n",
    "    df.value = df.value/1000 # length is coming in meters, we want to plot km on axis\n",
    "    df.timestamp = pd.to_datetime(df.timestamp)\n",
    "    df.rename(columns={'value':\"Cycleways\" },inplace=True)\n",
    "    df.set_index('timestamp', inplace=True)  \n",
    "    df.plot(title=\"Cycleways in OpenStreetMap in Heidelberg\",figsize=(10,5))# plotting the result\n",
    "\n",
    "length(filterCycle)"
   ]
  },
  {
   "cell_type": "markdown",
   "metadata": {},
   "source": [
    "## 5 Get cycleway data from ohsome API"
   ]
  },
  {
   "cell_type": "code",
   "execution_count": 17,
   "metadata": {},
   "outputs": [],
   "source": [
    "# Send  post request to ohsome api data extraction, save response geojson and show result on a map\n",
    "def getGeom(filter):\n",
    "    res = elements(\"/geometry\"\n",
    "    ,filter=filter\n",
    "    ,bpolys=bpolys\n",
    "    ,time= '2020-06-29')\n",
    "    body = res.json()\n",
    "    return body\n",
    "cycleGeojson = getGeom(filterCycle)  "
   ]
  },
  {
   "cell_type": "markdown",
   "metadata": {
    "scrolled": true
   },
   "source": [
    "## 6 Display cycleways on a Web Map"
   ]
  },
  {
   "cell_type": "code",
   "execution_count": 18,
   "metadata": {},
   "outputs": [
    {
     "data": {
      "application/vnd.jupyter.widget-view+json": {
       "model_id": "9c06f48645144995907b1233569a154d",
       "version_major": 2,
       "version_minor": 0
      },
      "text/plain": [
       "Map(center=[49.4101, 8.6831], controls=(ZoomControl(options=['position', 'zoom_in_text', 'zoom_in_title', 'zoo…"
      ]
     },
     "metadata": {},
     "output_type": "display_data"
    }
   ],
   "source": [
    "m = Map(center=(49.4101, 8.6831), zoom=14)\n",
    "\n",
    "geo_json = GeoJSON(data=cycleGeojson)\n",
    "\n",
    "m.add_layer(geo_json)\n",
    "\n",
    "m"
   ]
  },
  {
   "cell_type": "markdown",
   "metadata": {},
   "source": [
    "To see the map open the notebook in [nbviewer](https://nbviewer.jupyter.org/github/GIScience/ohsome-examples/blob/master/python/jupyter-notebooks/cycling-magic-filter-ohsomeAPI.ipynb)"
   ]
  }
 ],
 "metadata": {
  "kernelspec": {
   "display_name": "Python 3",
   "language": "python",
   "name": "python3"
  },
  "language_info": {
   "codemirror_mode": {
    "name": "ipython",
    "version": 3
   },
   "file_extension": ".py",
   "mimetype": "text/x-python",
   "name": "python",
   "nbconvert_exporter": "python",
   "pygments_lexer": "ipython3",
   "version": "3.7.6"
  }
 },
 "nbformat": 4,
 "nbformat_minor": 2
}
